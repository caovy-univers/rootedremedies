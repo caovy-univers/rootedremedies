{
 "cells": [
  {
   "cell_type": "markdown",
   "id": "9e26b735",
   "metadata": {},
   "source": [
    "# 🤖 Predictive Model Performance\n",
    "## How do you decide which predictive model to use?\n",
    "In this notebook, we evaluate several machine learning models to predict whether a plant has medicinal properties based on its taxonomy and other descriptive features. Below is a brief overview of the models used and how they conceptually approach the classification task:\n",
    "\n",
    "### 1. **Logistic Regression**\n",
    "- **Type**: Linear model\n",
    "- **Concept**: Estimates the probability that a plant is medicinal using a weighted combination of input features.\n",
    "- **Strengths**: Simple, interpretable, fast.\n",
    "- **Limitations**: Assumes a linear relationship between features and the log-odds of the outcome; struggles with complex patterns.\n",
    "\n",
    "### 2. **Decision Tree**\n",
    "- **Type**: Non-linear, rule-based\n",
    "- **Concept**: Splits the data into branches based on feature thresholds to arrive at a prediction at the leaves.\n",
    "- **Strengths**: Easy to visualize and understand; captures non-linear relationships.\n",
    "- **Limitations**: Can overfit the training data if not pruned or regularized.\n",
    "\n",
    "### 3. **Random Forest**\n",
    "- **Type**: Ensemble (of decision trees)\n",
    "- **Concept**: Trains multiple decision trees on different subsets of the data and averages their predictions to reduce variance.\n",
    "- **Strengths**: More accurate and robust than a single tree; reduces overfitting.\n",
    "- **Limitations**: Less interpretable; slower than simpler models.\n",
    "\n",
    "### 4. **Gradient Boosting (e.g., GBT)**\n",
    "- **Type**: Ensemble (boosted decision trees)\n",
    "- **Concept**: Trains trees sequentially, where each tree corrects the errors of the previous one using gradient descent.\n",
    "- **Strengths**: High accuracy; handles complex patterns well.\n",
    "- **Limitations**: Can overfit if not tuned properly; computationally intensive.\n",
    "\n",
    "### 5. **Support Vector Machine (SVM)**\n",
    "- **Type**: Maximum-margin classifier\n",
    "- **Concept**: Finds the optimal boundary (hyperplane) that best separates medicinal from non-medicinal plants by maximizing the margin between classes.\n",
    "- **Strengths**: Works well in high-dimensional spaces; robust to overfitting.\n",
    "- **Limitations**: Not ideal for large datasets; performance depends on kernel choice.\n",
    "\n",
    "### 6. **XGBoost**\n",
    "- **Type**: Gradient-boosted tree ensemble (optimized)\n",
    "- **Concept**: An efficient and regularized implementation of gradient boosting that adds boosting trees iteratively to correct previous errors.\n",
    "- **Strengths**: Often state-of-the-art in structured data problems; fast and scalable.\n",
    "- **Limitations**: Complex; requires tuning; less interpretable.\n",
    "\n",
    "---\n",
    "\n",
    "Each model captures different aspects of the underlying patterns in the data. By comparing their performance across different evaluation strategies (e.g., with SMOTE and downsampling), we aim to identify not only which models are accurate, but also which ones are most robust under real-world conditions.\n"
   ]
  },
  {
   "cell_type": "code",
   "execution_count": 1,
   "id": "cfc63346",
   "metadata": {},
   "outputs": [],
   "source": [
    "import pandas as pd\n",
    "import numpy as np\n",
    "import matplotlib.pyplot as plt\n",
    "import seaborn as sns\n",
    "import ast\n",
    "\n",
    "from sklearn.model_selection import train_test_split\n",
    "from sklearn.preprocessing import LabelEncoder, StandardScaler\n",
    "from sklearn.metrics import classification_report, confusion_matrix, auc, roc_curve\n",
    "from sklearn.linear_model import LogisticRegression\n",
    "from sklearn.tree import DecisionTreeClassifier\n",
    "from sklearn.ensemble import RandomForestClassifier, GradientBoostingClassifier\n",
    "from sklearn.svm import SVC\n",
    "import pandas as pd\n",
    "import plotly.express as px\n",
    "import ipywidgets as widgets\n",
    "from IPython.display import display\n",
    "from sklearn.utils.class_weight import compute_class_weight\n",
    "from imblearn.over_sampling import SMOTE\n",
    "from collections import Counter\n",
    "from xgboost import XGBClassifier\n",
    "import matplotlib.pyplot as plt\n",
    "from sklearn.metrics import confusion_matrix, ConfusionMatrixDisplay\n",
    "from sklearn.preprocessing import LabelEncoder\n",
    "from imblearn.under_sampling import RandomUnderSampler\n",
    "from sklearn.model_selection import train_test_split\n",
    "from collections import Counter\n",
    "from sklearn.linear_model import LogisticRegression\n",
    "from sklearn.tree import DecisionTreeClassifier\n",
    "from sklearn.ensemble import RandomForestClassifier, GradientBoostingClassifier\n",
    "from sklearn.svm import SVC\n",
    "from xgboost import XGBClassifier\n",
    "from sklearn.preprocessing import MultiLabelBinarizer\n",
    "\n",
    "\n",
    "\n",
    "import warnings\n",
    "warnings.filterwarnings('ignore')"
   ]
  },
  {
   "cell_type": "code",
   "execution_count": 2,
   "id": "8fe0421e",
   "metadata": {},
   "outputs": [],
   "source": [
    "#####################################\n",
    "# DATA LOADING\n",
    "#####################################\n",
    "#Load the pfaf_plants_merged.csv file\n",
    "df = pd.read_csv('pfaf_plants_merged.csv')\n",
    "df_countries = pd.read_excel('plants_native_countries.xlsx')\n",
    "df_countries = df_countries.rename(columns={'Scientific name': 'Scientific Name'})\n",
    "#df_countries.head()\n",
    "# Add 'native countries' column to the main dataframe\n",
    "countries = df_countries[['Family', 'native_countries']]\n",
    "df = df.merge(countries, on='Family', how='left')\n",
    "df.head()\n",
    "# Drop rows where 'native_countries' is NaN\n",
    "df = df.dropna(subset=['native_countries'])\n",
    "# Drop duplicate rows based on 'Scientific Name'\n",
    "df = df.drop_duplicates(subset=['Scientific Name'])"
   ]
  },
  {
   "cell_type": "code",
   "execution_count": 3,
   "id": "f5635311",
   "metadata": {},
   "outputs": [
    {
     "name": "stdout",
     "output_type": "stream",
     "text": [
      "Groups retained (>=50 samples):\n",
      "medicinal_group\n",
      "tonic          604\n",
      "stomachic      551\n",
      "skin           212\n",
      "astringent     178\n",
      "diuretic       168\n",
      "poultice       158\n",
      "febrifuge      158\n",
      "sedative       152\n",
      "miscellany     134\n",
      "vermifuge      129\n",
      "ophthalmic     114\n",
      "styptic         86\n",
      "hypotensive     81\n",
      "stimulant       78\n",
      "laxative        77\n",
      "salve           75\n",
      "purgative       73\n",
      "pectoral        60\n",
      "Name: count, dtype: int64 \n",
      "\n"
     ]
    }
   ],
   "source": [
    "#####################################\n",
    "# DATA PREPROCESSING WITH GROUPING\n",
    "# ----------- Using Down-Sampling -----------\n",
    "#####################################\n",
    "\n",
    "from sklearn.preprocessing import LabelEncoder\n",
    "from imblearn.over_sampling import SMOTE\n",
    "from sklearn.model_selection import train_test_split\n",
    "\n",
    "# Drop rows with missing key info\n",
    "df = df.dropna(subset=[\n",
    "    'Family', 'Scientific Name', \n",
    "    'medicinal_rating_search', 'use_keyword'\n",
    "])\n",
    "df.columns = df.columns.str.strip()\n",
    "\n",
    "# Filter only medicinal plants & extract first medicinal property\n",
    "df = df[df['medicinal_rating_search'] > 0]\n",
    "df['medicinal_property'] = (\n",
    "    df['use_keyword']\n",
    "      .astype(str)\n",
    "      .str.lower()\n",
    "      .str.split(';|,')\n",
    "      .str[0]\n",
    "      .str.strip()\n",
    ")\n",
    "\n",
    "# Rename features\n",
    "df = df.rename(columns={\n",
    "    'Edibility Rating': 'edibility',\n",
    "    'Other Uses Rating': 'other_uses'\n",
    "})\n",
    "\n",
    "# Drop any rows missing our core features\n",
    "df = df.dropna(subset=[\n",
    "    'Family', 'Scientific Name', \n",
    "    'medicinal_property', 'edibility', 'other_uses', 'native_countries'\n",
    "])\n",
    "\n",
    "# Map properties to groups (identity here)\n",
    "df['medicinal_group'] = df['medicinal_property']\n",
    "df = df.dropna(subset=['medicinal_group'])\n",
    "\n",
    "# Encode categorical 'Family'\n",
    "df['Family'] = LabelEncoder().fit_transform(df['Family'])\n",
    "\n",
    "# ---- NEW: keep only groups with ≥ 50 samples ----\n",
    "group_counts = df['medicinal_group'].value_counts()\n",
    "keep_groups  = group_counts[group_counts >= 50].index\n",
    "df = df[df['medicinal_group'].isin(keep_groups)]\n",
    "print(\"Groups retained (>=50 samples):\")\n",
    "print(df['medicinal_group'].value_counts(), \"\\n\")\n",
    "\n",
    "# At this point you have df and y_encoded\n",
    "label_encoder = LabelEncoder()\n",
    "y_encoded     = label_encoder.fit_transform(df['medicinal_group'])\n",
    "\n",
    "# --- NEW: Parse and binarize the multi-label country lists ---\n",
    "# If native_countries is stored as a string repr of a list, first turn it into an actual list:\n",
    "df['native_countries'] = df['native_countries'].apply(\n",
    "    lambda x: ast.literal_eval(x) if isinstance(x, str) else x\n",
    ")\n",
    "\n",
    "# Fit the MultiLabelBinarizer on your full dataset\n",
    "mlb = MultiLabelBinarizer()\n",
    "country_dummies = pd.DataFrame(\n",
    "    mlb.fit_transform(df['native_countries']),\n",
    "    columns=mlb.classes_,\n",
    "    index=df.index\n",
    ")\n",
    "\n",
    "# Combine with your other numeric features\n",
    "X_other = df[['Family', 'edibility', 'other_uses']]\n",
    "X_full  = pd.concat([X_other, country_dummies], axis=1)\n",
    "\n",
    "# 2) Apply SMOTE on the fully numeric matrix\n",
    "sm = SMOTE(random_state=42, k_neighbors=1)\n",
    "X_resampled, y_resampled = sm.fit_resample(X_full, y_encoded)\n",
    "\n",
    "# 3) Train / test split\n",
    "X_train, X_test, y_train, y_test = train_test_split(\n",
    "    X_resampled, y_resampled,\n",
    "    test_size=0.2,\n",
    "    random_state=42,\n",
    "    stratify=y_resampled\n",
    ")"
   ]
  },
  {
   "cell_type": "code",
   "execution_count": 4,
   "id": "dc8f67cb",
   "metadata": {},
   "outputs": [
    {
     "name": "stdout",
     "output_type": "stream",
     "text": [
      "\n",
      "=== Logistic Regression ===\n",
      "              precision    recall  f1-score   support\n",
      "\n",
      "  astringent       0.65      0.39      0.49       120\n",
      "    diuretic       0.32      0.31      0.32       120\n",
      "   febrifuge       0.26      0.46      0.33       121\n",
      " hypotensive       0.37      0.83      0.51       121\n",
      "    laxative       0.14      0.25      0.18       121\n",
      "  miscellany       0.27      0.16      0.20       121\n",
      "  ophthalmic       0.11      0.08      0.09       121\n",
      "    pectoral       0.13      0.09      0.11       121\n",
      "    poultice       0.25      0.13      0.17       120\n",
      "   purgative       0.26      0.40      0.32       121\n",
      "       salve       0.16      0.11      0.13       121\n",
      "    sedative       0.25      0.32      0.28       121\n",
      "        skin       0.29      0.26      0.28       121\n",
      "   stimulant       0.25      0.31      0.28       121\n",
      "   stomachic       0.19      0.13      0.15       121\n",
      "     styptic       0.19      0.21      0.20       121\n",
      "       tonic       0.18      0.02      0.03       121\n",
      "   vermifuge       0.30      0.17      0.22       121\n",
      "\n",
      "    accuracy                           0.26      2175\n",
      "   macro avg       0.25      0.26      0.24      2175\n",
      "weighted avg       0.25      0.26      0.24      2175\n",
      "\n",
      "\n",
      "=== Decision Tree ===\n",
      "              precision    recall  f1-score   support\n",
      "\n",
      "  astringent       0.67      0.72      0.69       120\n",
      "    diuretic       0.68      0.60      0.64       120\n",
      "   febrifuge       0.72      0.69      0.70       121\n",
      " hypotensive       0.76      0.97      0.85       121\n",
      "    laxative       0.61      0.80      0.70       121\n",
      "  miscellany       0.59      0.65      0.62       121\n",
      "  ophthalmic       0.62      0.48      0.54       121\n",
      "    pectoral       0.72      0.80      0.76       121\n",
      "    poultice       0.68      0.56      0.61       120\n",
      "   purgative       0.78      0.83      0.81       121\n",
      "       salve       0.78      0.61      0.69       121\n",
      "    sedative       0.60      0.64      0.62       121\n",
      "        skin       0.57      0.51      0.54       121\n",
      "   stimulant       0.77      0.71      0.74       121\n",
      "   stomachic       0.31      0.22      0.26       121\n",
      "     styptic       0.52      0.74      0.61       121\n",
      "       tonic       0.33      0.23      0.27       121\n",
      "   vermifuge       0.61      0.68      0.64       121\n",
      "\n",
      "    accuracy                           0.64      2175\n",
      "   macro avg       0.63      0.64      0.63      2175\n",
      "weighted avg       0.63      0.64      0.63      2175\n",
      "\n",
      "\n",
      "=== Random Forest ===\n",
      "              precision    recall  f1-score   support\n",
      "\n",
      "  astringent       0.64      0.74      0.68       120\n",
      "    diuretic       0.66      0.59      0.63       120\n",
      "   febrifuge       0.79      0.66      0.72       121\n",
      " hypotensive       0.78      0.96      0.86       121\n",
      "    laxative       0.63      0.78      0.70       121\n",
      "  miscellany       0.60      0.67      0.64       121\n",
      "  ophthalmic       0.61      0.47      0.53       121\n",
      "    pectoral       0.74      0.83      0.78       121\n",
      "    poultice       0.64      0.54      0.59       120\n",
      "   purgative       0.77      0.83      0.80       121\n",
      "       salve       0.72      0.62      0.67       121\n",
      "    sedative       0.59      0.65      0.62       121\n",
      "        skin       0.58      0.53      0.55       121\n",
      "   stimulant       0.81      0.74      0.78       121\n",
      "   stomachic       0.38      0.27      0.32       121\n",
      "     styptic       0.56      0.74      0.63       121\n",
      "       tonic       0.32      0.25      0.28       121\n",
      "   vermifuge       0.62      0.69      0.66       121\n",
      "\n",
      "    accuracy                           0.64      2175\n",
      "   macro avg       0.64      0.64      0.63      2175\n",
      "weighted avg       0.64      0.64      0.63      2175\n",
      "\n",
      "\n",
      "=== Gradient Boosting ===\n",
      "              precision    recall  f1-score   support\n",
      "\n",
      "  astringent       0.56      0.66      0.61       120\n",
      "    diuretic       0.41      0.53      0.46       120\n",
      "   febrifuge       0.64      0.52      0.58       121\n",
      " hypotensive       0.68      0.93      0.78       121\n",
      "    laxative       0.47      0.59      0.52       121\n",
      "  miscellany       0.39      0.42      0.40       121\n",
      "  ophthalmic       0.46      0.36      0.41       121\n",
      "    pectoral       0.50      0.71      0.59       121\n",
      "    poultice       0.51      0.33      0.40       120\n",
      "   purgative       0.58      0.74      0.65       121\n",
      "       salve       0.48      0.52      0.50       121\n",
      "    sedative       0.51      0.46      0.48       121\n",
      "        skin       0.42      0.31      0.36       121\n",
      "   stimulant       0.44      0.43      0.44       121\n",
      "   stomachic       0.33      0.21      0.26       121\n",
      "     styptic       0.45      0.43      0.44       121\n",
      "       tonic       0.39      0.28      0.33       121\n",
      "   vermifuge       0.58      0.56      0.57       121\n",
      "\n",
      "    accuracy                           0.50      2175\n",
      "   macro avg       0.49      0.50      0.49      2175\n",
      "weighted avg       0.49      0.50      0.49      2175\n",
      "\n",
      "\n",
      "=== SVM ===\n",
      "              precision    recall  f1-score   support\n",
      "\n",
      "  astringent       0.10      0.54      0.16       120\n",
      "    diuretic       0.07      0.24      0.11       120\n",
      "   febrifuge       0.09      0.04      0.06       121\n",
      " hypotensive       0.15      0.85      0.25       121\n",
      "    laxative       0.12      0.19      0.15       121\n",
      "  miscellany       0.00      0.00      0.00       121\n",
      "  ophthalmic       0.00      0.00      0.00       121\n",
      "    pectoral       0.00      0.00      0.00       121\n",
      "    poultice       0.00      0.00      0.00       120\n",
      "   purgative       0.00      0.00      0.00       121\n",
      "       salve       0.00      0.00      0.00       121\n",
      "    sedative       0.00      0.00      0.00       121\n",
      "        skin       0.13      0.17      0.15       121\n",
      "   stimulant       0.00      0.00      0.00       121\n",
      "   stomachic       0.00      0.00      0.00       121\n",
      "     styptic       0.00      0.00      0.00       121\n",
      "       tonic       0.00      0.00      0.00       121\n",
      "   vermifuge       0.00      0.00      0.00       121\n",
      "\n",
      "    accuracy                           0.11      2175\n",
      "   macro avg       0.04      0.11      0.05      2175\n",
      "weighted avg       0.04      0.11      0.05      2175\n",
      "\n",
      "\n",
      "=== XGBoost ===\n",
      "              precision    recall  f1-score   support\n",
      "\n",
      "  astringent       0.68      0.69      0.69       120\n",
      "    diuretic       0.66      0.59      0.63       120\n",
      "   febrifuge       0.75      0.64      0.69       121\n",
      " hypotensive       0.78      0.96      0.86       121\n",
      "    laxative       0.64      0.83      0.72       121\n",
      "  miscellany       0.54      0.60      0.56       121\n",
      "  ophthalmic       0.63      0.50      0.56       121\n",
      "    pectoral       0.68      0.84      0.76       121\n",
      "    poultice       0.55      0.47      0.51       120\n",
      "   purgative       0.77      0.83      0.80       121\n",
      "       salve       0.69      0.65      0.67       121\n",
      "    sedative       0.61      0.63      0.62       121\n",
      "        skin       0.59      0.52      0.56       121\n",
      "   stimulant       0.80      0.75      0.77       121\n",
      "   stomachic       0.35      0.23      0.28       121\n",
      "     styptic       0.54      0.78      0.64       121\n",
      "       tonic       0.38      0.30      0.33       121\n",
      "   vermifuge       0.66      0.63      0.64       121\n",
      "\n",
      "    accuracy                           0.64      2175\n",
      "   macro avg       0.63      0.64      0.63      2175\n",
      "weighted avg       0.63      0.64      0.63      2175\n",
      "\n"
     ]
    },
    {
     "data": {
      "application/vnd.jupyter.widget-view+json": {
       "model_id": "e8555550dedb4a98a0f76a938fe8e552",
       "version_major": 2,
       "version_minor": 0
      },
      "text/plain": [
       "Tab(children=(Output(), Output(), Output(), Output(), Output(), Output()), selected_index=0, titles=('Logistic…"
      ]
     },
     "metadata": {},
     "output_type": "display_data"
    }
   ],
   "source": [
    "#####################################\n",
    "# MODEL TRAINING AND EVALUATION\n",
    "#####################################\n",
    "# Optional second round of SMOTE\n",
    "use_smote = False  # Set to True if you want to apply SMOTE again\n",
    "if use_smote:\n",
    "    print(\"Before SMOTE:\", Counter(y_train))\n",
    "    sm = SMOTE(random_state=42)\n",
    "    X_train_res, y_train_res = sm.fit_resample(X_train, y_train)\n",
    "    print(\"After SMOTE:\", Counter(y_train_res))\n",
    "    scale_pos_weight = 1\n",
    "else:\n",
    "    X_train_res, y_train_res = X_train, y_train\n",
    "    # Only valid for binary targets; unused here\n",
    "    scale_pos_weight = 1\n",
    "\n",
    "# Define models\n",
    "models = {\n",
    "    'Logistic Regression': LogisticRegression(max_iter=1000, class_weight='balanced'),\n",
    "    'Decision Tree': DecisionTreeClassifier(class_weight='balanced'),\n",
    "    'Random Forest': RandomForestClassifier(class_weight='balanced'),\n",
    "    'Gradient Boosting': GradientBoostingClassifier(),  # doesn't support class_weight\n",
    "    'SVM': SVC(probability=True, class_weight='balanced'),\n",
    "    'XGBoost': XGBClassifier(use_label_encoder=False, eval_metric='logloss')\n",
    "}\n",
    "\n",
    "results = {}\n",
    "\n",
    "for name, model in models.items():\n",
    "    model.fit(X_train_res, y_train_res)\n",
    "    y_pred = model.predict(X_test)\n",
    "    \n",
    "    # Decode back to original string labels\n",
    "    y_test_decoded = label_encoder.inverse_transform(y_test)\n",
    "    y_pred_decoded = label_encoder.inverse_transform(y_pred)\n",
    "    \n",
    "    # Only binary metrics use proba; skip for now\n",
    "    y_proba = None\n",
    "\n",
    "    # Save results\n",
    "    results[name] = {\n",
    "        'model': model,\n",
    "        'pred': y_pred_decoded,\n",
    "        'proba': y_proba,\n",
    "        'report': classification_report(y_test_decoded, y_pred_decoded, output_dict=True)\n",
    "    }\n",
    "\n",
    "    # Print readable classification report\n",
    "    print(f\"\\n=== {name} ===\")\n",
    "    print(classification_report(y_test_decoded, y_pred_decoded))\n",
    "\n",
    "df_smote_results = results\n",
    "\n",
    "# Build a Tab, one child per model\n",
    "tabs = widgets.Tab()\n",
    "children = []\n",
    "titles   = []\n",
    "\n",
    "for name, result in results.items():\n",
    "    out = widgets.Output()\n",
    "    with out:\n",
    "        # Decode predictions & truth\n",
    "        y_pred_decoded = result['pred']\n",
    "        y_test_decoded = label_encoder.inverse_transform(y_test)\n",
    "\n",
    "        # Compute CM\n",
    "        cm = confusion_matrix(\n",
    "            y_test_decoded,\n",
    "            y_pred_decoded,\n",
    "            labels=label_encoder.classes_\n",
    "        )\n",
    "        disp = ConfusionMatrixDisplay(\n",
    "            confusion_matrix=cm,\n",
    "            display_labels=label_encoder.classes_\n",
    "        )\n",
    "\n",
    "        # Plot\n",
    "        fig, ax = plt.subplots(figsize=(8,8))\n",
    "        disp.plot(ax=ax, xticks_rotation='vertical', cmap='Blues')\n",
    "        ax.set_title(f\"Confusion Matrix — {name}\")\n",
    "        plt.tight_layout()\n",
    "        plt.show()\n",
    "\n",
    "    children.append(out)\n",
    "    titles.append(name)\n",
    "\n",
    "tabs.children = children\n",
    "for i, title in enumerate(titles):\n",
    "    tabs.set_title(i, title)\n",
    "\n",
    "display(tabs)"
   ]
  },
  {
   "cell_type": "code",
   "execution_count": 5,
   "id": "220b3d08",
   "metadata": {},
   "outputs": [
    {
     "name": "stdout",
     "output_type": "stream",
     "text": [
      "Groups retained (>=50 samples):\n",
      "medicinal_group\n",
      "tonic          604\n",
      "stomachic      551\n",
      "skin           212\n",
      "astringent     178\n",
      "diuretic       168\n",
      "poultice       158\n",
      "febrifuge      158\n",
      "sedative       152\n",
      "miscellany     134\n",
      "vermifuge      129\n",
      "ophthalmic     114\n",
      "styptic         86\n",
      "hypotensive     81\n",
      "stimulant       78\n",
      "laxative        77\n",
      "salve           75\n",
      "purgative       73\n",
      "pectoral        60\n",
      "Name: count, dtype: int64 \n",
      "\n"
     ]
    }
   ],
   "source": [
    "#####################################\n",
    "# DATA PREPROCESSING WITH GROUPING\n",
    "# ----------- Using Down-Sampling -----------\n",
    "#####################################\n",
    "\n",
    "from sklearn.preprocessing import LabelEncoder\n",
    "from imblearn.over_sampling import SMOTE\n",
    "from sklearn.model_selection import train_test_split\n",
    "\n",
    "# Drop rows with missing key info\n",
    "df = df.dropna(subset=[\n",
    "    'Family', 'Scientific Name', \n",
    "    'medicinal_rating_search', 'use_keyword'\n",
    "])\n",
    "df.columns = df.columns.str.strip()\n",
    "\n",
    "# Filter only medicinal plants & extract first medicinal property\n",
    "df = df[df['medicinal_rating_search'] > 0]\n",
    "df['medicinal_property'] = (\n",
    "    df['use_keyword']\n",
    "      .astype(str)\n",
    "      .str.lower()\n",
    "      .str.split(';|,')\n",
    "      .str[0]\n",
    "      .str.strip()\n",
    ")\n",
    "\n",
    "# Rename features\n",
    "df = df.rename(columns={\n",
    "    'Edibility Rating': 'edibility',\n",
    "    'Other Uses Rating': 'other_uses'\n",
    "})\n",
    "\n",
    "# Drop any rows missing our core features\n",
    "df = df.dropna(subset=[\n",
    "    'Family', 'Scientific Name', \n",
    "    'medicinal_property', 'edibility', 'other_uses', 'native_countries'\n",
    "])\n",
    "\n",
    "# Map properties to groups (identity here)\n",
    "df['medicinal_group'] = df['medicinal_property']\n",
    "df = df.dropna(subset=['medicinal_group'])\n",
    "\n",
    "# Encode categorical 'Family'\n",
    "df['Family'] = LabelEncoder().fit_transform(df['Family'])\n",
    "\n",
    "# ---- NEW: keep only groups with ≥ 50 samples ----\n",
    "group_counts = df['medicinal_group'].value_counts()\n",
    "keep_groups  = group_counts[group_counts >= 50].index\n",
    "df = df[df['medicinal_group'].isin(keep_groups)]\n",
    "print(\"Groups retained (>=50 samples):\")\n",
    "print(df['medicinal_group'].value_counts(), \"\\n\")\n",
    "\n",
    "# At this point you have df and y_encoded\n",
    "label_encoder = LabelEncoder()\n",
    "y_encoded     = label_encoder.fit_transform(df['medicinal_group'])\n",
    "\n",
    "# --- NEW: Parse and binarize the multi-label country lists ---\n",
    "# If native_countries is stored as a string repr of a list, first turn it into an actual list:\n",
    "df['native_countries'] = df['native_countries'].apply(\n",
    "    lambda x: ast.literal_eval(x) if isinstance(x, str) else x\n",
    ")\n",
    "\n",
    "# Fit the MultiLabelBinarizer on your full dataset\n",
    "mlb = MultiLabelBinarizer()\n",
    "country_dummies = pd.DataFrame(\n",
    "    mlb.fit_transform(df['native_countries']),\n",
    "    columns=mlb.classes_,\n",
    "    index=df.index\n",
    ")\n",
    "\n",
    "# Combine with your other numeric features\n",
    "X_other = df[['Family', 'edibility', 'other_uses']]\n",
    "X_full  = pd.concat([X_other, country_dummies], axis=1)\n",
    "\n",
    "# 2) Apply SMOTE on the fully numeric matrix\n",
    "rus = RandomUnderSampler(random_state=42)\n",
    "X_resampled, y_resampled = rus.fit_resample(X_full, y_encoded)\n",
    "\n",
    "# Finally, split into train/test\n",
    "# 3) Train / test split\n",
    "X_train, X_test, y_train, y_test = train_test_split(\n",
    "    X_resampled, y_resampled,\n",
    "    test_size=0.2,\n",
    "    random_state=42,\n",
    "    stratify=y_resampled\n",
    ")"
   ]
  },
  {
   "cell_type": "code",
   "execution_count": 6,
   "id": "013053b0",
   "metadata": {},
   "outputs": [
    {
     "name": "stdout",
     "output_type": "stream",
     "text": [
      "SMOTE used k_neighbors=47\n",
      "After SMOTE: Counter({4: 48, 1: 48, 9: 48, 0: 48, 6: 48, 12: 48, 7: 48, 8: 48, 16: 48, 17: 48, 13: 48, 2: 48, 11: 48, 14: 48, 15: 48, 5: 48, 10: 48, 3: 48})\n",
      "=== Logistic Regression ===\n",
      "              precision    recall  f1-score   support\n",
      "\n",
      "  astringent       0.14      0.17      0.15        12\n",
      "    diuretic       0.20      0.17      0.18        12\n",
      "   febrifuge       0.21      0.42      0.28        12\n",
      " hypotensive       0.24      0.58      0.34        12\n",
      "    laxative       0.00      0.00      0.00        12\n",
      "  miscellany       0.00      0.00      0.00        12\n",
      "  ophthalmic       0.00      0.00      0.00        12\n",
      "    pectoral       0.05      0.08      0.06        12\n",
      "    poultice       0.00      0.00      0.00        12\n",
      "   purgative       0.00      0.00      0.00        12\n",
      "       salve       0.00      0.00      0.00        12\n",
      "    sedative       0.17      0.42      0.24        12\n",
      "        skin       0.00      0.00      0.00        12\n",
      "   stimulant       0.17      0.08      0.11        12\n",
      "   stomachic       0.20      0.33      0.25        12\n",
      "     styptic       0.18      0.17      0.17        12\n",
      "       tonic       0.00      0.00      0.00        12\n",
      "   vermifuge       0.50      0.08      0.14        12\n",
      "\n",
      "    accuracy                           0.14       216\n",
      "   macro avg       0.11      0.14      0.11       216\n",
      "weighted avg       0.11      0.14      0.11       216\n",
      "\n",
      "=== Decision Tree ===\n",
      "              precision    recall  f1-score   support\n",
      "\n",
      "  astringent       0.33      0.33      0.33        12\n",
      "    diuretic       0.06      0.08      0.07        12\n",
      "   febrifuge       0.36      0.33      0.35        12\n",
      " hypotensive       0.47      0.67      0.55        12\n",
      "    laxative       0.12      0.08      0.10        12\n",
      "  miscellany       0.25      0.25      0.25        12\n",
      "  ophthalmic       0.00      0.00      0.00        12\n",
      "    pectoral       0.17      0.17      0.17        12\n",
      "    poultice       0.00      0.00      0.00        12\n",
      "   purgative       0.33      0.25      0.29        12\n",
      "       salve       0.00      0.00      0.00        12\n",
      "    sedative       0.17      0.17      0.17        12\n",
      "        skin       0.08      0.08      0.08        12\n",
      "   stimulant       0.07      0.08      0.07        12\n",
      "   stomachic       0.00      0.00      0.00        12\n",
      "     styptic       0.22      0.17      0.19        12\n",
      "       tonic       0.25      0.17      0.20        12\n",
      "   vermifuge       0.20      0.08      0.12        12\n",
      "\n",
      "    accuracy                           0.16       216\n",
      "   macro avg       0.17      0.16      0.16       216\n",
      "weighted avg       0.17      0.16      0.16       216\n",
      "\n",
      "=== Random Forest ===\n",
      "              precision    recall  f1-score   support\n",
      "\n",
      "  astringent       0.36      0.33      0.35        12\n",
      "    diuretic       0.13      0.17      0.15        12\n",
      "   febrifuge       0.44      0.33      0.38        12\n",
      " hypotensive       0.53      0.67      0.59        12\n",
      "    laxative       0.00      0.00      0.00        12\n",
      "  miscellany       0.31      0.42      0.36        12\n",
      "  ophthalmic       0.07      0.08      0.08        12\n",
      "    pectoral       0.23      0.25      0.24        12\n",
      "    poultice       0.14      0.08      0.11        12\n",
      "   purgative       0.14      0.17      0.15        12\n",
      "       salve       0.00      0.00      0.00        12\n",
      "    sedative       0.13      0.17      0.15        12\n",
      "        skin       0.09      0.08      0.09        12\n",
      "   stimulant       0.13      0.17      0.15        12\n",
      "   stomachic       0.00      0.00      0.00        12\n",
      "     styptic       0.09      0.08      0.09        12\n",
      "       tonic       0.10      0.08      0.09        12\n",
      "   vermifuge       0.25      0.17      0.20        12\n",
      "\n",
      "    accuracy                           0.18       216\n",
      "   macro avg       0.18      0.18      0.18       216\n",
      "weighted avg       0.18      0.18      0.18       216\n",
      "\n",
      "=== Gradient Boosting ===\n",
      "              precision    recall  f1-score   support\n",
      "\n",
      "  astringent       0.36      0.33      0.35        12\n",
      "    diuretic       0.12      0.17      0.14        12\n",
      "   febrifuge       0.40      0.33      0.36        12\n",
      " hypotensive       0.50      0.67      0.57        12\n",
      "    laxative       0.00      0.00      0.00        12\n",
      "  miscellany       0.36      0.33      0.35        12\n",
      "  ophthalmic       0.00      0.00      0.00        12\n",
      "    pectoral       0.08      0.08      0.08        12\n",
      "    poultice       0.00      0.00      0.00        12\n",
      "   purgative       0.25      0.25      0.25        12\n",
      "       salve       0.00      0.00      0.00        12\n",
      "    sedative       0.18      0.25      0.21        12\n",
      "        skin       0.33      0.17      0.22        12\n",
      "   stimulant       0.07      0.08      0.07        12\n",
      "   stomachic       0.07      0.08      0.08        12\n",
      "     styptic       0.17      0.17      0.17        12\n",
      "       tonic       0.00      0.00      0.00        12\n",
      "   vermifuge       0.25      0.25      0.25        12\n",
      "\n",
      "    accuracy                           0.18       216\n",
      "   macro avg       0.17      0.18      0.17       216\n",
      "weighted avg       0.17      0.18      0.17       216\n",
      "\n",
      "=== SVM ===\n",
      "              precision    recall  f1-score   support\n",
      "\n",
      "  astringent       0.08      0.50      0.13        12\n",
      "    diuretic       0.09      0.42      0.15        12\n",
      "   febrifuge       0.00      0.00      0.00        12\n",
      " hypotensive       0.10      0.67      0.17        12\n",
      "    laxative       0.00      0.00      0.00        12\n",
      "  miscellany       0.00      0.00      0.00        12\n",
      "  ophthalmic       0.00      0.00      0.00        12\n",
      "    pectoral       0.00      0.00      0.00        12\n",
      "    poultice       0.00      0.00      0.00        12\n",
      "   purgative       0.00      0.00      0.00        12\n",
      "       salve       0.00      0.00      0.00        12\n",
      "    sedative       0.00      0.00      0.00        12\n",
      "        skin       0.00      0.00      0.00        12\n",
      "   stimulant       0.00      0.00      0.00        12\n",
      "   stomachic       0.00      0.00      0.00        12\n",
      "     styptic       0.00      0.00      0.00        12\n",
      "       tonic       0.00      0.00      0.00        12\n",
      "   vermifuge       0.00      0.00      0.00        12\n",
      "\n",
      "    accuracy                           0.09       216\n",
      "   macro avg       0.01      0.09      0.03       216\n",
      "weighted avg       0.01      0.09      0.03       216\n",
      "\n",
      "=== XGBoost ===\n",
      "              precision    recall  f1-score   support\n",
      "\n",
      "  astringent       0.33      0.42      0.37        12\n",
      "    diuretic       0.11      0.17      0.13        12\n",
      "   febrifuge       0.40      0.33      0.36        12\n",
      " hypotensive       0.53      0.67      0.59        12\n",
      "    laxative       0.00      0.00      0.00        12\n",
      "  miscellany       0.36      0.33      0.35        12\n",
      "  ophthalmic       0.00      0.00      0.00        12\n",
      "    pectoral       0.07      0.08      0.08        12\n",
      "    poultice       0.00      0.00      0.00        12\n",
      "   purgative       0.30      0.25      0.27        12\n",
      "       salve       0.00      0.00      0.00        12\n",
      "    sedative       0.17      0.17      0.17        12\n",
      "        skin       0.08      0.08      0.08        12\n",
      "   stimulant       0.14      0.17      0.15        12\n",
      "   stomachic       0.00      0.00      0.00        12\n",
      "     styptic       0.12      0.08      0.10        12\n",
      "       tonic       0.11      0.08      0.10        12\n",
      "   vermifuge       0.11      0.17      0.13        12\n",
      "\n",
      "    accuracy                           0.17       216\n",
      "   macro avg       0.16      0.17      0.16       216\n",
      "weighted avg       0.16      0.17      0.16       216\n",
      "\n"
     ]
    },
    {
     "data": {
      "application/vnd.jupyter.widget-view+json": {
       "model_id": "3e210b2b92944558987c00ae940c0c3c",
       "version_major": 2,
       "version_minor": 0
      },
      "text/plain": [
       "Tab(children=(Output(), Output(), Output(), Output(), Output(), Output()), selected_index=0, titles=('Logistic…"
      ]
     },
     "metadata": {},
     "output_type": "display_data"
    }
   ],
   "source": [
    "#####################################\n",
    "# MODEL TRAINING AND EVALUATION\n",
    "#####################################\n",
    "# Set seed for reproducibility\n",
    "np.random.seed(42)\n",
    "from sklearn.utils.class_weight import compute_class_weight\n",
    "from imblearn.over_sampling import SMOTE\n",
    "from collections import Counter\n",
    "from xgboost import XGBClassifier\n",
    "\n",
    "# --- Optional: Apply SMOTE to training set ---\n",
    "use_smote = True  # Set to True because of the class imbalance in the dataset\n",
    "\n",
    "if use_smote:\n",
    "    # Check class distribution in y_train\n",
    "    class_counts = Counter(y_train)\n",
    "    min_class_size = min(class_counts.values())\n",
    "\n",
    "    # Set k_neighbors to one less than the smallest class count\n",
    "    # SMOTE requires: n_neighbors < min_class_size\n",
    "    k_neighbors = max(1, min_class_size - 1)  # Must be at least 1\n",
    "\n",
    "    # Apply SMOTE with adjusted k_neighbors\n",
    "    sm = SMOTE(random_state=42, k_neighbors=k_neighbors)\n",
    "    X_train_res, y_train_res = sm.fit_resample(X_train, y_train)\n",
    "\n",
    "    print(f\"SMOTE used k_neighbors={k_neighbors}\")\n",
    "    print(\"After SMOTE:\", Counter(y_train_res))\n",
    "else:\n",
    "    X_train_res, y_train_res = X_train, y_train\n",
    "    # Compute scale_pos_weight for XGBoost (used when not using SMOTE)\n",
    "    # Compute scale_pos_weight for XGBoost (used when not using SMOTE)\n",
    "    class_counts = np.bincount(y_train)\n",
    "    if len(class_counts) == 2:  # Binary classification\n",
    "        neg, pos = class_counts\n",
    "        scale_pos_weight = neg / pos\n",
    "    else:  # Multiclass classification\n",
    "        scale_pos_weight = 1  # Default value for multiclass\n",
    "\n",
    "# Define models with class_weight or equivalent\n",
    "models = {\n",
    "    'Logistic Regression': LogisticRegression(class_weight='balanced'),\n",
    "    'Decision Tree': DecisionTreeClassifier(class_weight='balanced'),\n",
    "    'Random Forest': RandomForestClassifier(class_weight='balanced'),\n",
    "    'Gradient Boosting': GradientBoostingClassifier(),  # Cannot set class_weight\n",
    "    'SVM': SVC(probability=True, class_weight='balanced'),\n",
    "    'XGBoost': XGBClassifier(use_label_encoder=False, eval_metric='logloss', scale_pos_weight=scale_pos_weight)\n",
    "}\n",
    "\n",
    "results = {}\n",
    "\n",
    "for name, model in models.items():\n",
    "    model.fit(X_train_res, y_train_res)\n",
    "    y_pred = model.predict(X_test)\n",
    "    y_proba = model.predict_proba(X_test)[:, 1] if hasattr(model, 'predict_proba') else None\n",
    "    y_pred_labels = label_encoder.inverse_transform(y_pred)\n",
    "    y_test_labels = label_encoder.inverse_transform(y_test)\n",
    "    results[name] = {\n",
    "        'model': model,\n",
    "        'pred': y_pred_labels,\n",
    "        'proba': y_proba,\n",
    "        'report': classification_report(y_test_labels, y_pred_labels, output_dict=True)\n",
    "    }\n",
    "    print(f\"=== {name} ===\")\n",
    "    # Decode numeric predictions back to strings\n",
    "    print(classification_report(y_test_labels, y_pred_labels))\n",
    "\n",
    "# Build a Tab, one child per model\n",
    "tabs = widgets.Tab()\n",
    "children = []\n",
    "titles   = []\n",
    "\n",
    "for name, result in results.items():\n",
    "    out = widgets.Output()\n",
    "    with out:\n",
    "        # Decode predictions & truth\n",
    "        y_pred_decoded = result['pred']\n",
    "        y_test_decoded = label_encoder.inverse_transform(y_test)\n",
    "\n",
    "        # Compute CM\n",
    "        cm = confusion_matrix(\n",
    "            y_test_decoded,\n",
    "            y_pred_decoded,\n",
    "            labels=label_encoder.classes_\n",
    "        )\n",
    "        disp = ConfusionMatrixDisplay(\n",
    "            confusion_matrix=cm,\n",
    "            display_labels=label_encoder.classes_\n",
    "        )\n",
    "\n",
    "        # Plot\n",
    "        fig, ax = plt.subplots(figsize=(8,8))\n",
    "        disp.plot(ax=ax, xticks_rotation='vertical', cmap='Blues')\n",
    "        ax.set_title(f\"Confusion Matrix — {name}\")\n",
    "        plt.tight_layout()\n",
    "        plt.show()\n",
    "\n",
    "    children.append(out)\n",
    "    titles.append(name)\n",
    "\n",
    "tabs.children = children\n",
    "for i, title in enumerate(titles):\n",
    "    tabs.set_title(i, title)\n",
    "\n",
    "display(tabs)\n",
    "\n",
    "df_downsampled_results = results"
   ]
  },
  {
   "cell_type": "markdown",
   "id": "649001a4",
   "metadata": {},
   "source": [
    "## Visaulization and Interactive Widgets"
   ]
  },
  {
   "cell_type": "code",
   "execution_count": 7,
   "id": "6038571e",
   "metadata": {},
   "outputs": [
    {
     "data": {
      "application/vnd.jupyter.widget-view+json": {
       "model_id": "c4023e05ba7647be81c921ab347967ac",
       "version_major": 2,
       "version_minor": 0
      },
      "text/plain": [
       "HBox(children=(Dropdown(description='Metric:', options=('F1', 'Precision', 'Recall'), value='F1'), Dropdown(de…"
      ]
     },
     "metadata": {},
     "output_type": "display_data"
    },
    {
     "data": {
      "application/vnd.jupyter.widget-view+json": {
       "model_id": "1ba367c104e14280925cb8fa118c5071",
       "version_major": 2,
       "version_minor": 0
      },
      "text/plain": [
       "Output()"
      ]
     },
     "metadata": {},
     "output_type": "display_data"
    }
   ],
   "source": [
    "#####################################\n",
    "# VISUALIZATION AND INTERACTIVE WIDGETS\n",
    "#####################################\n",
    "def extract_classification_metrics(results_dict, eval_set_name):\n",
    "    rows = []\n",
    "    for model_name, result in results_dict.items():\n",
    "        report = result['report']\n",
    "        for cls, metrics in report.items():\n",
    "            # Skip summary rows\n",
    "            if cls in ['accuracy', 'macro avg', 'weighted avg']:\n",
    "                continue\n",
    "            rows.append({\n",
    "                'Model': model_name,\n",
    "                'Metric': 'F1',\n",
    "                'Class': cls,\n",
    "                'Value': metrics.get('f1-score', 0.0),\n",
    "                'Set': eval_set_name\n",
    "            })\n",
    "            rows.append({\n",
    "                'Model': model_name,\n",
    "                'Metric': 'Precision',\n",
    "                'Class': cls,\n",
    "                'Value': metrics.get('precision', 0.0),\n",
    "                'Set': eval_set_name\n",
    "            })\n",
    "            rows.append({\n",
    "                'Model': model_name,\n",
    "                'Metric': 'Recall',\n",
    "                'Class': cls,\n",
    "                'Value': metrics.get('recall', 0.0),\n",
    "                'Set': eval_set_name\n",
    "            })\n",
    "    df_metrics = pd.DataFrame(rows)\n",
    "    if df_metrics.empty:\n",
    "        print(\"🚨 WARNING: Extracted metrics dataframe is empty!\")\n",
    "    return df_metrics\n",
    "\n",
    "# 1. Use your real results dictionaries (from your model evaluation)\n",
    "smote_results = {k: v for k, v in df_smote_results.items() if k != 'Set'}\n",
    "downsampled_results = {k: v for k, v in df_downsampled_results.items() if k != 'Set'}\n",
    "\n",
    "# 2. Extract performance metrics into tidy DataFrames\n",
    "df_smote_metrics = extract_classification_metrics(smote_results, 'SMOTE')\n",
    "df_downsampled_metrics = extract_classification_metrics(downsampled_results, 'Downsampled')\n",
    "\n",
    "# 3. Combine them for plotting\n",
    "df_viz = pd.concat([df_smote_metrics, df_downsampled_metrics], ignore_index=True)\n",
    "\n",
    "# Create widgets\n",
    "metric_dropdown = widgets.Dropdown(\n",
    "    options=['F1', 'Precision', 'Recall'],\n",
    "    value='F1',\n",
    "    description='Metric:'\n",
    ")\n",
    "# Dynamically pull all class names from df_viz\n",
    "unique_classes = sorted(df_viz['Class'].unique())\n",
    "\n",
    "class_dropdown = widgets.Dropdown(\n",
    "    options=unique_classes,\n",
    "    value=unique_classes[0],\n",
    "    description='Class:'\n",
    ")\n",
    "\n",
    "import plotly.express as px\n",
    "\n",
    "def update_plot(metric, target_class):\n",
    "    filtered = df_viz[\n",
    "        (df_viz['Metric'] == metric) &\n",
    "        (df_viz['Class']  == target_class)\n",
    "    ]\n",
    "    COLOR_SEQ = [\"#c7e9c0\", \"#238b45\"]       # light mint → dark forest\n",
    "    fig = px.bar(\n",
    "        filtered,\n",
    "        x='Model',\n",
    "        y='Value',\n",
    "        color='Set',\n",
    "        barmode='group',\n",
    "        # ← add this:\n",
    "        color_discrete_sequence=COLOR_SEQ,\n",
    "        title=f\"{metric} Score Comparison - Class {target_class}\"\n",
    "    )\n",
    "    fig.update_layout(yaxis=dict(range=[0, 1]))\n",
    "    # save out\n",
    "    filename = f\"{metric}_{target_class}_comparison.html\"\n",
    "    fig.write_html(filename, include_plotlyjs='cdn')\n",
    "    print(f\"▶️ Saved bar chart to {filename}\")\n",
    "    fig.show()\n",
    "\n",
    "out = widgets.interactive_output(update_plot, {\n",
    "    'metric': metric_dropdown,\n",
    "    'target_class': class_dropdown\n",
    "})\n",
    "\n",
    "# Display widgets and output\n",
    "display(widgets.HBox([metric_dropdown, class_dropdown]), out)"
   ]
  },
  {
   "cell_type": "code",
   "execution_count": 8,
   "id": "b0aebc68",
   "metadata": {},
   "outputs": [
    {
     "name": "stdout",
     "output_type": "stream",
     "text": [
      "Plotting 18 classes with AUC > 0.7:\n",
      "['astringent', 'diuretic', 'febrifuge', 'hypotensive', 'laxative', 'miscellany', 'ophthalmic', 'pectoral', 'poultice', 'purgative', 'salve', 'sedative', 'skin', 'stimulant', 'stomachic', 'styptic', 'tonic', 'vermifuge']\n",
      "▶️ Saved ROC curves to roc_curves_auc_above_70.html\n"
     ]
    },
    {
     "data": {
      "application/vnd.plotly.v1+json": {
       "config": {
        "plotlyServerURL": "https://plot.ly"
       },
       "data": [
        {
         "hoverinfo": "none",
         "line": {
          "color": "black",
          "dash": "dash"
         },
         "mode": "lines",
         "showlegend": false,
         "type": "scatter",
         "x": [
          0,
          1
         ],
         "y": [
          0,
          1
         ]
        },
        {
         "hoverinfo": "name+x+y",
         "line": {
          "width": 2
         },
         "mode": "lines",
         "name": "astringent (AUC=0.85)",
         "opacity": 0.7,
         "type": "scatter",
         "x": {
          "bdata": "AAAAAAAAAAAAAAAAAAAAAAAAAAAAAAAAFBQUFBQUhD8UFBQUFBSEPx4eHh4eHp4/FBQUFBQUpD+XlpaWlpamP5eWlpaWlqY/nJubm5ubqz8eHh4eHh6uP9PS0tLS0rI/l5aWlpaWtj/d3Nzc3Ny8Px4eHh4eHr4/UFBQUFBQwD9zc3Nzc3PDP3Nzc3Nzc8M/FBQUFBQUxD9VVVVVVVXFP/b19fX19cU/9vX19fX1xT83Nzc3NzfHP3h4eHh4eMg/urm5ubm5yT/7+vr6+vrKP/v6+vr6+so/3dzc3NzczD/d3Nzc3NzMP1BQUFBQUNA/8fDw8PDw0D9BQUFBQUHRP0FBQUFBQdE/MjIyMjIy0j/T0tLS0tLSP9PS0tLS0tI/FBQUFBQU1D+1tLS0tLTUPygoKCgoKNg/aWlpaWlp2T/7+vr6+vraP+zr6+vr69s/Hh4eHh4e3j+/vr6+vr7eP4OCgoKCguI/IyMjIyMj4z9kZGRkZGTkP7W0tLS0tOQ/BQUFBQUF5T9VVVVVVVXlP/Hw8PDw8Og/kpGRkZGR6T8KCgoKCgrqP1paWlpaWuo/nJubm5ub6z8UFBQUFBTsP1VVVVVVVe0/pqWlpaWl7T/Ozc3Nzc3tPx4eHh4eHu4/5+bm5ubm7j83Nzc3NzfvPwAAAAAAAPA/",
          "dtype": "f8"
         },
         "y": {
          "bdata": "AAAAAAAAAABVVVVVVVW1P1VVVVVVVcU/VVVVVVVVxT8AAAAAAADQPwAAAAAAANA/AAAAAAAA0D8AAAAAAADQP1VVVVVVVdU/VVVVVVVV1T9VVVVVVVXVP1VVVVVVVdU/VVVVVVVV1T9VVVVVVVXVP1VVVVVVVdU/q6qqqqqq2j+rqqqqqqraPwAAAAAAAOA/AAAAAAAA4D8AAAAAAADgPwAAAAAAAOA/q6qqqqqq4j+rqqqqqqriP6uqqqqqquI/q6qqqqqq4j+rqqqqqqriP1VVVVVVVeU/VVVVVVVV5T8AAAAAAADoPwAAAAAAAOg/AAAAAAAA6D8AAAAAAADoP6uqqqqqquo/q6qqqqqq6j+rqqqqqqrqPwAAAAAAAPA/AAAAAAAA8D8AAAAAAADwPwAAAAAAAPA/AAAAAAAA8D8AAAAAAADwPwAAAAAAAPA/AAAAAAAA8D8AAAAAAADwPwAAAAAAAPA/AAAAAAAA8D8AAAAAAADwPwAAAAAAAPA/AAAAAAAA8D8AAAAAAADwPwAAAAAAAPA/AAAAAAAA8D8AAAAAAADwPwAAAAAAAPA/AAAAAAAA8D8AAAAAAADwPwAAAAAAAPA/AAAAAAAA8D8AAAAAAADwPwAAAAAAAPA/AAAAAAAA8D8AAAAAAADwPwAAAAAAAPA/",
          "dtype": "f8"
         }
        },
        {
         "hoverinfo": "name+x+y",
         "line": {
          "width": 2
         },
         "mode": "lines",
         "name": "diuretic (AUC=0.83)",
         "opacity": 0.7,
         "type": "scatter",
         "x": {
          "bdata": "AAAAAAAAAAAAAAAAAAAAABQUFBQUFIQ/FBQUFBQUhD8UFBQUFBSkPxkZGRkZGak/Hh4eHh4erj/T0tLS0tKyPx4eHh4eHr4/8fDw8PDwwD/x8PDw8PDAP5KRkZGRkcE/kpGRkZGRwT8UFBQUFBTEPxQUFBQUFMQ/tbS0tLS0xD+1tLS0tLTEP1VVVVVVVcU/VVVVVVVVxT+6ubm5ubnJP1paWlpaWso/WlpaWlpayj99fX19fX3NP19fX19fX88/oaCgoKCg0D+SkZGRkZHRP9PS0tLS0tI/c3Nzc3Nz0z8UFBQUFBTUP1VVVVVVVdU/l5aWlpaW1j83Nzc3NzfXP6uqqqqqqto/S0tLS0tL2z/d3Nzc3NzcP319fX19fd0/Hh4eHh4e3j8PDw8PDw/fP19fX19fX98/AAAAAAAA4D8KCgoKCgriPwoKCgoKCuI/WlpaWlpa4j+rqqqqqqriP42MjIyMjOQ/LS0tLS0t5T8PDw8PDw/nP19fX19fX+c/KCgoKCgo6D94eHh4eHjoP8nIyMjIyOg/kpGRkZGR6T/i4eHh4eHpPyMjIyMjI+s/c3Nzc3Nz6z8UFBQUFBTsP2RkZGRkZOw/Hh4eHh4e7j9ubm5ubm7uPw8PDw8PD+8/X19fX19f7z8AAAAAAADwPw==",
          "dtype": "f8"
         },
         "y": {
          "bdata": "AAAAAAAAAABVVVVVVVW1P1VVVVVVVbU/VVVVVVVVxT9VVVVVVVXFP1VVVVVVVcU/VVVVVVVVxT9VVVVVVVXFP1VVVVVVVcU/AAAAAAAA0D9VVVVVVVXVP1VVVVVVVdU/q6qqqqqq2j+rqqqqqqraPwAAAAAAAOA/AAAAAAAA4D+rqqqqqqriP1VVVVVVVeU/AAAAAAAA6D8AAAAAAADoP6uqqqqqquo/VVVVVVVV7T9VVVVVVVXtP1VVVVVVVe0/VVVVVVVV7T9VVVVVVVXtP1VVVVVVVe0/VVVVVVVV7T9VVVVVVVXtP1VVVVVVVe0/VVVVVVVV7T9VVVVVVVXtP1VVVVVVVe0/VVVVVVVV7T9VVVVVVVXtP1VVVVVVVe0/VVVVVVVV7T9VVVVVVVXtP1VVVVVVVe0/VVVVVVVV7T9VVVVVVVXtPwAAAAAAAPA/AAAAAAAA8D8AAAAAAADwPwAAAAAAAPA/AAAAAAAA8D8AAAAAAADwPwAAAAAAAPA/AAAAAAAA8D8AAAAAAADwPwAAAAAAAPA/AAAAAAAA8D8AAAAAAADwPwAAAAAAAPA/AAAAAAAA8D8AAAAAAADwPwAAAAAAAPA/AAAAAAAA8D8AAAAAAADwPwAAAAAAAPA/AAAAAAAA8D8AAAAAAADwPw==",
          "dtype": "f8"
         }
        },
        {
         "hoverinfo": "name+x+y",
         "line": {
          "width": 2
         },
         "mode": "lines",
         "name": "febrifuge (AUC=0.87)",
         "opacity": 0.7,
         "type": "scatter",
         "x": {
          "bdata": "AAAAAAAAAAAUFBQUFBR0PxQUFBQUFHQ/Hh4eHh4ejj8eHh4eHh6OP5KRkZGRkaE/kpGRkZGRoT8UFBQUFBSkPxkZGRkZGak/GRkZGRkZqT+cm5ubm5urPx4eHh4eHq4/Hh4eHh4erj+SkZGRkZGxPxQUFBQUFLQ/8fDw8PDwwD8yMjIyMjLCP7W0tLS0tMQ/eHh4eHh4yD8ZGRkZGRnJPwAAAAAAANA/oaCgoKCg0D+SkZGRkZHRP+Lh4eHh4dE/4uHh4eHh0T8FBQUFBQXVP0ZGRkZGRtY/l5aWlpaW1j83Nzc3NzfXP4iHh4eHh9c/ycjIyMjI2D+6ubm5ubnZP1paWlpaWto/Dw8PDw8P3z8PDw8PDw/fP19fX19fX98/AAAAAAAA4D8KCgoKCgriP1paWlpaWuI/nJubm5ub4z/s6+vr6+vjP6alpaWlpeU/9vX19fX15T9GRkZGRkbmP5eWlpaWluY/sK+vr6+v5z8AAAAAAADoP1paWlpaWuo/IyMjIyMj6z8tLS0tLS3tP319fX19fe0/pqWlpaWl7T+XlpaWlpbuPwAAAAAAAPA/",
          "dtype": "f8"
         },
         "y": {
          "bdata": "AAAAAAAAAAAAAAAAAAAAAFVVVVVVVbU/VVVVVVVVxT8AAAAAAADQPwAAAAAAANA/VVVVVVVV1T9VVVVVVVXVP1VVVVVVVdU/q6qqqqqq2j+rqqqqqqraPwAAAAAAAOA/q6qqqqqq4j+rqqqqqqriP6uqqqqqquI/q6qqqqqq4j9VVVVVVVXlP1VVVVVVVeU/VVVVVVVV5T+rqqqqqqrqP6uqqqqqquo/q6qqqqqq6j+rqqqqqqrqP6uqqqqqquo/VVVVVVVV7T9VVVVVVVXtP1VVVVVVVe0/VVVVVVVV7T9VVVVVVVXtP1VVVVVVVe0/VVVVVVVV7T9VVVVVVVXtP1VVVVVVVe0/VVVVVVVV7T8AAAAAAADwPwAAAAAAAPA/AAAAAAAA8D8AAAAAAADwPwAAAAAAAPA/AAAAAAAA8D8AAAAAAADwPwAAAAAAAPA/AAAAAAAA8D8AAAAAAADwPwAAAAAAAPA/AAAAAAAA8D8AAAAAAADwPwAAAAAAAPA/AAAAAAAA8D8AAAAAAADwPwAAAAAAAPA/AAAAAAAA8D8AAAAAAADwPwAAAAAAAPA/",
          "dtype": "f8"
         }
        },
        {
         "hoverinfo": "name+x+y",
         "line": {
          "width": 2
         },
         "mode": "lines",
         "name": "hypotensive (AUC=0.96)",
         "opacity": 0.7,
         "type": "scatter",
         "x": {
          "bdata": "AAAAAAAAAAAAAAAAAAAAAAAAAAAAAAAAFBQUFBQUdD8eHh4eHh6OPx4eHh4eHo4/Hh4eHh4enj+XlpaWlpamP5ybm5ubm6s/kpGRkZGRsT+XlpaWlpa2P9jX19fX17c/UFBQUFBQwD9QUFBQUFDAP/Hw8PDw8MA/8fDw8PDwwD9aWlpaWlrKP93c3Nzc3Mw/v76+vr6+zj9BQUFBQUHRP+Lh4eHh4dE/09LS0tLS0j8UFBQUFBTUP7W0tLS0tNQ/q6qqqqqq2j+cm5ubm5vbP93c3Nzc3Nw/KCgoKCgo4D94eHh4eHjgP0FBQUFBQeE/kpGRkZGR4T9LS0tLS0vjPzw8PDw8POQ/3dzc3Nzc5D8tLS0tLS3lP319fX19feU/zs3Nzc3N5T94eHh4eHjoP8nIyMjIyOg/urm5ubm56T8KCgoKCgrqP2RkZGRkZOw/tbS0tLS07D8AAAAAAADwPw==",
          "dtype": "f8"
         },
         "y": {
          "bdata": "AAAAAAAAAABVVVVVVVW1PwAAAAAAANA/VVVVVVVV1T9VVVVVVVXVPwAAAAAAAOA/AAAAAAAA4D9VVVVVVVXlP1VVVVVVVeU/AAAAAAAA6D8AAAAAAADoP6uqqqqqquo/q6qqqqqq6j9VVVVVVVXtP1VVVVVVVe0/AAAAAAAA8D8AAAAAAADwPwAAAAAAAPA/AAAAAAAA8D8AAAAAAADwPwAAAAAAAPA/AAAAAAAA8D8AAAAAAADwPwAAAAAAAPA/AAAAAAAA8D8AAAAAAADwPwAAAAAAAPA/AAAAAAAA8D8AAAAAAADwPwAAAAAAAPA/AAAAAAAA8D8AAAAAAADwPwAAAAAAAPA/AAAAAAAA8D8AAAAAAADwPwAAAAAAAPA/AAAAAAAA8D8AAAAAAADwPwAAAAAAAPA/AAAAAAAA8D8AAAAAAADwPwAAAAAAAPA/AAAAAAAA8D8AAAAAAADwPw==",
          "dtype": "f8"
         }
        },
        {
         "hoverinfo": "name+x+y",
         "line": {
          "width": 2
         },
         "mode": "lines",
         "name": "laxative (AUC=0.84)",
         "opacity": 0.7,
         "type": "scatter",
         "x": {
          "bdata": "AAAAAAAAAAAUFBQUFBR0PxQUFBQUFHQ/FBQUFBQUhD8eHh4eHh6OPxkZGRkZGZk/GRkZGRkZmT+XlpaWlpa2P1paWlpaWro/Hh4eHh4evj/x8PDw8PDAP1VVVVVVVcU/eHh4eHh4yD8ZGRkZGRnJP93c3Nzc3Mw/3dzc3NzczD99fX19fX3NPx4eHh4eHs4/X19fX19fzz/x8PDw8PDQP/Hw8PDw8NA/4uHh4eHh0T9zc3Nzc3PTPxQUFBQUFNQ/tbS0tLS01D9VVVVVVVXVPwoKCgoKCto/q6qqqqqq2j88PDw8PDzcPzw8PDw8PNw/3dzc3Nzc3D99fX19fX3dP25ubm5ubt4/bm5ubm5u3j94eHh4eHjgP/Hw8PDw8OA/urm5ubm54T8KCgoKCgriPzIyMjIyMuI/g4KCgoKC4j8jIyMjIyPjP3Nzc3Nzc+M/xMPDw8PD4z8UFBQUFBTkP42MjIyMjOQ/LS0tLS0t5T83Nzc3NzfnP4iHh4eHh+c/+/r6+vr66j9LS0tLS0vrP3Nzc3Nzc+s/xMPDw8PD6z9kZGRkZGTsP7W0tLS0tOw/9vX19fX17T+XlpaWlpbuPwAAAAAAAPA/",
          "dtype": "f8"
         },
         "y": {
          "bdata": "AAAAAAAAAAAAAAAAAAAAAAAAAAAAANA/AAAAAAAA0D9VVVVVVVXVP1VVVVVVVdU/q6qqqqqq2j+rqqqqqqraPwAAAAAAAOA/AAAAAAAA4D8AAAAAAADgPwAAAAAAAOA/AAAAAAAA4D+rqqqqqqriP6uqqqqqquI/VVVVVVVV5T8AAAAAAADoPwAAAAAAAOg/AAAAAAAA6D8AAAAAAADoP6uqqqqqquo/q6qqqqqq6j+rqqqqqqrqP6uqqqqqquo/q6qqqqqq6j+rqqqqqqrqP6uqqqqqquo/q6qqqqqq6j+rqqqqqqrqP1VVVVVVVe0/VVVVVVVV7T9VVVVVVVXtP1VVVVVVVe0/AAAAAAAA8D8AAAAAAADwPwAAAAAAAPA/AAAAAAAA8D8AAAAAAADwPwAAAAAAAPA/AAAAAAAA8D8AAAAAAADwPwAAAAAAAPA/AAAAAAAA8D8AAAAAAADwPwAAAAAAAPA/AAAAAAAA8D8AAAAAAADwPwAAAAAAAPA/AAAAAAAA8D8AAAAAAADwPwAAAAAAAPA/AAAAAAAA8D8AAAAAAADwPwAAAAAAAPA/AAAAAAAA8D8AAAAAAADwPwAAAAAAAPA/",
          "dtype": "f8"
         }
        },
        {
         "hoverinfo": "name+x+y",
         "line": {
          "width": 2
         },
         "mode": "lines",
         "name": "miscellany (AUC=0.89)",
         "opacity": 0.7,
         "type": "scatter",
         "x": {
          "bdata": "AAAAAAAAAAAAAAAAAAAAAAAAAAAAAAAAFBQUFBQUdD8eHh4eHh6OPxQUFBQUFJQ/GRkZGRkZmT8ZGRkZGRmZPx4eHh4eHp4/kpGRkZGRoT+XlpaWlpamPxkZGRkZGak/kpGRkZGRsT9VVVVVVVW1P9jX19fX17c/nJubm5ubuz9QUFBQUFDAP5KRkZGRkcE/MjIyMjIywj8UFBQUFBTEP1VVVVVVVcU/v76+vr6+zj+/vr6+vr7OP6GgoKCgoNA/oaCgoKCg0D9BQUFBQUHRP0FBQUFBQdE/IyMjIyMj0z/Ew8PDw8PTP0ZGRkZGRtY/2NfX19fX1z94eHh4eHjYP2lpaWlpadk/CgoKCgoK2j+rqqqqqqraP/v6+vr6+to/Dw8PDw8P3z8oKCgoKCjgP3h4eHh4eOA/oaCgoKCg4D8ZGRkZGRnhPzIyMjIyMuI/g4KCgoKC4j99fX19fX3lP87Nzc3NzeU/Dw8PDw8P5z9fX19fX1/nP9jX19fX1+c/KCgoKCgo6D99fX19fX3tP87Nzc3Nze0/Hh4eHh4e7j9ubm5ubm7uPwAAAAAAAPA/",
          "dtype": "f8"
         },
         "y": {
          "bdata": "AAAAAAAAAABVVVVVVVW1PwAAAAAAANA/VVVVVVVV1T9VVVVVVVXVP6uqqqqqqto/q6qqqqqq2j8AAAAAAADgPwAAAAAAAOA/q6qqqqqq4j9VVVVVVVXlP1VVVVVVVeU/VVVVVVVV5T9VVVVVVVXlP1VVVVVVVeU/VVVVVVVV5T9VVVVVVVXlP1VVVVVVVeU/VVVVVVVV5T9VVVVVVVXlP1VVVVVVVeU/VVVVVVVV5T8AAAAAAADoPwAAAAAAAOg/q6qqqqqq6j+rqqqqqqrqP1VVVVVVVe0/VVVVVVVV7T9VVVVVVVXtP1VVVVVVVe0/VVVVVVVV7T9VVVVVVVXtP1VVVVVVVe0/VVVVVVVV7T9VVVVVVVXtPwAAAAAAAPA/AAAAAAAA8D8AAAAAAADwPwAAAAAAAPA/AAAAAAAA8D8AAAAAAADwPwAAAAAAAPA/AAAAAAAA8D8AAAAAAADwPwAAAAAAAPA/AAAAAAAA8D8AAAAAAADwPwAAAAAAAPA/AAAAAAAA8D8AAAAAAADwPwAAAAAAAPA/AAAAAAAA8D8AAAAAAADwPwAAAAAAAPA/",
          "dtype": "f8"
         }
        },
        {
         "hoverinfo": "name+x+y",
         "line": {
          "width": 2
         },
         "mode": "lines",
         "name": "ophthalmic (AUC=0.77)",
         "opacity": 0.7,
         "type": "scatter",
         "x": {
          "bdata": "AAAAAAAAAAAUFBQUFBR0PxQUFBQUFJQ/FBQUFBQUlD8eHh4eHh6eP5KRkZGRkaE/kpGRkZGRoT8ZGRkZGRmpPx4eHh4eHq4/kpGRkZGRsT+SkZGRkZGxP1paWlpaWro/Hh4eHh4evj9fX19fX1+/PzIyMjIyMsI/FBQUFBQUxD+XlpaWlpbGPzw8PDw8PMw/Hh4eHh4ezj9fX19fX1/PP19fX19fX88/09LS0tLS0j9zc3Nzc3PTP8TDw8PDw9M/tbS0tLS01D83Nzc3NzfXPxkZGRkZGdk/CgoKCgoK2j8KCgoKCgraP6uqqqqqqto/fX19fX193T99fX19fX3dPx4eHh4eHt4/v76+vr6+3j8PDw8PDw/fP7Cvr6+vr98/kpGRkZGR4T/i4eHh4eHhP+Lh4eHh4eE/WlpaWlpa4j/7+vr6+vriP93c3Nzc3OQ/LS0tLS0t5T/n5ubm5ubmP+fm5ubm5uY/KCgoKCgo6D94eHh4eHjoPzIyMjIyMuo/g4KCgoKC6j/d3Nzc3NzsPy0tLS0tLe0/VVVVVVVV7T+mpaWlpaXtPwAAAAAAAPA/",
          "dtype": "f8"
         },
         "y": {
          "bdata": "AAAAAAAAAAAAAAAAAAAAAAAAAAAAAAAAAAAAAAAA0D8AAAAAAADQPwAAAAAAANA/VVVVVVVV1T+rqqqqqqraP6uqqqqqqto/q6qqqqqq2j8AAAAAAADgPwAAAAAAAOA/AAAAAAAA4D8AAAAAAADgPwAAAAAAAOA/AAAAAAAA4D+rqqqqqqriP6uqqqqqquI/q6qqqqqq4j+rqqqqqqriP1VVVVVVVeU/VVVVVVVV5T9VVVVVVVXlP1VVVVVVVeU/VVVVVVVV5T9VVVVVVVXlP1VVVVVVVeU/VVVVVVVV5T8AAAAAAADoPwAAAAAAAOg/AAAAAAAA6D+rqqqqqqrqP6uqqqqqquo/q6qqqqqq6j+rqqqqqqrqP6uqqqqqquo/q6qqqqqq6j+rqqqqqqrqP1VVVVVVVe0/VVVVVVVV7T9VVVVVVVXtP1VVVVVVVe0/VVVVVVVV7T9VVVVVVVXtPwAAAAAAAPA/AAAAAAAA8D8AAAAAAADwPwAAAAAAAPA/AAAAAAAA8D8AAAAAAADwPwAAAAAAAPA/AAAAAAAA8D8AAAAAAADwPwAAAAAAAPA/",
          "dtype": "f8"
         }
        },
        {
         "hoverinfo": "name+x+y",
         "line": {
          "width": 2
         },
         "mode": "lines",
         "name": "pectoral (AUC=0.81)",
         "opacity": 0.7,
         "type": "scatter",
         "x": {
          "bdata": "AAAAAAAAAAAAAAAAAAAAABQUFBQUFIQ/FBQUFBQUhD8eHh4eHh6OPx4eHh4eHo4/GRkZGRkZqT+cm5ubm5urPx4eHh4eHq4/Hh4eHh4erj+SkZGRkZGxPxQUFBQUFLQ/WlpaWlpauj9aWlpaWlq6Px4eHh4eHr4/UFBQUFBQwD8UFBQUFBTEP1VVVVVVVcU/Nzc3Nzc3xz83Nzc3NzfHP9jX19fX18c/GRkZGRkZyT+6ubm5ubnJP5ybm5ubm8s/3dzc3NzczD99fX19fX3NP0FBQUFBQdE/4uHh4eHh0T8jIyMjIyPTP2RkZGRkZNQ/eHh4eHh42D8ZGRkZGRnZPwoKCgoKCto/CgoKCgoK2j9aWlpaWlraP/v6+vr6+to/nJubm5ub2z+cm5ubm5vbP+zr6+vr69s/jYyMjIyM3D94eHh4eHjgP/Hw8PDw8OA/MjIyMjIy4j+DgoKCgoLiP6uqqqqqquI/c3Nzc3Nz4z/Ew8PDw8PjPxQUFBQUFOQ/PDw8PDw85D+NjIyMjIzkP6alpaWlpeU/9vX19fX15T/n5ubm5ubmP+fm5ubm5uY/Dw8PDw8P5z+wr6+vr6/nP/Hw8PDw8Og/QUFBQUFB6T+6ubm5ubnpP6uqqqqqquo/+/r6+vr66j9LS0tLS0vrP+zr6+vr6+s/VVVVVVVV7T+mpaWlpaXtPwAAAAAAAPA/",
          "dtype": "f8"
         },
         "y": {
          "bdata": "AAAAAAAAAABVVVVVVVW1P1VVVVVVVbU/VVVVVVVVxT9VVVVVVVXFPwAAAAAAANA/AAAAAAAA0D9VVVVVVVXVP1VVVVVVVdU/q6qqqqqq2j+rqqqqqqraP6uqqqqqqto/q6qqqqqq2j8AAAAAAADgPwAAAAAAAOA/q6qqqqqq4j+rqqqqqqriP6uqqqqqquI/q6qqqqqq4j9VVVVVVVXlP1VVVVVVVeU/VVVVVVVV5T9VVVVVVVXlP1VVVVVVVeU/VVVVVVVV5T8AAAAAAADoPwAAAAAAAOg/AAAAAAAA6D8AAAAAAADoPwAAAAAAAOg/AAAAAAAA6D8AAAAAAADoPwAAAAAAAOg/q6qqqqqq6j+rqqqqqqrqP6uqqqqqquo/q6qqqqqq6j9VVVVVVVXtP1VVVVVVVe0/VVVVVVVV7T9VVVVVVVXtP1VVVVVVVe0/VVVVVVVV7T9VVVVVVVXtP1VVVVVVVe0/VVVVVVVV7T9VVVVVVVXtP1VVVVVVVe0/VVVVVVVV7T9VVVVVVVXtP1VVVVVVVe0/VVVVVVVV7T9VVVVVVVXtPwAAAAAAAPA/AAAAAAAA8D8AAAAAAADwPwAAAAAAAPA/AAAAAAAA8D8AAAAAAADwPwAAAAAAAPA/AAAAAAAA8D8AAAAAAADwPwAAAAAAAPA/AAAAAAAA8D8AAAAAAADwPwAAAAAAAPA/",
          "dtype": "f8"
         }
        },
        {
         "hoverinfo": "name+x+y",
         "line": {
          "width": 2
         },
         "mode": "lines",
         "name": "poultice (AUC=0.79)",
         "opacity": 0.7,
         "type": "scatter",
         "x": {
          "bdata": "AAAAAAAAAAAUFBQUFBR0PxQUFBQUFHQ/FBQUFBQUhD8UFBQUFBSEPx4eHh4eHo4/Hh4eHh4ejj8eHh4eHh6ePx4eHh4eHp4/Hh4eHh4erj/T0tLS0tKyP93c3Nzc3Lw/X19fX19fvz+1tLS0tLTEP/b19fX19cU/2NfX19fXxz94eHh4eHjIP3h4eHh4eMg/GRkZGRkZyT9aWlpaWlrKPzw8PDw8PMw/PDw8PDw8zD8AAAAAAADQP/Hw8PDw8NA/FBQUFBQU1D+1tLS0tLTUP6alpaWlpdU/RkZGRkZG1j94eHh4eHjYPwoKCgoKCto/q6qqqqqq2j/7+vr6+vraP+zr6+vr69s/PDw8PDw83D88PDw8PDzcP93c3Nzc3Nw/fX19fX193T99fX19fX3dP87Nzc3Nzd0/Dw8PDw8P3z+wr6+vr6/fP7Cvr6+vr98/KCgoKCgo4D9QUFBQUFDgP6GgoKCgoOA/MjIyMjIy4j/T0tLS0tLiP/v6+vr6+uI/+/r6+vr64j8jIyMjIyPjP3Nzc3Nzc+M/PDw8PDw85D+NjIyMjIzkP7W0tLS0tOQ/BQUFBQUF5T+/vr6+vr7mPw8PDw8PD+c/AAAAAAAA6D9QUFBQUFDoP/Hw8PDw8Og/QUFBQUFB6T8KCgoKCgrqP1paWlpaWuo/pqWlpaWl7T/29fX19fXtPwAAAAAAAPA/",
          "dtype": "f8"
         },
         "y": {
          "bdata": "AAAAAAAAAAAAAAAAAAAAAFVVVVVVVcU/VVVVVVVVxT8AAAAAAADQP1VVVVVVVdU/q6qqqqqq2j+rqqqqqqraPwAAAAAAAOA/AAAAAAAA4D8AAAAAAADgPwAAAAAAAOA/AAAAAAAA4D8AAAAAAADgPwAAAAAAAOA/AAAAAAAA4D8AAAAAAADgP6uqqqqqquI/q6qqqqqq4j+rqqqqqqriP6uqqqqqquI/VVVVVVVV5T9VVVVVVVXlP1VVVVVVVeU/VVVVVVVV5T9VVVVVVVXlP1VVVVVVVeU/VVVVVVVV5T9VVVVVVVXlP1VVVVVVVeU/VVVVVVVV5T9VVVVVVVXlP1VVVVVVVeU/VVVVVVVV5T8AAAAAAADoPwAAAAAAAOg/AAAAAAAA6D+rqqqqqqrqP6uqqqqqquo/q6qqqqqq6j+rqqqqqqrqP1VVVVVVVe0/VVVVVVVV7T9VVVVVVVXtP1VVVVVVVe0/VVVVVVVV7T9VVVVVVVXtP1VVVVVVVe0/AAAAAAAA8D8AAAAAAADwPwAAAAAAAPA/AAAAAAAA8D8AAAAAAADwPwAAAAAAAPA/AAAAAAAA8D8AAAAAAADwPwAAAAAAAPA/AAAAAAAA8D8AAAAAAADwPwAAAAAAAPA/AAAAAAAA8D8AAAAAAADwPwAAAAAAAPA/AAAAAAAA8D8AAAAAAADwPwAAAAAAAPA/",
          "dtype": "f8"
         }
        },
        {
         "hoverinfo": "name+x+y",
         "line": {
          "width": 2
         },
         "mode": "lines",
         "name": "purgative (AUC=0.81)",
         "opacity": 0.7,
         "type": "scatter",
         "x": {
          "bdata": "AAAAAAAAAAAUFBQUFBR0PxQUFBQUFHQ/Hh4eHh4ejj8eHh4eHh6ePxQUFBQUFKQ/FBQUFBQUpD8ZGRkZGRmpPxkZGRkZGak/nJubm5ubqz+cm5ubm5urP5eWlpaWlrY/l5aWlpaWtj/d3Nzc3Ny8P19fX19fX78/kpGRkZGRwT+SkZGRkZHBP9jX19fX18c/WlpaWlpayj9fX19fX1/PP19fX19fX88/oaCgoKCg0D9BQUFBQUHRPyMjIyMjI9M/xMPDw8PD0z+mpaWlpaXVP5eWlpaWltY/Nzc3Nzc31z/Y19fX19fXP8nIyMjIyNg/GRkZGRkZ2T+6ubm5ubnZP1paWlpaWto/WlpaWlpa2j+NjIyMjIzcPy0tLS0tLd0/sK+vr6+v3z8oKCgoKCjgP6GgoKCgoOA/aWlpaWlp4T9paWlpaWnhP5KRkZGRkeE/WlpaWlpa4j+cm5ubm5vjP8TDw8PDw+M/ZGRkZGRk5D/d3Nzc3NzkPx4eHh4eHuY/bm5ubm5u5j8PDw8PDw/nP19fX19fX+c/2NfX19fX5z8oKCgoKCjoP3h4eHh4eOg/ycjIyMjI6D+SkZGRkZHpP+Lh4eHh4ek/MjIyMjIy6j/T0tLS0tLqP/v6+vr6+uo/nJubm5ub6z9VVVVVVVXtP6alpaWlpe0/AAAAAAAA8D8=",
          "dtype": "f8"
         },
         "y": {
          "bdata": "AAAAAAAAAAAAAAAAAAAAAFVVVVVVVbU/VVVVVVVVtT9VVVVVVVXFP1VVVVVVVcU/VVVVVVVV1T9VVVVVVVXVP6uqqqqqqto/q6qqqqqq2j8AAAAAAADgPwAAAAAAAOA/q6qqqqqq4j+rqqqqqqriP6uqqqqqquI/q6qqqqqq4j9VVVVVVVXlP1VVVVVVVeU/VVVVVVVV5T9VVVVVVVXlPwAAAAAAAOg/AAAAAAAA6D8AAAAAAADoPwAAAAAAAOg/AAAAAAAA6D8AAAAAAADoPwAAAAAAAOg/AAAAAAAA6D8AAAAAAADoPwAAAAAAAOg/AAAAAAAA6D8AAAAAAADoPwAAAAAAAOg/q6qqqqqq6j+rqqqqqqrqP6uqqqqqquo/q6qqqqqq6j+rqqqqqqrqP6uqqqqqquo/q6qqqqqq6j9VVVVVVVXtP1VVVVVVVe0/VVVVVVVV7T9VVVVVVVXtPwAAAAAAAPA/AAAAAAAA8D8AAAAAAADwPwAAAAAAAPA/AAAAAAAA8D8AAAAAAADwPwAAAAAAAPA/AAAAAAAA8D8AAAAAAADwPwAAAAAAAPA/AAAAAAAA8D8AAAAAAADwPwAAAAAAAPA/AAAAAAAA8D8AAAAAAADwPwAAAAAAAPA/AAAAAAAA8D8AAAAAAADwPwAAAAAAAPA/AAAAAAAA8D8=",
          "dtype": "f8"
         }
        },
        {
         "hoverinfo": "name+x+y",
         "line": {
          "width": 2
         },
         "mode": "lines",
         "name": "salve (AUC=0.85)",
         "opacity": 0.7,
         "type": "scatter",
         "x": {
          "bdata": "AAAAAAAAAAAAAAAAAAAAABQUFBQUFIQ/Hh4eHh4ejj8eHh4eHh6OPx4eHh4eHp4/FBQUFBQUpD8ZGRkZGRmpP1BQUFBQULA/UFBQUFBQsD8UFBQUFBS0P5eWlpaWlrY/Hh4eHh4evj9fX19fX1+/P1BQUFBQUMA/UFBQUFBQwD+SkZGRkZHBP9PS0tLS0sI/tbS0tLS0xD+1tLS0tLTEPzc3Nzc3N8c/eHh4eHh4yD8ZGRkZGRnJPxkZGRkZGck/Hh4eHh4ezj9fX19fX1/PP0FBQUFBQdE/09LS0tLS0j8FBQUFBQXVP6alpaWlpdU/l5aWlpaW1j94eHh4eHjYPxkZGRkZGdk/CgoKCgoK2j+rqqqqqqraP/v6+vr6+to/nJubm5ub2z/s6+vr6+vbPy0tLS0tLd0/fX19fX193T9ubm5ubm7eP19fX19fX98/AAAAAAAA4D8ZGRkZGRnhP2lpaWlpaeE/urm5ubm54T8KCgoKCgriP6uqqqqqquI/fX19fX195T/Ozc3Nzc3lP8nIyMjIyOg/aWlpaWlp6T88PDw8PDzsP42MjIyMjOw/AAAAAAAA8D8=",
          "dtype": "f8"
         },
         "y": {
          "bdata": "AAAAAAAAAABVVVVVVVW1P1VVVVVVVbU/VVVVVVVVtT8AAAAAAADQPwAAAAAAANA/AAAAAAAA0D8AAAAAAADQPwAAAAAAANA/q6qqqqqq2j+rqqqqqqraP6uqqqqqqto/q6qqqqqq2j8AAAAAAADgPwAAAAAAAOA/q6qqqqqq4j+rqqqqqqriP1VVVVVVVeU/VVVVVVVV5T8AAAAAAADoPwAAAAAAAOg/AAAAAAAA6D8AAAAAAADoP6uqqqqqquo/q6qqqqqq6j+rqqqqqqrqP6uqqqqqquo/q6qqqqqq6j+rqqqqqqrqP6uqqqqqquo/VVVVVVVV7T9VVVVVVVXtP1VVVVVVVe0/VVVVVVVV7T9VVVVVVVXtP1VVVVVVVe0/VVVVVVVV7T9VVVVVVVXtP1VVVVVVVe0/VVVVVVVV7T9VVVVVVVXtP1VVVVVVVe0/VVVVVVVV7T9VVVVVVVXtPwAAAAAAAPA/AAAAAAAA8D8AAAAAAADwPwAAAAAAAPA/AAAAAAAA8D8AAAAAAADwPwAAAAAAAPA/AAAAAAAA8D8AAAAAAADwPwAAAAAAAPA/AAAAAAAA8D8=",
          "dtype": "f8"
         }
        },
        {
         "hoverinfo": "name+x+y",
         "line": {
          "width": 2
         },
         "mode": "lines",
         "name": "sedative (AUC=0.83)",
         "opacity": 0.7,
         "type": "scatter",
         "x": {
          "bdata": "AAAAAAAAAAAAAAAAAAAAABQUFBQUFHQ/FBQUFBQUdD8eHh4eHh6OPxkZGRkZGZk/GRkZGRkZmT+SkZGRkZGhPxQUFBQUFKQ/FBQUFBQUpD+XlpaWlpamP5eWlpaWlqY/l5aWlpaWtj8ZGRkZGRm5PxkZGRkZGbk/nJubm5ubuz9fX19fX1+/P1VVVVVVVcU/Nzc3Nzc3xz/Y19fX19fHPxkZGRkZGck/WlpaWlpayj9aWlpaWlrKP6GgoKCgoNA/QUFBQUFB0T/i4eHh4eHRPyMjIyMjI9M/9vX19fX11T/29fX19fXVP0ZGRkZGRtY/iIeHh4eH1z/Y19fX19fXP3h4eHh4eNg/Dw8PDw8P3z9QUFBQUFDgP1BQUFBQUOA/8fDw8PDw4D8ZGRkZGRnhP2lpaWlpaeE/kpGRkZGR4T+SkZGRkZHhPyMjIyMjI+M/c3Nzc3Nz4z8UFBQUFBTkP2RkZGRkZOQ/LS0tLS0t5T+mpaWlpaXlP7Cvr6+vr+c/AAAAAAAA6D94eHh4eHjoP/Hw8PDw8Og/09LS0tLS6j8jIyMjIyPrP+zr6+vr6+s/PDw8PDw87D+NjIyMjIzsPy0tLS0tLe0/Hh4eHh4e7j9ubm5ubm7uPwAAAAAAAPA/",
          "dtype": "f8"
         },
         "y": {
          "bdata": "AAAAAAAAAABVVVVVVVW1P1VVVVVVVbU/VVVVVVVVxT9VVVVVVVXFP1VVVVVVVcU/AAAAAAAA0D8AAAAAAADQPwAAAAAAANA/q6qqqqqq2j+rqqqqqqraPwAAAAAAAOA/AAAAAAAA4D8AAAAAAADgP6uqqqqqquI/q6qqqqqq4j+rqqqqqqriP6uqqqqqquI/q6qqqqqq4j9VVVVVVVXlP1VVVVVVVeU/VVVVVVVV5T8AAAAAAADoPwAAAAAAAOg/AAAAAAAA6D8AAAAAAADoPwAAAAAAAOg/AAAAAAAA6D+rqqqqqqrqP6uqqqqqquo/q6qqqqqq6j+rqqqqqqrqP6uqqqqqquo/q6qqqqqq6j+rqqqqqqrqP1VVVVVVVe0/VVVVVVVV7T9VVVVVVVXtP1VVVVVVVe0/VVVVVVVV7T8AAAAAAADwPwAAAAAAAPA/AAAAAAAA8D8AAAAAAADwPwAAAAAAAPA/AAAAAAAA8D8AAAAAAADwPwAAAAAAAPA/AAAAAAAA8D8AAAAAAADwPwAAAAAAAPA/AAAAAAAA8D8AAAAAAADwPwAAAAAAAPA/AAAAAAAA8D8AAAAAAADwPwAAAAAAAPA/AAAAAAAA8D8AAAAAAADwPwAAAAAAAPA/",
          "dtype": "f8"
         }
        },
        {
         "hoverinfo": "name+x+y",
         "line": {
          "width": 2
         },
         "mode": "lines",
         "name": "skin (AUC=0.89)",
         "opacity": 0.7,
         "type": "scatter",
         "x": {
          "bdata": "AAAAAAAAAAAUFBQUFBR0PxQUFBQUFHQ/FBQUFBQUhD8UFBQUFBSEPxkZGRkZGZk/kpGRkZGRoT+SkZGRkZGhPxkZGRkZGak/GRkZGRkZqT+SkZGRkZGxPxQUFBQUFLQ/VVVVVVVVtT9zc3Nzc3PDP7W0tLS0tMQ/l5aWlpaWxj+XlpaWlpbGP9jX19fX18c/urm5ubm5yT+6ubm5ubnJPzw8PDw8PMw/fX19fX19zT+/vr6+vr7OP6GgoKCgoNA/MjIyMjIy0j/T0tLS0tLSP/b19fX19dU/9vX19fX11T/n5ubm5ubWP4iHh4eHh9c/eHh4eHh42D8ZGRkZGRnZP1paWlpaWto/WlpaWlpa2j+NjIyMjIzcP319fX19fd0/zs3Nzc3N3T9ubm5ubm7eP+Lh4eHh4eE/q6qqqqqq4j/s6+vr6+vjP2RkZGRkZOQ/RkZGRkZG5j+XlpaWlpbmP7Cvr6+vr+c/AAAAAAAA6D/x8PDw8PDoP0FBQUFBQek/CgoKCgoK6j9aWlpaWlrqP/v6+vr6+uo/S0tLS0tL6z/Ew8PDw8PrP2RkZGRkZOw/BQUFBQUF7T9VVVVVVVXtP87Nzc3Nze0/bm5ubm5u7j83Nzc3NzfvP4iHh4eHh+8/AAAAAAAA8D8=",
          "dtype": "f8"
         },
         "y": {
          "bdata": "AAAAAAAAAAAAAAAAAAAAAFVVVVVVVbU/VVVVVVVVtT+rqqqqqqraP6uqqqqqqto/q6qqqqqq2j8AAAAAAADgPwAAAAAAAOA/q6qqqqqq4j+rqqqqqqriP6uqqqqqquI/VVVVVVVV5T9VVVVVVVXlP1VVVVVVVeU/VVVVVVVV5T8AAAAAAADoPwAAAAAAAOg/AAAAAAAA6D+rqqqqqqrqP6uqqqqqquo/q6qqqqqq6j+rqqqqqqrqP6uqqqqqquo/q6qqqqqq6j+rqqqqqqrqP6uqqqqqquo/VVVVVVVV7T9VVVVVVVXtP1VVVVVVVe0/VVVVVVVV7T9VVVVVVVXtP1VVVVVVVe0/AAAAAAAA8D8AAAAAAADwPwAAAAAAAPA/AAAAAAAA8D8AAAAAAADwPwAAAAAAAPA/AAAAAAAA8D8AAAAAAADwPwAAAAAAAPA/AAAAAAAA8D8AAAAAAADwPwAAAAAAAPA/AAAAAAAA8D8AAAAAAADwPwAAAAAAAPA/AAAAAAAA8D8AAAAAAADwPwAAAAAAAPA/AAAAAAAA8D8AAAAAAADwPwAAAAAAAPA/AAAAAAAA8D8AAAAAAADwPwAAAAAAAPA/AAAAAAAA8D8AAAAAAADwPwAAAAAAAPA/AAAAAAAA8D8=",
          "dtype": "f8"
         }
        },
        {
         "hoverinfo": "name+x+y",
         "line": {
          "width": 2
         },
         "mode": "lines",
         "name": "stimulant (AUC=0.90)",
         "opacity": 0.7,
         "type": "scatter",
         "x": {
          "bdata": "AAAAAAAAAAAUFBQUFBR0PxQUFBQUFHQ/FBQUFBQUhD8UFBQUFBSUPxQUFBQUFJQ/GRkZGRkZmT8ZGRkZGRmpP5ybm5ubm6s/nJubm5ubqz9QUFBQUFCwP5KRkZGRkbE/FBQUFBQUtD8UFBQUFBS0PxkZGRkZGbk/GRkZGRkZuT8eHh4eHh6+P5KRkZGRkcE/MjIyMjIywj9zc3Nzc3PDP7W0tLS0tMQ/l5aWlpaWxj8AAAAAAADQP6GgoKCgoNA/8fDw8PDw0D+SkZGRkZHRP+Lh4eHh4dE/g4KCgoKC0j8FBQUFBQXVP6alpaWlpdU/5+bm5ubm1j8oKCgoKCjYP93c3Nzc3Nw/fX19fX193T9ubm5ubm7ePw8PDw8PD98/AAAAAAAA4D/JyMjIyMjgP2lpaWlpaeE/LS0tLS0t5T99fX19fX3lP6alpaWlpeU/Hh4eHh4e5j9ubm5ubm7mP5eWlpaWluY/l5aWlpaW5j8PDw8PDw/nP19fX19fX+c/QUFBQUFB6T/i4eHh4eHpP319fX19fe0/zs3Nzc3N7T8AAAAAAADwPw==",
          "dtype": "f8"
         },
         "y": {
          "bdata": "AAAAAAAAAAAAAAAAAAAAAFVVVVVVVcU/AAAAAAAA0D8AAAAAAADQP1VVVVVVVdU/q6qqqqqq2j+rqqqqqqraPwAAAAAAAOA/q6qqqqqq4j+rqqqqqqriP1VVVVVVVeU/VVVVVVVV5T8AAAAAAADoPwAAAAAAAOg/q6qqqqqq6j+rqqqqqqrqP1VVVVVVVe0/VVVVVVVV7T9VVVVVVVXtP1VVVVVVVe0/VVVVVVVV7T9VVVVVVVXtP1VVVVVVVe0/VVVVVVVV7T9VVVVVVVXtP1VVVVVVVe0/VVVVVVVV7T9VVVVVVVXtP1VVVVVVVe0/VVVVVVVV7T9VVVVVVVXtP1VVVVVVVe0/VVVVVVVV7T9VVVVVVVXtP1VVVVVVVe0/VVVVVVVV7T9VVVVVVVXtP1VVVVVVVe0/VVVVVVVV7T9VVVVVVVXtP1VVVVVVVe0/VVVVVVVV7T9VVVVVVVXtP1VVVVVVVe0/AAAAAAAA8D8AAAAAAADwPwAAAAAAAPA/AAAAAAAA8D8AAAAAAADwPwAAAAAAAPA/AAAAAAAA8D8AAAAAAADwPw==",
          "dtype": "f8"
         }
        },
        {
         "hoverinfo": "name+x+y",
         "line": {
          "width": 2
         },
         "mode": "lines",
         "name": "stomachic (AUC=0.80)",
         "opacity": 0.7,
         "type": "scatter",
         "x": {
          "bdata": "AAAAAAAAAAAAAAAAAAAAABQUFBQUFHQ/FBQUFBQUhD8UFBQUFBSEPx4eHh4eHo4/Hh4eHh4ejj+SkZGRkZGhP5KRkZGRkaE/FBQUFBQUpD8UFBQUFBSkP1BQUFBQULA/VVVVVVVVtT9aWlpaWlq6Px4eHh4eHr4/UFBQUFBQwD8yMjIyMjLCP3Nzc3Nzc8M/tbS0tLS0xD9VVVVVVVXFPxkZGRkZGck/PDw8PDw8zD99fX19fX3NP19fX19fX88/UFBQUFBQ0D/x8PDw8PDQP5KRkZGRkdE/09LS0tLS0j9zc3Nzc3PTP8TDw8PDw9M/ZGRkZGRk1D8oKCgoKCjYP8nIyMjIyNg/WlpaWlpa2j+cm5ubm5vbP+zr6+vr69s/v76+vr6+3j+/vr6+vr7eP19fX19fX98/X19fX19f3z+SkZGRkZHhP+Lh4eHh4eE/q6qqqqqq4j8jIyMjIyPjP8TDw8PDw+M/PDw8PDw85D+1tLS0tLTkPwUFBQUFBeU/l5aWlpaW5j8PDw8PDw/nP7Cvr6+vr+c/sK+vr6+v5z8AAAAAAADoP6GgoKCgoOg/ycjIyMjI6D8ZGRkZGRnpPwAAAAAAAPA/",
          "dtype": "f8"
         },
         "y": {
          "bdata": "AAAAAAAAAABVVVVVVVW1P1VVVVVVVcU/VVVVVVVVxT9VVVVVVVXVP1VVVVVVVdU/q6qqqqqq2j+rqqqqqqraPwAAAAAAAOA/AAAAAAAA4D+rqqqqqqriP6uqqqqqquI/q6qqqqqq4j+rqqqqqqriP6uqqqqqquI/q6qqqqqq4j+rqqqqqqriP6uqqqqqquI/q6qqqqqq4j9VVVVVVVXlP1VVVVVVVeU/VVVVVVVV5T9VVVVVVVXlP1VVVVVVVeU/VVVVVVVV5T9VVVVVVVXlP1VVVVVVVeU/VVVVVVVV5T9VVVVVVVXlP1VVVVVVVeU/VVVVVVVV5T9VVVVVVVXlP1VVVVVVVeU/VVVVVVVV5T9VVVVVVVXlPwAAAAAAAOg/AAAAAAAA6D+rqqqqqqrqP6uqqqqqquo/VVVVVVVV7T9VVVVVVVXtP1VVVVVVVe0/VVVVVVVV7T9VVVVVVVXtP1VVVVVVVe0/VVVVVVVV7T9VVVVVVVXtP1VVVVVVVe0/VVVVVVVV7T9VVVVVVVXtP1VVVVVVVe0/AAAAAAAA8D8AAAAAAADwPwAAAAAAAPA/AAAAAAAA8D8AAAAAAADwPwAAAAAAAPA/",
          "dtype": "f8"
         }
        },
        {
         "hoverinfo": "name+x+y",
         "line": {
          "width": 2
         },
         "mode": "lines",
         "name": "styptic (AUC=0.76)",
         "opacity": 0.7,
         "type": "scatter",
         "x": {
          "bdata": "AAAAAAAAAAAUFBQUFBR0PxQUFBQUFIQ/FBQUFBQUhD8ZGRkZGRmZPxkZGRkZGak/GRkZGRkZqT8eHh4eHh6uPx4eHh4eHq4/FBQUFBQUtD8UFBQUFBS0P9jX19fX17c/nJubm5ubuz9fX19fX1+/P5KRkZGRkcE/09LS0tLSwj8UFBQUFBTEP7W0tLS0tMQ/WlpaWlpayj+cm5ubm5vLPzw8PDw8PMw/fX19fX19zT9fX19fX1/PP1BQUFBQUNA/xMPDw8PD0z9kZGRkZGTUPxkZGRkZGdk/GRkZGRkZ2T+6ubm5ubnZP1paWlpaWto/S0tLS0tL2z/s6+vr6+vbPx4eHh4eHt4/bm5ubm5u3j8PDw8PDw/fP7Cvr6+vr98/KCgoKCgo4D8ZGRkZGRnhP2lpaWlpaeE/urm5ubm54T8yMjIyMjLiPzIyMjIyMuI/nJubm5ub4z88PDw8PDzkP42MjIyMjOQ/v76+vr6+5j8PDw8PDw/nP4iHh4eHh+c/2NfX19fX5z8oKCgoKCjoP3h4eHh4eOg/ycjIyMjI6D8yMjIyMjLqP4OCgoKCguo/+/r6+vr66j9LS0tLS0vrP5ybm5ubm+s/7Ovr6+vr6z8AAAAAAADwPw==",
          "dtype": "f8"
         },
         "y": {
          "bdata": "AAAAAAAAAAAAAAAAAAAAAAAAAAAAAAAAVVVVVVVVxT9VVVVVVVXFP1VVVVVVVcU/AAAAAAAA0D8AAAAAAADQP1VVVVVVVdU/VVVVVVVV1T+rqqqqqqraP6uqqqqqqto/q6qqqqqq2j8AAAAAAADgPwAAAAAAAOA/AAAAAAAA4D8AAAAAAADgP6uqqqqqquI/q6qqqqqq4j+rqqqqqqriP6uqqqqqquI/q6qqqqqq4j+rqqqqqqriP6uqqqqqquI/q6qqqqqq4j+rqqqqqqriP6uqqqqqquI/VVVVVVVV5T9VVVVVVVXlP1VVVVVVVeU/VVVVVVVV5T9VVVVVVVXlP1VVVVVVVeU/AAAAAAAA6D+rqqqqqqrqP6uqqqqqquo/q6qqqqqq6j+rqqqqqqrqP1VVVVVVVe0/VVVVVVVV7T9VVVVVVVXtPwAAAAAAAPA/AAAAAAAA8D8AAAAAAADwPwAAAAAAAPA/AAAAAAAA8D8AAAAAAADwPwAAAAAAAPA/AAAAAAAA8D8AAAAAAADwPwAAAAAAAPA/AAAAAAAA8D8AAAAAAADwPwAAAAAAAPA/AAAAAAAA8D8AAAAAAADwPwAAAAAAAPA/AAAAAAAA8D8AAAAAAADwPw==",
          "dtype": "f8"
         }
        },
        {
         "hoverinfo": "name+x+y",
         "line": {
          "width": 2
         },
         "mode": "lines",
         "name": "tonic (AUC=0.74)",
         "opacity": 0.7,
         "type": "scatter",
         "x": {
          "bdata": "AAAAAAAAAAAAAAAAAAAAAAAAAAAAAAAAFBQUFBQUdD8UFBQUFBR0PxQUFBQUFIQ/FBQUFBQUhD8eHh4eHh6OPx4eHh4eHo4/l5aWlpaWpj+XlpaWlpamP1BQUFBQUMA/kpGRkZGRwT/T0tLS0tLCP9PS0tLS0sI/9vX19fX1xT83Nzc3NzfHP7q5ubm5uck/nJubm5ubyz/d3Nzc3NzMP7++vr6+vs4/AAAAAAAA0D9QUFBQUFDQP6GgoKCgoNA/kpGRkZGR0T8yMjIyMjLSP4OCgoKCgtI/xMPDw8PD0z8FBQUFBQXVP6alpaWlpdU/Nzc3Nzc31z/Y19fX19fXP3h4eHh4eNg/GRkZGRkZ2T88PDw8PDzcP93c3Nzc3Nw/zs3Nzc3N3T9ubm5ubm7eP1BQUFBQUOA/8fDw8PDw4D/i4eHh4eHhPwoKCgoKCuI/q6qqqqqq4j/7+vr6+vriP3Nzc3Nzc+M/7Ovr6+vr4z8tLS0tLS3lP6alpaWlpeU/X19fX19f5z9fX19fX1/nPwAAAAAAAOg/UFBQUFBQ6D/JyMjIyMjoP8nIyMjIyOg/GRkZGRkZ6T8KCgoKCgrqP6uqqqqqquo/IyMjIyMj6z9zc3Nzc3PrP2RkZGRkZOw/tbS0tLS07D8tLS0tLS3tP4iHh4eHh+8/2NfX19fX7z8AAAAAAADwPw==",
          "dtype": "f8"
         },
         "y": {
          "bdata": "AAAAAAAAAABVVVVVVVW1P1VVVVVVVcU/VVVVVVVVxT8AAAAAAADQPwAAAAAAANA/VVVVVVVV1T9VVVVVVVXVP6uqqqqqqto/q6qqqqqq2j8AAAAAAADgPwAAAAAAAOA/AAAAAAAA4D8AAAAAAADgP6uqqqqqquI/q6qqqqqq4j+rqqqqqqriP6uqqqqqquI/q6qqqqqq4j+rqqqqqqriP6uqqqqqquI/q6qqqqqq4j+rqqqqqqriP1VVVVVVVeU/VVVVVVVV5T9VVVVVVVXlP1VVVVVVVeU/VVVVVVVV5T9VVVVVVVXlP1VVVVVVVeU/VVVVVVVV5T9VVVVVVVXlP1VVVVVVVeU/VVVVVVVV5T9VVVVVVVXlP1VVVVVVVeU/VVVVVVVV5T9VVVVVVVXlP1VVVVVVVeU/AAAAAAAA6D8AAAAAAADoP6uqqqqqquo/q6qqqqqq6j+rqqqqqqrqP6uqqqqqquo/q6qqqqqq6j+rqqqqqqrqP6uqqqqqquo/q6qqqqqq6j9VVVVVVVXtP1VVVVVVVe0/VVVVVVVV7T9VVVVVVVXtPwAAAAAAAPA/AAAAAAAA8D8AAAAAAADwPwAAAAAAAPA/AAAAAAAA8D8AAAAAAADwPwAAAAAAAPA/AAAAAAAA8D8AAAAAAADwPwAAAAAAAPA/AAAAAAAA8D8AAAAAAADwPw==",
          "dtype": "f8"
         }
        },
        {
         "hoverinfo": "name+x+y",
         "line": {
          "width": 2
         },
         "mode": "lines",
         "name": "vermifuge (AUC=0.83)",
         "opacity": 0.7,
         "type": "scatter",
         "x": {
          "bdata": "AAAAAAAAAAAAAAAAAAAAAAAAAAAAAAAAHh4eHh4erj+SkZGRkZGxPxQUFBQUFLQ/FBQUFBQUtD+XlpaWlpa2P5eWlpaWlrY/GRkZGRkZuT/d3Nzc3Ny8P19fX19fX78/X19fX19fvz9QUFBQUFDAP/b19fX19cU/Nzc3Nzc3xz+hoKCgoKDQP5KRkZGRkdE/MjIyMjIy0j8jIyMjIyPTP0ZGRkZGRtY/iIeHh4eH1z8oKCgoKCjYPygoKCgoKNg/aWlpaWlp2T9LS0tLS0vbP5ybm5ubm9s/LS0tLS0t3T/Ozc3Nzc3dPwAAAAAAAOA/UFBQUFBQ4D9paWlpaWnhP2lpaWlpaeE/kpGRkZGR4T/i4eHh4eHhP4OCgoKCguI/+/r6+vr64j+NjIyMjIzkP93c3Nzc3OQ/Hh4eHh4e5j9ubm5ubm7mP+fm5ubm5uY/Nzc3Nzc35z/Y19fX19fnPygoKCgoKOg/8fDw8PDw6D/Ew8PDw8PrPxQUFBQUFOw/ZGRkZGRk7D+1tLS0tLTsP1VVVVVVVe0/pqWlpaWl7T+/vr6+vr7uPw8PDw8PD+8/iIeHh4eH7z/Y19fX19fvPwAAAAAAAPA/",
          "dtype": "f8"
         },
         "y": {
          "bdata": "AAAAAAAAAABVVVVVVVW1PwAAAAAAANA/AAAAAAAA0D8AAAAAAADQPwAAAAAAANA/VVVVVVVV1T9VVVVVVVXVP6uqqqqqqto/q6qqqqqq2j8AAAAAAADgPwAAAAAAAOA/q6qqqqqq4j9VVVVVVVXlP1VVVVVVVeU/AAAAAAAA6D8AAAAAAADoPwAAAAAAAOg/AAAAAAAA6D8AAAAAAADoPwAAAAAAAOg/AAAAAAAA6D8AAAAAAADoP6uqqqqqquo/q6qqqqqq6j+rqqqqqqrqP1VVVVVVVe0/VVVVVVVV7T9VVVVVVVXtP1VVVVVVVe0/VVVVVVVV7T9VVVVVVVXtPwAAAAAAAPA/AAAAAAAA8D8AAAAAAADwPwAAAAAAAPA/AAAAAAAA8D8AAAAAAADwPwAAAAAAAPA/AAAAAAAA8D8AAAAAAADwPwAAAAAAAPA/AAAAAAAA8D8AAAAAAADwPwAAAAAAAPA/AAAAAAAA8D8AAAAAAADwPwAAAAAAAPA/AAAAAAAA8D8AAAAAAADwPwAAAAAAAPA/AAAAAAAA8D8AAAAAAADwPwAAAAAAAPA/AAAAAAAA8D8AAAAAAADwPwAAAAAAAPA/",
          "dtype": "f8"
         }
        }
       ],
       "layout": {
        "clickmode": "none",
        "height": 600,
        "legend": {
         "itemclick": "toggleothers",
         "itemdoubleclick": "toggle",
         "orientation": "h",
         "title": {
          "text": "Click to isolate trace"
         },
         "x": 0,
         "y": -0.1
        },
        "margin": {
         "b": 100,
         "l": 50,
         "r": 50,
         "t": 50
        },
        "template": {
         "data": {
          "bar": [
           {
            "error_x": {
             "color": "#2a3f5f"
            },
            "error_y": {
             "color": "#2a3f5f"
            },
            "marker": {
             "line": {
              "color": "#E5ECF6",
              "width": 0.5
             },
             "pattern": {
              "fillmode": "overlay",
              "size": 10,
              "solidity": 0.2
             }
            },
            "type": "bar"
           }
          ],
          "barpolar": [
           {
            "marker": {
             "line": {
              "color": "#E5ECF6",
              "width": 0.5
             },
             "pattern": {
              "fillmode": "overlay",
              "size": 10,
              "solidity": 0.2
             }
            },
            "type": "barpolar"
           }
          ],
          "carpet": [
           {
            "aaxis": {
             "endlinecolor": "#2a3f5f",
             "gridcolor": "white",
             "linecolor": "white",
             "minorgridcolor": "white",
             "startlinecolor": "#2a3f5f"
            },
            "baxis": {
             "endlinecolor": "#2a3f5f",
             "gridcolor": "white",
             "linecolor": "white",
             "minorgridcolor": "white",
             "startlinecolor": "#2a3f5f"
            },
            "type": "carpet"
           }
          ],
          "choropleth": [
           {
            "colorbar": {
             "outlinewidth": 0,
             "ticks": ""
            },
            "type": "choropleth"
           }
          ],
          "contour": [
           {
            "colorbar": {
             "outlinewidth": 0,
             "ticks": ""
            },
            "colorscale": [
             [
              0,
              "#0d0887"
             ],
             [
              0.1111111111111111,
              "#46039f"
             ],
             [
              0.2222222222222222,
              "#7201a8"
             ],
             [
              0.3333333333333333,
              "#9c179e"
             ],
             [
              0.4444444444444444,
              "#bd3786"
             ],
             [
              0.5555555555555556,
              "#d8576b"
             ],
             [
              0.6666666666666666,
              "#ed7953"
             ],
             [
              0.7777777777777778,
              "#fb9f3a"
             ],
             [
              0.8888888888888888,
              "#fdca26"
             ],
             [
              1,
              "#f0f921"
             ]
            ],
            "type": "contour"
           }
          ],
          "contourcarpet": [
           {
            "colorbar": {
             "outlinewidth": 0,
             "ticks": ""
            },
            "type": "contourcarpet"
           }
          ],
          "heatmap": [
           {
            "colorbar": {
             "outlinewidth": 0,
             "ticks": ""
            },
            "colorscale": [
             [
              0,
              "#0d0887"
             ],
             [
              0.1111111111111111,
              "#46039f"
             ],
             [
              0.2222222222222222,
              "#7201a8"
             ],
             [
              0.3333333333333333,
              "#9c179e"
             ],
             [
              0.4444444444444444,
              "#bd3786"
             ],
             [
              0.5555555555555556,
              "#d8576b"
             ],
             [
              0.6666666666666666,
              "#ed7953"
             ],
             [
              0.7777777777777778,
              "#fb9f3a"
             ],
             [
              0.8888888888888888,
              "#fdca26"
             ],
             [
              1,
              "#f0f921"
             ]
            ],
            "type": "heatmap"
           }
          ],
          "histogram": [
           {
            "marker": {
             "pattern": {
              "fillmode": "overlay",
              "size": 10,
              "solidity": 0.2
             }
            },
            "type": "histogram"
           }
          ],
          "histogram2d": [
           {
            "colorbar": {
             "outlinewidth": 0,
             "ticks": ""
            },
            "colorscale": [
             [
              0,
              "#0d0887"
             ],
             [
              0.1111111111111111,
              "#46039f"
             ],
             [
              0.2222222222222222,
              "#7201a8"
             ],
             [
              0.3333333333333333,
              "#9c179e"
             ],
             [
              0.4444444444444444,
              "#bd3786"
             ],
             [
              0.5555555555555556,
              "#d8576b"
             ],
             [
              0.6666666666666666,
              "#ed7953"
             ],
             [
              0.7777777777777778,
              "#fb9f3a"
             ],
             [
              0.8888888888888888,
              "#fdca26"
             ],
             [
              1,
              "#f0f921"
             ]
            ],
            "type": "histogram2d"
           }
          ],
          "histogram2dcontour": [
           {
            "colorbar": {
             "outlinewidth": 0,
             "ticks": ""
            },
            "colorscale": [
             [
              0,
              "#0d0887"
             ],
             [
              0.1111111111111111,
              "#46039f"
             ],
             [
              0.2222222222222222,
              "#7201a8"
             ],
             [
              0.3333333333333333,
              "#9c179e"
             ],
             [
              0.4444444444444444,
              "#bd3786"
             ],
             [
              0.5555555555555556,
              "#d8576b"
             ],
             [
              0.6666666666666666,
              "#ed7953"
             ],
             [
              0.7777777777777778,
              "#fb9f3a"
             ],
             [
              0.8888888888888888,
              "#fdca26"
             ],
             [
              1,
              "#f0f921"
             ]
            ],
            "type": "histogram2dcontour"
           }
          ],
          "mesh3d": [
           {
            "colorbar": {
             "outlinewidth": 0,
             "ticks": ""
            },
            "type": "mesh3d"
           }
          ],
          "parcoords": [
           {
            "line": {
             "colorbar": {
              "outlinewidth": 0,
              "ticks": ""
             }
            },
            "type": "parcoords"
           }
          ],
          "pie": [
           {
            "automargin": true,
            "type": "pie"
           }
          ],
          "scatter": [
           {
            "fillpattern": {
             "fillmode": "overlay",
             "size": 10,
             "solidity": 0.2
            },
            "type": "scatter"
           }
          ],
          "scatter3d": [
           {
            "line": {
             "colorbar": {
              "outlinewidth": 0,
              "ticks": ""
             }
            },
            "marker": {
             "colorbar": {
              "outlinewidth": 0,
              "ticks": ""
             }
            },
            "type": "scatter3d"
           }
          ],
          "scattercarpet": [
           {
            "marker": {
             "colorbar": {
              "outlinewidth": 0,
              "ticks": ""
             }
            },
            "type": "scattercarpet"
           }
          ],
          "scattergeo": [
           {
            "marker": {
             "colorbar": {
              "outlinewidth": 0,
              "ticks": ""
             }
            },
            "type": "scattergeo"
           }
          ],
          "scattergl": [
           {
            "marker": {
             "colorbar": {
              "outlinewidth": 0,
              "ticks": ""
             }
            },
            "type": "scattergl"
           }
          ],
          "scattermap": [
           {
            "marker": {
             "colorbar": {
              "outlinewidth": 0,
              "ticks": ""
             }
            },
            "type": "scattermap"
           }
          ],
          "scattermapbox": [
           {
            "marker": {
             "colorbar": {
              "outlinewidth": 0,
              "ticks": ""
             }
            },
            "type": "scattermapbox"
           }
          ],
          "scatterpolar": [
           {
            "marker": {
             "colorbar": {
              "outlinewidth": 0,
              "ticks": ""
             }
            },
            "type": "scatterpolar"
           }
          ],
          "scatterpolargl": [
           {
            "marker": {
             "colorbar": {
              "outlinewidth": 0,
              "ticks": ""
             }
            },
            "type": "scatterpolargl"
           }
          ],
          "scatterternary": [
           {
            "marker": {
             "colorbar": {
              "outlinewidth": 0,
              "ticks": ""
             }
            },
            "type": "scatterternary"
           }
          ],
          "surface": [
           {
            "colorbar": {
             "outlinewidth": 0,
             "ticks": ""
            },
            "colorscale": [
             [
              0,
              "#0d0887"
             ],
             [
              0.1111111111111111,
              "#46039f"
             ],
             [
              0.2222222222222222,
              "#7201a8"
             ],
             [
              0.3333333333333333,
              "#9c179e"
             ],
             [
              0.4444444444444444,
              "#bd3786"
             ],
             [
              0.5555555555555556,
              "#d8576b"
             ],
             [
              0.6666666666666666,
              "#ed7953"
             ],
             [
              0.7777777777777778,
              "#fb9f3a"
             ],
             [
              0.8888888888888888,
              "#fdca26"
             ],
             [
              1,
              "#f0f921"
             ]
            ],
            "type": "surface"
           }
          ],
          "table": [
           {
            "cells": {
             "fill": {
              "color": "#EBF0F8"
             },
             "line": {
              "color": "white"
             }
            },
            "header": {
             "fill": {
              "color": "#C8D4E3"
             },
             "line": {
              "color": "white"
             }
            },
            "type": "table"
           }
          ]
         },
         "layout": {
          "annotationdefaults": {
           "arrowcolor": "#2a3f5f",
           "arrowhead": 0,
           "arrowwidth": 1
          },
          "autotypenumbers": "strict",
          "coloraxis": {
           "colorbar": {
            "outlinewidth": 0,
            "ticks": ""
           }
          },
          "colorscale": {
           "diverging": [
            [
             0,
             "#8e0152"
            ],
            [
             0.1,
             "#c51b7d"
            ],
            [
             0.2,
             "#de77ae"
            ],
            [
             0.3,
             "#f1b6da"
            ],
            [
             0.4,
             "#fde0ef"
            ],
            [
             0.5,
             "#f7f7f7"
            ],
            [
             0.6,
             "#e6f5d0"
            ],
            [
             0.7,
             "#b8e186"
            ],
            [
             0.8,
             "#7fbc41"
            ],
            [
             0.9,
             "#4d9221"
            ],
            [
             1,
             "#276419"
            ]
           ],
           "sequential": [
            [
             0,
             "#0d0887"
            ],
            [
             0.1111111111111111,
             "#46039f"
            ],
            [
             0.2222222222222222,
             "#7201a8"
            ],
            [
             0.3333333333333333,
             "#9c179e"
            ],
            [
             0.4444444444444444,
             "#bd3786"
            ],
            [
             0.5555555555555556,
             "#d8576b"
            ],
            [
             0.6666666666666666,
             "#ed7953"
            ],
            [
             0.7777777777777778,
             "#fb9f3a"
            ],
            [
             0.8888888888888888,
             "#fdca26"
            ],
            [
             1,
             "#f0f921"
            ]
           ],
           "sequentialminus": [
            [
             0,
             "#0d0887"
            ],
            [
             0.1111111111111111,
             "#46039f"
            ],
            [
             0.2222222222222222,
             "#7201a8"
            ],
            [
             0.3333333333333333,
             "#9c179e"
            ],
            [
             0.4444444444444444,
             "#bd3786"
            ],
            [
             0.5555555555555556,
             "#d8576b"
            ],
            [
             0.6666666666666666,
             "#ed7953"
            ],
            [
             0.7777777777777778,
             "#fb9f3a"
            ],
            [
             0.8888888888888888,
             "#fdca26"
            ],
            [
             1,
             "#f0f921"
            ]
           ]
          },
          "colorway": [
           "#636efa",
           "#EF553B",
           "#00cc96",
           "#ab63fa",
           "#FFA15A",
           "#19d3f3",
           "#FF6692",
           "#B6E880",
           "#FF97FF",
           "#FECB52"
          ],
          "font": {
           "color": "#2a3f5f"
          },
          "geo": {
           "bgcolor": "white",
           "lakecolor": "white",
           "landcolor": "#E5ECF6",
           "showlakes": true,
           "showland": true,
           "subunitcolor": "white"
          },
          "hoverlabel": {
           "align": "left"
          },
          "hovermode": "closest",
          "mapbox": {
           "style": "light"
          },
          "paper_bgcolor": "white",
          "plot_bgcolor": "#E5ECF6",
          "polar": {
           "angularaxis": {
            "gridcolor": "white",
            "linecolor": "white",
            "ticks": ""
           },
           "bgcolor": "#E5ECF6",
           "radialaxis": {
            "gridcolor": "white",
            "linecolor": "white",
            "ticks": ""
           }
          },
          "scene": {
           "xaxis": {
            "backgroundcolor": "#E5ECF6",
            "gridcolor": "white",
            "gridwidth": 2,
            "linecolor": "white",
            "showbackground": true,
            "ticks": "",
            "zerolinecolor": "white"
           },
           "yaxis": {
            "backgroundcolor": "#E5ECF6",
            "gridcolor": "white",
            "gridwidth": 2,
            "linecolor": "white",
            "showbackground": true,
            "ticks": "",
            "zerolinecolor": "white"
           },
           "zaxis": {
            "backgroundcolor": "#E5ECF6",
            "gridcolor": "white",
            "gridwidth": 2,
            "linecolor": "white",
            "showbackground": true,
            "ticks": "",
            "zerolinecolor": "white"
           }
          },
          "shapedefaults": {
           "line": {
            "color": "#2a3f5f"
           }
          },
          "ternary": {
           "aaxis": {
            "gridcolor": "white",
            "linecolor": "white",
            "ticks": ""
           },
           "baxis": {
            "gridcolor": "white",
            "linecolor": "white",
            "ticks": ""
           },
           "bgcolor": "#E5ECF6",
           "caxis": {
            "gridcolor": "white",
            "linecolor": "white",
            "ticks": ""
           }
          },
          "title": {
           "x": 0.05
          },
          "xaxis": {
           "automargin": true,
           "gridcolor": "white",
           "linecolor": "white",
           "ticks": "",
           "title": {
            "standoff": 15
           },
           "zerolinecolor": "white",
           "zerolinewidth": 2
          },
          "yaxis": {
           "automargin": true,
           "gridcolor": "white",
           "linecolor": "white",
           "ticks": "",
           "title": {
            "standoff": 15
           },
           "zerolinecolor": "white",
           "zerolinewidth": 2
          }
         }
        },
        "title": {
         "text": "ROC Curves (AUC > 0.70)"
        },
        "width": 800,
        "xaxis": {
         "title": {
          "text": "False Positive Rate"
         }
        },
        "yaxis": {
         "title": {
          "text": "True Positive Rate"
         }
        }
       }
      }
     },
     "metadata": {},
     "output_type": "display_data"
    }
   ],
   "source": [
    "#######################################\n",
    "# ROC CURVE VISUALIZATION\n",
    "#######################################\n",
    "# 1) Extract the trained XGB and your test set\n",
    "xgb_model = df_smote_results['XGBoost']['model']\n",
    "y_true    = y_test                            # integer‐encoded labels\n",
    "X_test    = X_test\n",
    "classes   = label_encoder.classes_            # array of string labels\n",
    "\n",
    "# 2) Get probability estimates\n",
    "y_proba = xgb_model.predict_proba(X_test)     # shape (n_samples, n_classes)\n",
    "\n",
    "# 3) Compute ROC + AUC for each class\n",
    "roc_data = {}\n",
    "for idx, name in enumerate(classes):\n",
    "    y_true_bin = (y_true == idx).astype(int)\n",
    "    y_score    = y_proba[:, idx]\n",
    "    fpr, tpr, _ = roc_curve(y_true_bin, y_score)\n",
    "    roc_data[name] = (fpr, tpr, auc(fpr, tpr))\n",
    "\n",
    "# 4) Filter to only those with AUC > 0.7\n",
    "auc_threshold    = 0.7\n",
    "filtered_roc_data = {\n",
    "    name: data \n",
    "    for name, data in roc_data.items() \n",
    "    if data[2] > auc_threshold\n",
    "}\n",
    "print(f\"Plotting {len(filtered_roc_data)} classes with AUC > {auc_threshold}:\")\n",
    "print(list(filtered_roc_data.keys()))\n",
    "\n",
    "# 5) Build interactive ROC widget over the filtered set\n",
    "import plotly.graph_objs as go\n",
    "from plotly.subplots import make_subplots\n",
    "\n",
    "# assume filtered_roc_data is already defined as before\n",
    "\n",
    "# 5) Plot with Plotly for click-to-toggle traces\n",
    "import plotly.graph_objs as go\n",
    "from plotly.subplots import make_subplots\n",
    "\n",
    "# assume filtered_roc_data and auc_threshold are already defined\n",
    "\n",
    "# 1) Create the figure\n",
    "fig = go.Figure()\n",
    "\n",
    "# add the diagonal\n",
    "fig.add_trace(go.Scatter(\n",
    "    x=[0,1], y=[0,1],\n",
    "    mode='lines',\n",
    "    line=dict(color='black', dash='dash'),\n",
    "    showlegend=False,\n",
    "    hoverinfo='none'\n",
    "))\n",
    "\n",
    "# add one ROC line per class\n",
    "for name, (fpr, tpr, score) in filtered_roc_data.items():\n",
    "    fig.add_trace(go.Scatter(\n",
    "        x=fpr, y=tpr,\n",
    "        mode='lines',\n",
    "        name=f\"{name} (AUC={score:.2f})\",\n",
    "        line=dict(width=2),\n",
    "        opacity=0.7,\n",
    "        hoverinfo='name+x+y'\n",
    "    ))\n",
    "\n",
    "# 2) Update layout with toggle-others behavior\n",
    "# … your existing code to build `fig` …\n",
    "\n",
    "fig.update_layout(\n",
    "    title=f\"ROC Curves (AUC > {auc_threshold:.2f})\",\n",
    "    xaxis_title=\"False Positive Rate\",\n",
    "    yaxis_title=\"True Positive Rate\",\n",
    "    legend=dict(\n",
    "        title=\"Click to isolate trace\",\n",
    "        orientation=\"h\",\n",
    "        x=0, y=-0.1,\n",
    "        itemclick='toggleothers',\n",
    "        itemdoubleclick='toggle',\n",
    "    ),\n",
    "    margin=dict(l=50, r=50, t=50, b=100),\n",
    "    width=800, height=600,\n",
    "    clickmode='none'\n",
    ")\n",
    "\n",
    "# ▶️ Save to HTML:\n",
    "roc_filename = f\"roc_curves_auc_above_{int(auc_threshold*100)}.html\"\n",
    "fig.write_html(roc_filename, include_plotlyjs='cdn')\n",
    "print(f\"▶️ Saved ROC curves to {roc_filename}\")\n",
    "\n",
    "fig.show()"
   ]
  }
 ],
 "metadata": {
  "kernelspec": {
   "display_name": "Python 3",
   "language": "python",
   "name": "python3"
  },
  "language_info": {
   "codemirror_mode": {
    "name": "ipython",
    "version": 3
   },
   "file_extension": ".py",
   "mimetype": "text/x-python",
   "name": "python",
   "nbconvert_exporter": "python",
   "pygments_lexer": "ipython3",
   "version": "3.9.6"
  }
 },
 "nbformat": 4,
 "nbformat_minor": 5
}
