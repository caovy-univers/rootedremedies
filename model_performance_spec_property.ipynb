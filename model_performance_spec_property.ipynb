{
 "cells": [
  {
   "cell_type": "markdown",
   "id": "9e26b735",
   "metadata": {},
   "source": [
    "# 🤖 Predictive Model Performance\n",
    "## How do you decide which predictive model to use?\n",
    "In this notebook, we evaluate several machine learning models to predict whether a plant has medicinal properties based on its taxonomy and other descriptive features. Below is a brief overview of the models used and how they conceptually approach the classification task:\n",
    "\n",
    "### 1. **Logistic Regression**\n",
    "- **Type**: Linear model\n",
    "- **Concept**: Estimates the probability that a plant is medicinal using a weighted combination of input features.\n",
    "- **Strengths**: Simple, interpretable, fast.\n",
    "- **Limitations**: Assumes a linear relationship between features and the log-odds of the outcome; struggles with complex patterns.\n",
    "\n",
    "### 2. **Decision Tree**\n",
    "- **Type**: Non-linear, rule-based\n",
    "- **Concept**: Splits the data into branches based on feature thresholds to arrive at a prediction at the leaves.\n",
    "- **Strengths**: Easy to visualize and understand; captures non-linear relationships.\n",
    "- **Limitations**: Can overfit the training data if not pruned or regularized.\n",
    "\n",
    "### 3. **Random Forest**\n",
    "- **Type**: Ensemble (of decision trees)\n",
    "- **Concept**: Trains multiple decision trees on different subsets of the data and averages their predictions to reduce variance.\n",
    "- **Strengths**: More accurate and robust than a single tree; reduces overfitting.\n",
    "- **Limitations**: Less interpretable; slower than simpler models.\n",
    "\n",
    "### 4. **Gradient Boosting (e.g., GBT)**\n",
    "- **Type**: Ensemble (boosted decision trees)\n",
    "- **Concept**: Trains trees sequentially, where each tree corrects the errors of the previous one using gradient descent.\n",
    "- **Strengths**: High accuracy; handles complex patterns well.\n",
    "- **Limitations**: Can overfit if not tuned properly; computationally intensive.\n",
    "\n",
    "### 5. **Support Vector Machine (SVM)**\n",
    "- **Type**: Maximum-margin classifier\n",
    "- **Concept**: Finds the optimal boundary (hyperplane) that best separates medicinal from non-medicinal plants by maximizing the margin between classes.\n",
    "- **Strengths**: Works well in high-dimensional spaces; robust to overfitting.\n",
    "- **Limitations**: Not ideal for large datasets; performance depends on kernel choice.\n",
    "\n",
    "### 6. **XGBoost**\n",
    "- **Type**: Gradient-boosted tree ensemble (optimized)\n",
    "- **Concept**: An efficient and regularized implementation of gradient boosting that adds boosting trees iteratively to correct previous errors.\n",
    "- **Strengths**: Often state-of-the-art in structured data problems; fast and scalable.\n",
    "- **Limitations**: Complex; requires tuning; less interpretable.\n",
    "\n",
    "---\n",
    "\n",
    "Each model captures different aspects of the underlying patterns in the data. By comparing their performance across different evaluation strategies (e.g., with SMOTE and downsampling), we aim to identify not only which models are accurate, but also which ones are most robust under real-world conditions.\n"
   ]
  },
  {
   "cell_type": "code",
   "execution_count": 8,
   "id": "cfc63346",
   "metadata": {},
   "outputs": [],
   "source": [
    "import pandas as pd\n",
    "import numpy as np\n",
    "import matplotlib.pyplot as plt\n",
    "import seaborn as sns\n",
    "import ast\n",
    "\n",
    "from sklearn.model_selection import train_test_split\n",
    "from sklearn.preprocessing import LabelEncoder, StandardScaler\n",
    "from sklearn.metrics import classification_report, confusion_matrix, auc, roc_curve\n",
    "from sklearn.linear_model import LogisticRegression\n",
    "from sklearn.tree import DecisionTreeClassifier\n",
    "from sklearn.ensemble import RandomForestClassifier, GradientBoostingClassifier\n",
    "from sklearn.svm import SVC\n",
    "import pandas as pd\n",
    "import plotly.express as px\n",
    "import ipywidgets as widgets\n",
    "from IPython.display import display\n",
    "from sklearn.utils.class_weight import compute_class_weight\n",
    "from imblearn.over_sampling import SMOTE\n",
    "from collections import Counter\n",
    "from xgboost import XGBClassifier\n",
    "import matplotlib.pyplot as plt\n",
    "from sklearn.metrics import confusion_matrix, ConfusionMatrixDisplay\n",
    "from sklearn.preprocessing import LabelEncoder\n",
    "from imblearn.under_sampling import RandomUnderSampler\n",
    "from sklearn.model_selection import train_test_split\n",
    "from collections import Counter\n",
    "from sklearn.linear_model import LogisticRegression\n",
    "from sklearn.tree import DecisionTreeClassifier\n",
    "from sklearn.ensemble import RandomForestClassifier, GradientBoostingClassifier\n",
    "from sklearn.svm import SVC\n",
    "from xgboost import XGBClassifier\n",
    "from sklearn.preprocessing import MultiLabelBinarizer\n",
    "\n",
    "\n",
    "\n",
    "import warnings\n",
    "warnings.filterwarnings('ignore')"
   ]
  },
  {
   "cell_type": "code",
   "execution_count": 12,
   "id": "8fe0421e",
   "metadata": {},
   "outputs": [],
   "source": [
    "#####################################\n",
    "# DATA LOADING\n",
    "#####################################\n",
    "#Load the pfaf_plants_merged.csv file\n",
    "df = pd.read_csv('pfaf_plants_merged.csv')\n",
    "df_countries = pd.read_excel('plants_native_countries.xlsx')\n",
    "df_countries = df_countries.rename(columns={'Scientific name': 'Scientific Name'})\n",
    "#df_countries.head()\n",
    "# Add 'native countries' column to the main dataframe\n",
    "countries = df_countries[['Family', 'native_countries']]\n",
    "df = df.merge(countries, on='Family', how='left')\n",
    "df.head()\n",
    "# Drop rows where 'native_countries' is NaN\n",
    "df = df.dropna(subset=['native_countries'])\n",
    "# Drop duplicate rows based on 'Scientific Name'\n",
    "df = df.drop_duplicates(subset=['Scientific Name'])"
   ]
  },
  {
   "cell_type": "code",
   "execution_count": 13,
   "id": "f5635311",
   "metadata": {},
   "outputs": [
    {
     "name": "stdout",
     "output_type": "stream",
     "text": [
      "Groups retained (>=50 samples):\n",
      "medicinal_group\n",
      "tonic          604\n",
      "stomachic      551\n",
      "skin           212\n",
      "astringent     178\n",
      "diuretic       168\n",
      "poultice       158\n",
      "febrifuge      158\n",
      "sedative       152\n",
      "miscellany     134\n",
      "vermifuge      129\n",
      "ophthalmic     114\n",
      "styptic         86\n",
      "hypotensive     81\n",
      "stimulant       78\n",
      "laxative        77\n",
      "salve           75\n",
      "purgative       73\n",
      "pectoral        60\n",
      "Name: count, dtype: int64 \n",
      "\n"
     ]
    }
   ],
   "source": [
    "#####################################\n",
    "# DATA PREPROCESSING WITH GROUPING\n",
    "# ----------- Using Down-Sampling -----------\n",
    "#####################################\n",
    "\n",
    "from sklearn.preprocessing import LabelEncoder\n",
    "from imblearn.over_sampling import SMOTE\n",
    "from sklearn.model_selection import train_test_split\n",
    "\n",
    "# Drop rows with missing key info\n",
    "df = df.dropna(subset=[\n",
    "    'Family', 'Scientific Name', \n",
    "    'medicinal_rating_search', 'use_keyword'\n",
    "])\n",
    "df.columns = df.columns.str.strip()\n",
    "\n",
    "# Filter only medicinal plants & extract first medicinal property\n",
    "df = df[df['medicinal_rating_search'] > 0]\n",
    "df['medicinal_property'] = (\n",
    "    df['use_keyword']\n",
    "      .astype(str)\n",
    "      .str.lower()\n",
    "      .str.split(';|,')\n",
    "      .str[0]\n",
    "      .str.strip()\n",
    ")\n",
    "\n",
    "# Rename features\n",
    "df = df.rename(columns={\n",
    "    'Edibility Rating': 'edibility',\n",
    "    'Other Uses Rating': 'other_uses'\n",
    "})\n",
    "\n",
    "# Drop any rows missing our core features\n",
    "df = df.dropna(subset=[\n",
    "    'Family', 'Scientific Name', \n",
    "    'medicinal_property', 'edibility', 'other_uses', 'native_countries'\n",
    "])\n",
    "\n",
    "# Map properties to groups (identity here)\n",
    "df['medicinal_group'] = df['medicinal_property']\n",
    "df = df.dropna(subset=['medicinal_group'])\n",
    "\n",
    "# Encode categorical 'Family'\n",
    "df['Family'] = LabelEncoder().fit_transform(df['Family'])\n",
    "\n",
    "# ---- NEW: keep only groups with ≥ 50 samples ----\n",
    "group_counts = df['medicinal_group'].value_counts()\n",
    "keep_groups  = group_counts[group_counts >= 50].index\n",
    "df = df[df['medicinal_group'].isin(keep_groups)]\n",
    "print(\"Groups retained (>=50 samples):\")\n",
    "print(df['medicinal_group'].value_counts(), \"\\n\")\n",
    "\n",
    "# At this point you have df and y_encoded\n",
    "label_encoder = LabelEncoder()\n",
    "y_encoded     = label_encoder.fit_transform(df['medicinal_group'])\n",
    "\n",
    "# --- NEW: Parse and binarize the multi-label country lists ---\n",
    "# If native_countries is stored as a string repr of a list, first turn it into an actual list:\n",
    "df['native_countries'] = df['native_countries'].apply(\n",
    "    lambda x: ast.literal_eval(x) if isinstance(x, str) else x\n",
    ")\n",
    "\n",
    "# Fit the MultiLabelBinarizer on your full dataset\n",
    "mlb = MultiLabelBinarizer()\n",
    "country_dummies = pd.DataFrame(\n",
    "    mlb.fit_transform(df['native_countries']),\n",
    "    columns=mlb.classes_,\n",
    "    index=df.index\n",
    ")\n",
    "\n",
    "# Combine with your other numeric features\n",
    "X_other = df[['Family', 'edibility', 'other_uses']]\n",
    "X_full  = pd.concat([X_other, country_dummies], axis=1)\n",
    "\n",
    "# 2) Apply SMOTE on the fully numeric matrix\n",
    "sm = SMOTE(random_state=42, k_neighbors=1)\n",
    "X_resampled, y_resampled = sm.fit_resample(X_full, y_encoded)\n",
    "\n",
    "# 3) Train / test split\n",
    "X_train, X_test, y_train, y_test = train_test_split(\n",
    "    X_resampled, y_resampled,\n",
    "    test_size=0.2,\n",
    "    random_state=42,\n",
    "    stratify=y_resampled\n",
    ")"
   ]
  },
  {
   "cell_type": "code",
   "execution_count": 14,
   "id": "dc8f67cb",
   "metadata": {},
   "outputs": [
    {
     "name": "stdout",
     "output_type": "stream",
     "text": [
      "\n",
      "=== Logistic Regression ===\n",
      "              precision    recall  f1-score   support\n",
      "\n",
      "  astringent       0.62      0.39      0.48       120\n",
      "    diuretic       0.34      0.28      0.30       120\n",
      "   febrifuge       0.25      0.45      0.32       121\n",
      " hypotensive       0.36      0.88      0.51       121\n",
      "    laxative       0.14      0.23      0.18       121\n",
      "  miscellany       0.28      0.16      0.20       121\n",
      "  ophthalmic       0.11      0.07      0.09       121\n",
      "    pectoral       0.13      0.08      0.10       121\n",
      "    poultice       0.27      0.16      0.20       120\n",
      "   purgative       0.25      0.40      0.31       121\n",
      "       salve       0.15      0.12      0.13       121\n",
      "    sedative       0.23      0.31      0.26       121\n",
      "        skin       0.28      0.22      0.25       121\n",
      "   stimulant       0.25      0.31      0.28       121\n",
      "   stomachic       0.20      0.10      0.13       121\n",
      "     styptic       0.18      0.18      0.18       121\n",
      "       tonic       0.21      0.02      0.04       121\n",
      "   vermifuge       0.25      0.18      0.21       121\n",
      "\n",
      "    accuracy                           0.25      2175\n",
      "   macro avg       0.25      0.25      0.23      2175\n",
      "weighted avg       0.25      0.25      0.23      2175\n",
      "\n",
      "\n",
      "=== Decision Tree ===\n",
      "              precision    recall  f1-score   support\n",
      "\n",
      "  astringent       0.67      0.72      0.69       120\n",
      "    diuretic       0.67      0.59      0.63       120\n",
      "   febrifuge       0.72      0.69      0.70       121\n",
      " hypotensive       0.77      0.96      0.86       121\n",
      "    laxative       0.63      0.78      0.69       121\n",
      "  miscellany       0.58      0.63      0.60       121\n",
      "  ophthalmic       0.60      0.45      0.52       121\n",
      "    pectoral       0.71      0.81      0.76       121\n",
      "    poultice       0.64      0.56      0.60       120\n",
      "   purgative       0.77      0.83      0.80       121\n",
      "       salve       0.74      0.60      0.67       121\n",
      "    sedative       0.59      0.64      0.61       121\n",
      "        skin       0.57      0.51      0.54       121\n",
      "   stimulant       0.80      0.72      0.76       121\n",
      "   stomachic       0.34      0.23      0.27       121\n",
      "     styptic       0.51      0.76      0.61       121\n",
      "       tonic       0.33      0.24      0.28       121\n",
      "   vermifuge       0.60      0.65      0.63       121\n",
      "\n",
      "    accuracy                           0.63      2175\n",
      "   macro avg       0.62      0.63      0.62      2175\n",
      "weighted avg       0.62      0.63      0.62      2175\n",
      "\n",
      "\n",
      "=== Random Forest ===\n",
      "              precision    recall  f1-score   support\n",
      "\n",
      "  astringent       0.64      0.70      0.67       120\n",
      "    diuretic       0.66      0.59      0.63       120\n",
      "   febrifuge       0.82      0.66      0.73       121\n",
      " hypotensive       0.78      0.96      0.86       121\n",
      "    laxative       0.66      0.79      0.71       121\n",
      "  miscellany       0.59      0.68      0.63       121\n",
      "  ophthalmic       0.63      0.48      0.54       121\n",
      "    pectoral       0.75      0.83      0.78       121\n",
      "    poultice       0.64      0.54      0.59       120\n",
      "   purgative       0.77      0.82      0.80       121\n",
      "       salve       0.73      0.62      0.67       121\n",
      "    sedative       0.60      0.65      0.63       121\n",
      "        skin       0.57      0.52      0.55       121\n",
      "   stimulant       0.79      0.74      0.77       121\n",
      "   stomachic       0.38      0.25      0.30       121\n",
      "     styptic       0.53      0.77      0.63       121\n",
      "       tonic       0.31      0.24      0.27       121\n",
      "   vermifuge       0.61      0.70      0.65       121\n",
      "\n",
      "    accuracy                           0.64      2175\n",
      "   macro avg       0.64      0.64      0.63      2175\n",
      "weighted avg       0.64      0.64      0.63      2175\n",
      "\n",
      "\n",
      "=== Gradient Boosting ===\n",
      "              precision    recall  f1-score   support\n",
      "\n",
      "  astringent       0.58      0.64      0.61       120\n",
      "    diuretic       0.49      0.48      0.49       120\n",
      "   febrifuge       0.62      0.54      0.58       121\n",
      " hypotensive       0.67      0.93      0.78       121\n",
      "    laxative       0.46      0.59      0.51       121\n",
      "  miscellany       0.38      0.40      0.39       121\n",
      "  ophthalmic       0.47      0.35      0.40       121\n",
      "    pectoral       0.49      0.69      0.58       121\n",
      "    poultice       0.47      0.27      0.34       120\n",
      "   purgative       0.58      0.73      0.64       121\n",
      "       salve       0.44      0.50      0.47       121\n",
      "    sedative       0.54      0.50      0.52       121\n",
      "        skin       0.45      0.33      0.38       121\n",
      "   stimulant       0.47      0.45      0.46       121\n",
      "   stomachic       0.28      0.17      0.21       121\n",
      "     styptic       0.41      0.45      0.43       121\n",
      "       tonic       0.38      0.30      0.33       121\n",
      "   vermifuge       0.54      0.55      0.54       121\n",
      "\n",
      "    accuracy                           0.49      2175\n",
      "   macro avg       0.48      0.49      0.48      2175\n",
      "weighted avg       0.48      0.49      0.48      2175\n",
      "\n",
      "\n",
      "=== SVM ===\n",
      "              precision    recall  f1-score   support\n",
      "\n",
      "  astringent       0.10      0.54      0.16       120\n",
      "    diuretic       0.07      0.24      0.11       120\n",
      "   febrifuge       0.09      0.04      0.06       121\n",
      " hypotensive       0.15      0.85      0.25       121\n",
      "    laxative       0.12      0.19      0.15       121\n",
      "  miscellany       0.00      0.00      0.00       121\n",
      "  ophthalmic       0.00      0.00      0.00       121\n",
      "    pectoral       0.00      0.00      0.00       121\n",
      "    poultice       0.00      0.00      0.00       120\n",
      "   purgative       0.00      0.00      0.00       121\n",
      "       salve       0.00      0.00      0.00       121\n",
      "    sedative       0.00      0.00      0.00       121\n",
      "        skin       0.13      0.17      0.15       121\n",
      "   stimulant       0.00      0.00      0.00       121\n",
      "   stomachic       0.00      0.00      0.00       121\n",
      "     styptic       0.00      0.00      0.00       121\n",
      "       tonic       0.00      0.00      0.00       121\n",
      "   vermifuge       0.00      0.00      0.00       121\n",
      "\n",
      "    accuracy                           0.11      2175\n",
      "   macro avg       0.04      0.11      0.05      2175\n",
      "weighted avg       0.04      0.11      0.05      2175\n",
      "\n",
      "\n",
      "=== XGBoost ===\n",
      "              precision    recall  f1-score   support\n",
      "\n",
      "  astringent       0.66      0.72      0.69       120\n",
      "    diuretic       0.72      0.57      0.63       120\n",
      "   febrifuge       0.75      0.63      0.68       121\n",
      " hypotensive       0.78      0.94      0.85       121\n",
      "    laxative       0.63      0.79      0.70       121\n",
      "  miscellany       0.54      0.60      0.57       121\n",
      "  ophthalmic       0.62      0.48      0.54       121\n",
      "    pectoral       0.69      0.84      0.76       121\n",
      "    poultice       0.57      0.47      0.51       120\n",
      "   purgative       0.77      0.83      0.80       121\n",
      "       salve       0.65      0.63      0.64       121\n",
      "    sedative       0.61      0.63      0.62       121\n",
      "        skin       0.58      0.50      0.54       121\n",
      "   stimulant       0.79      0.76      0.77       121\n",
      "   stomachic       0.40      0.26      0.32       121\n",
      "     styptic       0.53      0.79      0.63       121\n",
      "       tonic       0.38      0.30      0.33       121\n",
      "   vermifuge       0.64      0.64      0.64       121\n",
      "\n",
      "    accuracy                           0.63      2175\n",
      "   macro avg       0.63      0.63      0.62      2175\n",
      "weighted avg       0.63      0.63      0.62      2175\n",
      "\n"
     ]
    },
    {
     "data": {
      "application/vnd.jupyter.widget-view+json": {
       "model_id": "62abb185c3d942fd88799608d831435d",
       "version_major": 2,
       "version_minor": 0
      },
      "text/plain": [
       "Tab(children=(Output(), Output(), Output(), Output(), Output(), Output()), selected_index=0, titles=('Logistic…"
      ]
     },
     "metadata": {},
     "output_type": "display_data"
    }
   ],
   "source": [
    "#####################################\n",
    "# MODEL TRAINING AND EVALUATION\n",
    "#####################################\n",
    "# Optional second round of SMOTE\n",
    "use_smote = False  # Set to True if you want to apply SMOTE again\n",
    "if use_smote:\n",
    "    print(\"Before SMOTE:\", Counter(y_train))\n",
    "    sm = SMOTE(random_state=42)\n",
    "    X_train_res, y_train_res = sm.fit_resample(X_train, y_train)\n",
    "    print(\"After SMOTE:\", Counter(y_train_res))\n",
    "    scale_pos_weight = 1\n",
    "else:\n",
    "    X_train_res, y_train_res = X_train, y_train\n",
    "    # Only valid for binary targets; unused here\n",
    "    scale_pos_weight = 1\n",
    "\n",
    "# Define models\n",
    "models = {\n",
    "    'Logistic Regression': LogisticRegression(max_iter=1000, class_weight='balanced'),\n",
    "    'Decision Tree': DecisionTreeClassifier(class_weight='balanced'),\n",
    "    'Random Forest': RandomForestClassifier(class_weight='balanced'),\n",
    "    'Gradient Boosting': GradientBoostingClassifier(),  # doesn't support class_weight\n",
    "    'SVM': SVC(probability=True, class_weight='balanced'),\n",
    "    'XGBoost': XGBClassifier(use_label_encoder=False, eval_metric='logloss')\n",
    "}\n",
    "\n",
    "results = {}\n",
    "\n",
    "for name, model in models.items():\n",
    "    model.fit(X_train_res, y_train_res)\n",
    "    y_pred = model.predict(X_test)\n",
    "    \n",
    "    # Decode back to original string labels\n",
    "    y_test_decoded = label_encoder.inverse_transform(y_test)\n",
    "    y_pred_decoded = label_encoder.inverse_transform(y_pred)\n",
    "    \n",
    "    # Only binary metrics use proba; skip for now\n",
    "    y_proba = None\n",
    "\n",
    "    # Save results\n",
    "    results[name] = {\n",
    "        'model': model,\n",
    "        'pred': y_pred_decoded,\n",
    "        'proba': y_proba,\n",
    "        'report': classification_report(y_test_decoded, y_pred_decoded, output_dict=True)\n",
    "    }\n",
    "\n",
    "    # Print readable classification report\n",
    "    print(f\"\\n=== {name} ===\")\n",
    "    print(classification_report(y_test_decoded, y_pred_decoded))\n",
    "\n",
    "df_smote_results = results\n",
    "\n",
    "# Build a Tab, one child per model\n",
    "tabs = widgets.Tab()\n",
    "children = []\n",
    "titles   = []\n",
    "\n",
    "for name, result in results.items():\n",
    "    out = widgets.Output()\n",
    "    with out:\n",
    "        # Decode predictions & truth\n",
    "        y_pred_decoded = result['pred']\n",
    "        y_test_decoded = label_encoder.inverse_transform(y_test)\n",
    "\n",
    "        # Compute CM\n",
    "        cm = confusion_matrix(\n",
    "            y_test_decoded,\n",
    "            y_pred_decoded,\n",
    "            labels=label_encoder.classes_\n",
    "        )\n",
    "        disp = ConfusionMatrixDisplay(\n",
    "            confusion_matrix=cm,\n",
    "            display_labels=label_encoder.classes_\n",
    "        )\n",
    "\n",
    "        # Plot\n",
    "        fig, ax = plt.subplots(figsize=(8,8))\n",
    "        disp.plot(ax=ax, xticks_rotation='vertical', cmap='Blues')\n",
    "        ax.set_title(f\"Confusion Matrix — {name}\")\n",
    "        plt.tight_layout()\n",
    "        plt.show()\n",
    "\n",
    "    children.append(out)\n",
    "    titles.append(name)\n",
    "\n",
    "tabs.children = children\n",
    "for i, title in enumerate(titles):\n",
    "    tabs.set_title(i, title)\n",
    "\n",
    "display(tabs)"
   ]
  },
  {
   "cell_type": "code",
   "execution_count": 15,
   "id": "220b3d08",
   "metadata": {},
   "outputs": [
    {
     "name": "stdout",
     "output_type": "stream",
     "text": [
      "Groups retained (>=50 samples):\n",
      "medicinal_group\n",
      "tonic          604\n",
      "stomachic      551\n",
      "skin           212\n",
      "astringent     178\n",
      "diuretic       168\n",
      "poultice       158\n",
      "febrifuge      158\n",
      "sedative       152\n",
      "miscellany     134\n",
      "vermifuge      129\n",
      "ophthalmic     114\n",
      "styptic         86\n",
      "hypotensive     81\n",
      "stimulant       78\n",
      "laxative        77\n",
      "salve           75\n",
      "purgative       73\n",
      "pectoral        60\n",
      "Name: count, dtype: int64 \n",
      "\n"
     ]
    }
   ],
   "source": [
    "#####################################\n",
    "# DATA PREPROCESSING WITH GROUPING\n",
    "# ----------- Using Down-Sampling -----------\n",
    "#####################################\n",
    "\n",
    "from sklearn.preprocessing import LabelEncoder\n",
    "from imblearn.over_sampling import SMOTE\n",
    "from sklearn.model_selection import train_test_split\n",
    "\n",
    "# Drop rows with missing key info\n",
    "df = df.dropna(subset=[\n",
    "    'Family', 'Scientific Name', \n",
    "    'medicinal_rating_search', 'use_keyword'\n",
    "])\n",
    "df.columns = df.columns.str.strip()\n",
    "\n",
    "# Filter only medicinal plants & extract first medicinal property\n",
    "df = df[df['medicinal_rating_search'] > 0]\n",
    "df['medicinal_property'] = (\n",
    "    df['use_keyword']\n",
    "      .astype(str)\n",
    "      .str.lower()\n",
    "      .str.split(';|,')\n",
    "      .str[0]\n",
    "      .str.strip()\n",
    ")\n",
    "\n",
    "# Rename features\n",
    "df = df.rename(columns={\n",
    "    'Edibility Rating': 'edibility',\n",
    "    'Other Uses Rating': 'other_uses'\n",
    "})\n",
    "\n",
    "# Drop any rows missing our core features\n",
    "df = df.dropna(subset=[\n",
    "    'Family', 'Scientific Name', \n",
    "    'medicinal_property', 'edibility', 'other_uses', 'native_countries'\n",
    "])\n",
    "\n",
    "# Map properties to groups (identity here)\n",
    "df['medicinal_group'] = df['medicinal_property']\n",
    "df = df.dropna(subset=['medicinal_group'])\n",
    "\n",
    "# Encode categorical 'Family'\n",
    "df['Family'] = LabelEncoder().fit_transform(df['Family'])\n",
    "\n",
    "# ---- NEW: keep only groups with ≥ 50 samples ----\n",
    "group_counts = df['medicinal_group'].value_counts()\n",
    "keep_groups  = group_counts[group_counts >= 50].index\n",
    "df = df[df['medicinal_group'].isin(keep_groups)]\n",
    "print(\"Groups retained (>=50 samples):\")\n",
    "print(df['medicinal_group'].value_counts(), \"\\n\")\n",
    "\n",
    "# At this point you have df and y_encoded\n",
    "label_encoder = LabelEncoder()\n",
    "y_encoded     = label_encoder.fit_transform(df['medicinal_group'])\n",
    "\n",
    "# --- NEW: Parse and binarize the multi-label country lists ---\n",
    "# If native_countries is stored as a string repr of a list, first turn it into an actual list:\n",
    "df['native_countries'] = df['native_countries'].apply(\n",
    "    lambda x: ast.literal_eval(x) if isinstance(x, str) else x\n",
    ")\n",
    "\n",
    "# Fit the MultiLabelBinarizer on your full dataset\n",
    "mlb = MultiLabelBinarizer()\n",
    "country_dummies = pd.DataFrame(\n",
    "    mlb.fit_transform(df['native_countries']),\n",
    "    columns=mlb.classes_,\n",
    "    index=df.index\n",
    ")\n",
    "\n",
    "# Combine with your other numeric features\n",
    "X_other = df[['Family', 'edibility', 'other_uses']]\n",
    "X_full  = pd.concat([X_other, country_dummies], axis=1)\n",
    "\n",
    "# 2) Apply SMOTE on the fully numeric matrix\n",
    "rus = RandomUnderSampler(random_state=42)\n",
    "X_resampled, y_resampled = rus.fit_resample(X_full, y_encoded)\n",
    "\n",
    "# Finally, split into train/test\n",
    "# 3) Train / test split\n",
    "X_train, X_test, y_train, y_test = train_test_split(\n",
    "    X_resampled, y_resampled,\n",
    "    test_size=0.2,\n",
    "    random_state=42,\n",
    "    stratify=y_resampled\n",
    ")"
   ]
  },
  {
   "cell_type": "code",
   "execution_count": 16,
   "id": "013053b0",
   "metadata": {},
   "outputs": [
    {
     "name": "stdout",
     "output_type": "stream",
     "text": [
      "SMOTE used k_neighbors=47\n",
      "After SMOTE: Counter({4: 48, 1: 48, 9: 48, 0: 48, 6: 48, 12: 48, 7: 48, 8: 48, 16: 48, 17: 48, 13: 48, 2: 48, 11: 48, 14: 48, 15: 48, 5: 48, 10: 48, 3: 48})\n",
      "=== Logistic Regression ===\n",
      "              precision    recall  f1-score   support\n",
      "\n",
      "  astringent       0.14      0.17      0.15        12\n",
      "    diuretic       0.20      0.17      0.18        12\n",
      "   febrifuge       0.28      0.42      0.33        12\n",
      " hypotensive       0.26      0.58      0.36        12\n",
      "    laxative       0.00      0.00      0.00        12\n",
      "  miscellany       0.00      0.00      0.00        12\n",
      "  ophthalmic       0.00      0.00      0.00        12\n",
      "    pectoral       0.07      0.08      0.08        12\n",
      "    poultice       0.00      0.00      0.00        12\n",
      "   purgative       0.22      0.17      0.19        12\n",
      "       salve       0.00      0.00      0.00        12\n",
      "    sedative       0.14      0.33      0.20        12\n",
      "        skin       0.06      0.08      0.07        12\n",
      "   stimulant       0.21      0.25      0.23        12\n",
      "   stomachic       0.00      0.00      0.00        12\n",
      "     styptic       0.17      0.17      0.17        12\n",
      "       tonic       0.00      0.00      0.00        12\n",
      "   vermifuge       0.17      0.17      0.17        12\n",
      "\n",
      "    accuracy                           0.14       216\n",
      "   macro avg       0.11      0.14      0.12       216\n",
      "weighted avg       0.11      0.14      0.12       216\n",
      "\n",
      "=== Decision Tree ===\n",
      "              precision    recall  f1-score   support\n",
      "\n",
      "  astringent       0.31      0.33      0.32        12\n",
      "    diuretic       0.06      0.08      0.07        12\n",
      "   febrifuge       0.44      0.33      0.38        12\n",
      " hypotensive       0.47      0.67      0.55        12\n",
      "    laxative       0.14      0.08      0.11        12\n",
      "  miscellany       0.20      0.25      0.22        12\n",
      "  ophthalmic       0.00      0.00      0.00        12\n",
      "    pectoral       0.08      0.08      0.08        12\n",
      "    poultice       0.00      0.00      0.00        12\n",
      "   purgative       0.33      0.25      0.29        12\n",
      "       salve       0.00      0.00      0.00        12\n",
      "    sedative       0.17      0.17      0.17        12\n",
      "        skin       0.08      0.08      0.08        12\n",
      "   stimulant       0.06      0.08      0.07        12\n",
      "   stomachic       0.00      0.00      0.00        12\n",
      "     styptic       0.20      0.17      0.18        12\n",
      "       tonic       0.20      0.17      0.18        12\n",
      "   vermifuge       0.20      0.08      0.12        12\n",
      "\n",
      "    accuracy                           0.16       216\n",
      "   macro avg       0.16      0.16      0.16       216\n",
      "weighted avg       0.16      0.16      0.16       216\n",
      "\n",
      "=== Random Forest ===\n",
      "              precision    recall  f1-score   support\n",
      "\n",
      "  astringent       0.40      0.33      0.36        12\n",
      "    diuretic       0.13      0.17      0.15        12\n",
      "   febrifuge       0.36      0.33      0.35        12\n",
      " hypotensive       0.50      0.67      0.57        12\n",
      "    laxative       0.00      0.00      0.00        12\n",
      "  miscellany       0.31      0.33      0.32        12\n",
      "  ophthalmic       0.07      0.08      0.08        12\n",
      "    pectoral       0.08      0.08      0.08        12\n",
      "    poultice       0.14      0.08      0.11        12\n",
      "   purgative       0.17      0.17      0.17        12\n",
      "       salve       0.00      0.00      0.00        12\n",
      "    sedative       0.12      0.17      0.14        12\n",
      "        skin       0.11      0.08      0.10        12\n",
      "   stimulant       0.07      0.08      0.08        12\n",
      "   stomachic       0.00      0.00      0.00        12\n",
      "     styptic       0.18      0.17      0.17        12\n",
      "       tonic       0.09      0.08      0.09        12\n",
      "   vermifuge       0.11      0.08      0.10        12\n",
      "\n",
      "    accuracy                           0.16       216\n",
      "   macro avg       0.16      0.16      0.16       216\n",
      "weighted avg       0.16      0.16      0.16       216\n",
      "\n",
      "=== Gradient Boosting ===\n",
      "              precision    recall  f1-score   support\n",
      "\n",
      "  astringent       0.40      0.33      0.36        12\n",
      "    diuretic       0.15      0.25      0.19        12\n",
      "   febrifuge       0.40      0.33      0.36        12\n",
      " hypotensive       0.50      0.67      0.57        12\n",
      "    laxative       0.00      0.00      0.00        12\n",
      "  miscellany       0.36      0.33      0.35        12\n",
      "  ophthalmic       0.00      0.00      0.00        12\n",
      "    pectoral       0.07      0.08      0.08        12\n",
      "    poultice       0.00      0.00      0.00        12\n",
      "   purgative       0.30      0.25      0.27        12\n",
      "       salve       0.00      0.00      0.00        12\n",
      "    sedative       0.15      0.25      0.19        12\n",
      "        skin       0.22      0.17      0.19        12\n",
      "   stimulant       0.12      0.17      0.14        12\n",
      "   stomachic       0.08      0.08      0.08        12\n",
      "     styptic       0.22      0.17      0.19        12\n",
      "       tonic       0.00      0.00      0.00        12\n",
      "   vermifuge       0.23      0.25      0.24        12\n",
      "\n",
      "    accuracy                           0.19       216\n",
      "   macro avg       0.18      0.19      0.18       216\n",
      "weighted avg       0.18      0.19      0.18       216\n",
      "\n",
      "=== SVM ===\n",
      "              precision    recall  f1-score   support\n",
      "\n",
      "  astringent       0.08      0.50      0.13        12\n",
      "    diuretic       0.09      0.42      0.15        12\n",
      "   febrifuge       0.00      0.00      0.00        12\n",
      " hypotensive       0.10      0.67      0.17        12\n",
      "    laxative       0.00      0.00      0.00        12\n",
      "  miscellany       0.00      0.00      0.00        12\n",
      "  ophthalmic       0.00      0.00      0.00        12\n",
      "    pectoral       0.00      0.00      0.00        12\n",
      "    poultice       0.00      0.00      0.00        12\n",
      "   purgative       0.00      0.00      0.00        12\n",
      "       salve       0.00      0.00      0.00        12\n",
      "    sedative       0.00      0.00      0.00        12\n",
      "        skin       0.00      0.00      0.00        12\n",
      "   stimulant       0.00      0.00      0.00        12\n",
      "   stomachic       0.00      0.00      0.00        12\n",
      "     styptic       0.00      0.00      0.00        12\n",
      "       tonic       0.00      0.00      0.00        12\n",
      "   vermifuge       0.00      0.00      0.00        12\n",
      "\n",
      "    accuracy                           0.09       216\n",
      "   macro avg       0.01      0.09      0.03       216\n",
      "weighted avg       0.01      0.09      0.03       216\n",
      "\n",
      "=== XGBoost ===\n",
      "              precision    recall  f1-score   support\n",
      "\n",
      "  astringent       0.25      0.25      0.25        12\n",
      "    diuretic       0.12      0.17      0.14        12\n",
      "   febrifuge       0.36      0.33      0.35        12\n",
      " hypotensive       0.53      0.67      0.59        12\n",
      "    laxative       0.00      0.00      0.00        12\n",
      "  miscellany       0.40      0.33      0.36        12\n",
      "  ophthalmic       0.00      0.00      0.00        12\n",
      "    pectoral       0.07      0.08      0.07        12\n",
      "    poultice       0.00      0.00      0.00        12\n",
      "   purgative       0.30      0.25      0.27        12\n",
      "       salve       0.08      0.08      0.08        12\n",
      "    sedative       0.19      0.25      0.21        12\n",
      "        skin       0.09      0.08      0.09        12\n",
      "   stimulant       0.13      0.17      0.15        12\n",
      "   stomachic       0.00      0.00      0.00        12\n",
      "     styptic       0.14      0.08      0.11        12\n",
      "       tonic       0.10      0.08      0.09        12\n",
      "   vermifuge       0.11      0.17      0.13        12\n",
      "\n",
      "    accuracy                           0.17       216\n",
      "   macro avg       0.16      0.17      0.16       216\n",
      "weighted avg       0.16      0.17      0.16       216\n",
      "\n"
     ]
    },
    {
     "data": {
      "application/vnd.jupyter.widget-view+json": {
       "model_id": "24fb7cecbc65494991fbafc1cdb99335",
       "version_major": 2,
       "version_minor": 0
      },
      "text/plain": [
       "Tab(children=(Output(), Output(), Output(), Output(), Output(), Output()), selected_index=0, titles=('Logistic…"
      ]
     },
     "metadata": {},
     "output_type": "display_data"
    }
   ],
   "source": [
    "#####################################\n",
    "# MODEL TRAINING AND EVALUATION\n",
    "#####################################\n",
    "# Set seed for reproducibility\n",
    "np.random.seed(42)\n",
    "from sklearn.utils.class_weight import compute_class_weight\n",
    "from imblearn.over_sampling import SMOTE\n",
    "from collections import Counter\n",
    "from xgboost import XGBClassifier\n",
    "\n",
    "# --- Optional: Apply SMOTE to training set ---\n",
    "use_smote = True  # Set to True because of the class imbalance in the dataset\n",
    "\n",
    "if use_smote:\n",
    "    # Check class distribution in y_train\n",
    "    class_counts = Counter(y_train)\n",
    "    min_class_size = min(class_counts.values())\n",
    "\n",
    "    # Set k_neighbors to one less than the smallest class count\n",
    "    # SMOTE requires: n_neighbors < min_class_size\n",
    "    k_neighbors = max(1, min_class_size - 1)  # Must be at least 1\n",
    "\n",
    "    # Apply SMOTE with adjusted k_neighbors\n",
    "    sm = SMOTE(random_state=42, k_neighbors=k_neighbors)\n",
    "    X_train_res, y_train_res = sm.fit_resample(X_train, y_train)\n",
    "\n",
    "    print(f\"SMOTE used k_neighbors={k_neighbors}\")\n",
    "    print(\"After SMOTE:\", Counter(y_train_res))\n",
    "else:\n",
    "    X_train_res, y_train_res = X_train, y_train\n",
    "    # Compute scale_pos_weight for XGBoost (used when not using SMOTE)\n",
    "    # Compute scale_pos_weight for XGBoost (used when not using SMOTE)\n",
    "    class_counts = np.bincount(y_train)\n",
    "    if len(class_counts) == 2:  # Binary classification\n",
    "        neg, pos = class_counts\n",
    "        scale_pos_weight = neg / pos\n",
    "    else:  # Multiclass classification\n",
    "        scale_pos_weight = 1  # Default value for multiclass\n",
    "\n",
    "# Define models with class_weight or equivalent\n",
    "models = {\n",
    "    'Logistic Regression': LogisticRegression(class_weight='balanced'),\n",
    "    'Decision Tree': DecisionTreeClassifier(class_weight='balanced'),\n",
    "    'Random Forest': RandomForestClassifier(class_weight='balanced'),\n",
    "    'Gradient Boosting': GradientBoostingClassifier(),  # Cannot set class_weight\n",
    "    'SVM': SVC(probability=True, class_weight='balanced'),\n",
    "    'XGBoost': XGBClassifier(use_label_encoder=False, eval_metric='logloss', scale_pos_weight=scale_pos_weight)\n",
    "}\n",
    "\n",
    "results = {}\n",
    "\n",
    "for name, model in models.items():\n",
    "    model.fit(X_train_res, y_train_res)\n",
    "    y_pred = model.predict(X_test)\n",
    "    y_proba = model.predict_proba(X_test)[:, 1] if hasattr(model, 'predict_proba') else None\n",
    "    y_pred_labels = label_encoder.inverse_transform(y_pred)\n",
    "    y_test_labels = label_encoder.inverse_transform(y_test)\n",
    "    results[name] = {\n",
    "        'model': model,\n",
    "        'pred': y_pred_labels,\n",
    "        'proba': y_proba,\n",
    "        'report': classification_report(y_test_labels, y_pred_labels, output_dict=True)\n",
    "    }\n",
    "    print(f\"=== {name} ===\")\n",
    "    # Decode numeric predictions back to strings\n",
    "    print(classification_report(y_test_labels, y_pred_labels))\n",
    "\n",
    "# Build a Tab, one child per model\n",
    "tabs = widgets.Tab()\n",
    "children = []\n",
    "titles   = []\n",
    "\n",
    "for name, result in results.items():\n",
    "    out = widgets.Output()\n",
    "    with out:\n",
    "        # Decode predictions & truth\n",
    "        y_pred_decoded = result['pred']\n",
    "        y_test_decoded = label_encoder.inverse_transform(y_test)\n",
    "\n",
    "        # Compute CM\n",
    "        cm = confusion_matrix(\n",
    "            y_test_decoded,\n",
    "            y_pred_decoded,\n",
    "            labels=label_encoder.classes_\n",
    "        )\n",
    "        disp = ConfusionMatrixDisplay(\n",
    "            confusion_matrix=cm,\n",
    "            display_labels=label_encoder.classes_\n",
    "        )\n",
    "\n",
    "        # Plot\n",
    "        fig, ax = plt.subplots(figsize=(8,8))\n",
    "        disp.plot(ax=ax, xticks_rotation='vertical', cmap='Blues')\n",
    "        ax.set_title(f\"Confusion Matrix — {name}\")\n",
    "        plt.tight_layout()\n",
    "        plt.show()\n",
    "\n",
    "    children.append(out)\n",
    "    titles.append(name)\n",
    "\n",
    "tabs.children = children\n",
    "for i, title in enumerate(titles):\n",
    "    tabs.set_title(i, title)\n",
    "\n",
    "display(tabs)\n",
    "\n",
    "df_downsampled_results = results"
   ]
  },
  {
   "cell_type": "code",
   "execution_count": null,
   "id": "6038571e",
   "metadata": {},
   "outputs": [
    {
     "data": {
      "application/vnd.jupyter.widget-view+json": {
       "model_id": "bb26e80c8e584c9d92a321b8db5a63a8",
       "version_major": 2,
       "version_minor": 0
      },
      "text/plain": [
       "HBox(children=(Dropdown(description='Metric:', options=('F1', 'Precision', 'Recall'), value='F1'), Dropdown(de…"
      ]
     },
     "metadata": {},
     "output_type": "display_data"
    },
    {
     "data": {
      "application/vnd.jupyter.widget-view+json": {
       "model_id": "2d386e7dbfdf4c92a267a7d4cc3a0625",
       "version_major": 2,
       "version_minor": 0
      },
      "text/plain": [
       "Output()"
      ]
     },
     "metadata": {},
     "output_type": "display_data"
    }
   ],
   "source": [
    "#####################################\n",
    "# VISUALIZATION AND INTERACTIVE WIDGETS\n",
    "#####################################\n",
    "def extract_classification_metrics(results_dict, eval_set_name):\n",
    "    rows = []\n",
    "    for model_name, result in results_dict.items():\n",
    "        report = result['report']\n",
    "        for cls, metrics in report.items():\n",
    "            # Skip summary rows\n",
    "            if cls in ['accuracy', 'macro avg', 'weighted avg']:\n",
    "                continue\n",
    "            rows.append({\n",
    "                'Model': model_name,\n",
    "                'Metric': 'F1',\n",
    "                'Class': cls,\n",
    "                'Value': metrics.get('f1-score', 0.0),\n",
    "                'Set': eval_set_name\n",
    "            })\n",
    "            rows.append({\n",
    "                'Model': model_name,\n",
    "                'Metric': 'Precision',\n",
    "                'Class': cls,\n",
    "                'Value': metrics.get('precision', 0.0),\n",
    "                'Set': eval_set_name\n",
    "            })\n",
    "            rows.append({\n",
    "                'Model': model_name,\n",
    "                'Metric': 'Recall',\n",
    "                'Class': cls,\n",
    "                'Value': metrics.get('recall', 0.0),\n",
    "                'Set': eval_set_name\n",
    "            })\n",
    "    df_metrics = pd.DataFrame(rows)\n",
    "    if df_metrics.empty:\n",
    "        print(\"🚨 WARNING: Extracted metrics dataframe is empty!\")\n",
    "    return df_metrics\n",
    "\n",
    "# 1. Use your real results dictionaries (from your model evaluation)\n",
    "smote_results = {k: v for k, v in df_smote_results.items() if k != 'Set'}\n",
    "downsampled_results = {k: v for k, v in df_downsampled_results.items() if k != 'Set'}\n",
    "\n",
    "# 2. Extract performance metrics into tidy DataFrames\n",
    "df_smote_metrics = extract_classification_metrics(smote_results, 'SMOTE')\n",
    "df_downsampled_metrics = extract_classification_metrics(downsampled_results, 'Downsampled')\n",
    "\n",
    "# 3. Combine them for plotting\n",
    "df_viz = pd.concat([df_smote_metrics, df_downsampled_metrics], ignore_index=True)\n",
    "\n",
    "# Create widgets\n",
    "metric_dropdown = widgets.Dropdown(\n",
    "    options=['F1', 'Precision', 'Recall'],\n",
    "    value='F1',\n",
    "    description='Metric:'\n",
    ")\n",
    "# Dynamically pull all class names from df_viz\n",
    "unique_classes = sorted(df_viz['Class'].unique())\n",
    "\n",
    "class_dropdown = widgets.Dropdown(\n",
    "    options=unique_classes,\n",
    "    value=unique_classes[0],\n",
    "    description='Class:'\n",
    ")\n",
    "\n",
    "def update_plot(metric, target_class):\n",
    "    filtered = df_viz[\n",
    "        (df_viz['Metric'] == metric) &\n",
    "        (df_viz['Class'] == target_class)\n",
    "    ]\n",
    "    fig = px.bar(\n",
    "        filtered,\n",
    "        x='Model',\n",
    "        y='Value',\n",
    "        color='Set',\n",
    "        barmode='group',\n",
    "        title=f\"{metric} Score Comparison - Class {target_class}\"\n",
    "    )\n",
    "    fig.update_layout(yaxis=dict(range=[0, 1]))\n",
    "    # save out\n",
    "    filename = f\"{metric}_{target_class}_comparison.html\"\n",
    "    fig.write_html(filename, include_plotlyjs='cdn')\n",
    "    print(f\"▶️ Saved bar chart to {filename}\")\n",
    "    fig.show()\n",
    "\n",
    "out = widgets.interactive_output(update_plot, {\n",
    "    'metric': metric_dropdown,\n",
    "    'target_class': class_dropdown\n",
    "})\n",
    "\n",
    "# Display widgets and output\n",
    "display(widgets.HBox([metric_dropdown, class_dropdown]), out)"
   ]
  },
  {
   "cell_type": "code",
   "execution_count": null,
   "id": "b0aebc68",
   "metadata": {},
   "outputs": [
    {
     "name": "stdout",
     "output_type": "stream",
     "text": [
      "Plotting 18 classes with AUC > 0.7:\n",
      "['astringent', 'diuretic', 'febrifuge', 'hypotensive', 'laxative', 'miscellany', 'ophthalmic', 'pectoral', 'poultice', 'purgative', 'salve', 'sedative', 'skin', 'stimulant', 'stomachic', 'styptic', 'tonic', 'vermifuge']\n"
     ]
    },
    {
     "data": {
      "application/vnd.plotly.v1+json": {
       "config": {
        "plotlyServerURL": "https://plot.ly"
       },
       "data": [
        {
         "hoverinfo": "none",
         "line": {
          "color": "black",
          "dash": "dash"
         },
         "mode": "lines",
         "showlegend": false,
         "type": "scatter",
         "x": [
          0,
          1
         ],
         "y": [
          0,
          1
         ]
        },
        {
         "hoverinfo": "name+x+y",
         "line": {
          "width": 2
         },
         "mode": "lines",
         "name": "astringent (AUC=0.88)",
         "opacity": 0.7,
         "type": "scatter",
         "x": {
          "bdata": "AAAAAAAAAAAAAAAAAAAAABQUFBQUFIQ/FBQUFBQUhD8eHh4eHh6OPxkZGRkZGZk/kpGRkZGRoT8ZGRkZGRmpPxkZGRkZGak/UFBQUFBQsD+SkZGRkZGxPxQUFBQUFLQ/l5aWlpaWtj8ZGRkZGRm5P1paWlpaWro/3dzc3NzcvD+SkZGRkZHBP5KRkZGRkcE/MjIyMjIywj8yMjIyMjLCP9PS0tLS0sI/09LS0tLSwj94eHh4eHjIP5ybm5ubm8s/nJubm5ubyz88PDw8PDzMP319fX19fc0/kpGRkZGR0T8yMjIyMjLSP9PS0tLS0tI/FBQUFBQU1D/Y19fX19fXP9jX19fX19c/S0tLS0tL2z/s6+vr6+vbP42MjIyMjNw/fX19fX193T+/vr6+vr7eP4OCgoKCguI/IyMjIyMj4z8eHh4eHh7mP25ubm5ubuY/Nzc3Nzc35z+wr6+vr6/nP3h4eHh4eOg/ycjIyMjI6D/i4eHh4eHpPzIyMjIyMuo/g4KCgoKC6j/T0tLS0tLqP8TDw8PDw+s/FBQUFBQU7D8tLS0tLS3tP87Nzc3Nze0/5+bm5ubm7j83Nzc3NzfvPwAAAAAAAPA/",
          "dtype": "f8"
         },
         "y": {
          "bdata": "AAAAAAAAAABVVVVVVVW1P1VVVVVVVbU/VVVVVVVV1T9VVVVVVVXVP1VVVVVVVdU/q6qqqqqq2j+rqqqqqqraPwAAAAAAAOA/AAAAAAAA4D8AAAAAAADgPwAAAAAAAOA/AAAAAAAA4D8AAAAAAADgPwAAAAAAAOA/AAAAAAAA4D8AAAAAAADgP6uqqqqqquI/q6qqqqqq4j9VVVVVVVXlP1VVVVVVVeU/AAAAAAAA6D8AAAAAAADoPwAAAAAAAOg/q6qqqqqq6j+rqqqqqqrqP6uqqqqqquo/q6qqqqqq6j+rqqqqqqrqP6uqqqqqquo/q6qqqqqq6j+rqqqqqqrqPwAAAAAAAPA/AAAAAAAA8D8AAAAAAADwPwAAAAAAAPA/AAAAAAAA8D8AAAAAAADwPwAAAAAAAPA/AAAAAAAA8D8AAAAAAADwPwAAAAAAAPA/AAAAAAAA8D8AAAAAAADwPwAAAAAAAPA/AAAAAAAA8D8AAAAAAADwPwAAAAAAAPA/AAAAAAAA8D8AAAAAAADwPwAAAAAAAPA/AAAAAAAA8D8AAAAAAADwPwAAAAAAAPA/AAAAAAAA8D8AAAAAAADwPwAAAAAAAPA/",
          "dtype": "f8"
         }
        },
        {
         "hoverinfo": "name+x+y",
         "line": {
          "width": 2
         },
         "mode": "lines",
         "name": "diuretic (AUC=0.85)",
         "opacity": 0.7,
         "type": "scatter",
         "x": {
          "bdata": "AAAAAAAAAAAAAAAAAAAAAB4eHh4eHq4/Hh4eHh4erj+SkZGRkZGxP9PS0tLS0rI/09LS0tLSsj8UFBQUFBS0PxQUFBQUFLQ/VVVVVVVVtT9VVVVVVVW1PxkZGRkZGbk/3dzc3NzcvD9QUFBQUFDAP/Hw8PDw8MA/8fDw8PDwwD8yMjIyMjLCP9PS0tLS0sI/c3Nzc3Nzwz9zc3Nzc3PDP/b19fX19cU/9vX19fX1xT+XlpaWlpbGPzc3Nzc3N8c/WlpaWlpayj+cm5ubm5vLPzw8PDw8PMw/Hh4eHh4ezj9BQUFBQUHRPzIyMjIyMtI/09LS0tLS0j9GRkZGRkbWP4iHh4eHh9c/WlpaWlpa2j/7+vr6+vraP42MjIyMjNw/LS0tLS0t3T/Ozc3Nzc3dP7++vr6+vt4/KCgoKCgo4D94eHh4eHjgP+Lh4eHh4eE/MjIyMjIy4j+rqqqqqqriP/v6+vr6+uI/3dzc3Nzc5D/d3Nzc3NzkPy0tLS0tLeU/fX19fX195T+/vr6+vr7mPw8PDw8PD+c/oaCgoKCg6D/x8PDw8PDoPxkZGRkZGek/4uHh4eHh6T+DgoKCgoLqP9PS0tLS0uo/S0tLS0tL6z+cm5ubm5vrP+zr6+vr6+s/PDw8PDw87D9ubm5ubm7uP7++vr6+vu4/X19fX19f7z+wr6+vr6/vPwAAAAAAAPA/",
          "dtype": "f8"
         },
         "y": {
          "bdata": "AAAAAAAAAABVVVVVVVW1P1VVVVVVVbU/VVVVVVVVxT9VVVVVVVXFP1VVVVVVVcU/AAAAAAAA0D8AAAAAAADQP1VVVVVVVdU/VVVVVVVV1T+rqqqqqqraP6uqqqqqqto/q6qqqqqq2j8AAAAAAADgPwAAAAAAAOA/q6qqqqqq4j+rqqqqqqriP1VVVVVVVeU/VVVVVVVV5T8AAAAAAADoPwAAAAAAAOg/q6qqqqqq6j+rqqqqqqrqP1VVVVVVVe0/VVVVVVVV7T9VVVVVVVXtP1VVVVVVVe0/VVVVVVVV7T9VVVVVVVXtP1VVVVVVVe0/VVVVVVVV7T9VVVVVVVXtP1VVVVVVVe0/VVVVVVVV7T9VVVVVVVXtP1VVVVVVVe0/VVVVVVVV7T9VVVVVVVXtP1VVVVVVVe0/VVVVVVVV7T9VVVVVVVXtP1VVVVVVVe0/VVVVVVVV7T9VVVVVVVXtP1VVVVVVVe0/VVVVVVVV7T8AAAAAAADwPwAAAAAAAPA/AAAAAAAA8D8AAAAAAADwPwAAAAAAAPA/AAAAAAAA8D8AAAAAAADwPwAAAAAAAPA/AAAAAAAA8D8AAAAAAADwPwAAAAAAAPA/AAAAAAAA8D8AAAAAAADwPwAAAAAAAPA/AAAAAAAA8D8AAAAAAADwPwAAAAAAAPA/AAAAAAAA8D8AAAAAAADwPwAAAAAAAPA/",
          "dtype": "f8"
         }
        },
        {
         "hoverinfo": "name+x+y",
         "line": {
          "width": 2
         },
         "mode": "lines",
         "name": "febrifuge (AUC=0.89)",
         "opacity": 0.7,
         "type": "scatter",
         "x": {
          "bdata": "AAAAAAAAAAAUFBQUFBR0PxQUFBQUFHQ/Hh4eHh4ejj8ZGRkZGRmZPx4eHh4eHp4/Hh4eHh4enj8UFBQUFBSkPxQUFBQUFKQ/nJubm5ubqz9QUFBQUFCwP5KRkZGRkbE/kpGRkZGRsT+XlpaWlpa2PxkZGRkZGbk/X19fX19fvz9QUFBQUFDAP5KRkZGRkcE/FBQUFBQUxD+XlpaWlpbGPzc3Nzc3N8c/eHh4eHh4yD94eHh4eHjIP1BQUFBQUNA/QUFBQUFB0T+DgoKCgoLSPyMjIyMjI9M/xMPDw8PD0z9kZGRkZGTUP0ZGRkZGRtY/RkZGRkZG1j/Y19fX19fXP3h4eHh4eNg/S0tLS0tL2z/s6+vr6+vbP93c3Nzc3Nw/Hh4eHh4e3j+/vr6+vr7eP19fX19fX98/aWlpaWlp4T8KCgoKCgriP4OCgoKCguI/09LS0tLS4j9zc3Nzc3PjP8TDw8PDw+M/LS0tLS0t5T99fX19fX3lP/b19fX19eU/RkZGRkZG5j+SkZGRkZHpP1paWlpaWuo/tbS0tLS07D8FBQUFBQXtP25ubm5ubu4/X19fX19f7z8AAAAAAADwPw==",
          "dtype": "f8"
         },
         "y": {
          "bdata": "AAAAAAAAAAAAAAAAAAAAAFVVVVVVVbU/VVVVVVVVtT9VVVVVVVW1P1VVVVVVVbU/VVVVVVVVxT8AAAAAAADQP6uqqqqqqto/q6qqqqqq2j+rqqqqqqraP6uqqqqqqto/AAAAAAAA4D8AAAAAAADgP6uqqqqqquI/q6qqqqqq4j9VVVVVVVXlP1VVVVVVVeU/VVVVVVVV5T9VVVVVVVXlP6uqqqqqquo/q6qqqqqq6j9VVVVVVVXtP1VVVVVVVe0/VVVVVVVV7T9VVVVVVVXtP1VVVVVVVe0/VVVVVVVV7T9VVVVVVVXtP1VVVVVVVe0/AAAAAAAA8D8AAAAAAADwPwAAAAAAAPA/AAAAAAAA8D8AAAAAAADwPwAAAAAAAPA/AAAAAAAA8D8AAAAAAADwPwAAAAAAAPA/AAAAAAAA8D8AAAAAAADwPwAAAAAAAPA/AAAAAAAA8D8AAAAAAADwPwAAAAAAAPA/AAAAAAAA8D8AAAAAAADwPwAAAAAAAPA/AAAAAAAA8D8AAAAAAADwPwAAAAAAAPA/AAAAAAAA8D8AAAAAAADwPwAAAAAAAPA/AAAAAAAA8D8AAAAAAADwPw==",
          "dtype": "f8"
         }
        },
        {
         "hoverinfo": "name+x+y",
         "line": {
          "width": 2
         },
         "mode": "lines",
         "name": "hypotensive (AUC=0.95)",
         "opacity": 0.7,
         "type": "scatter",
         "x": {
          "bdata": "AAAAAAAAAAAAAAAAAAAAAAAAAAAAAAAAFBQUFBQUhD8UFBQUFBSEPx4eHh4eHo4/FBQUFBQUlD+SkZGRkZGhPxkZGRkZGak/Hh4eHh4erj/T0tLS0tKyP9jX19fX17c/GRkZGRkZuT+cm5ubm5u7P5ybm5ubm7s/09LS0tLSwj+1tLS0tLTEP5eWlpaWlsY/l5aWlpaWxj+6ubm5ubnJP/v6+vr6+so/QUFBQUFB0T/i4eHh4eHRP4OCgoKCgtI/xMPDw8PD0z8FBQUFBQXVP6alpaWlpdU/5+bm5ubm1j/Ozc3Nzc3dP7++vr6+vt4/X19fX19f3z8AAAAAAADgP6GgoKCgoOA/8fDw8PDw4D9paWlpaWnhP+Lh4eHh4eE/09LS0tLS4j9LS0tLS0vjP19fX19fX+c/sK+vr6+v5z/Y19fX19fnPygoKCgoKOg/oaCgoKCg6D/x8PDw8PDoP0FBQUFBQek/kpGRkZGR6T9aWlpaWlrqP6uqqqqqquo/IyMjIyMj6z9zc3Nzc3PrPwAAAAAAAPA/",
          "dtype": "f8"
         },
         "y": {
          "bdata": "AAAAAAAAAABVVVVVVVXFPwAAAAAAANA/AAAAAAAA0D+rqqqqqqraP6uqqqqqqto/AAAAAAAA4D8AAAAAAADgP1VVVVVVVeU/VVVVVVVV5T8AAAAAAADoPwAAAAAAAOg/q6qqqqqq6j+rqqqqqqrqP1VVVVVVVe0/VVVVVVVV7T9VVVVVVVXtP1VVVVVVVe0/AAAAAAAA8D8AAAAAAADwPwAAAAAAAPA/AAAAAAAA8D8AAAAAAADwPwAAAAAAAPA/AAAAAAAA8D8AAAAAAADwPwAAAAAAAPA/AAAAAAAA8D8AAAAAAADwPwAAAAAAAPA/AAAAAAAA8D8AAAAAAADwPwAAAAAAAPA/AAAAAAAA8D8AAAAAAADwPwAAAAAAAPA/AAAAAAAA8D8AAAAAAADwPwAAAAAAAPA/AAAAAAAA8D8AAAAAAADwPwAAAAAAAPA/AAAAAAAA8D8AAAAAAADwPwAAAAAAAPA/AAAAAAAA8D8AAAAAAADwPwAAAAAAAPA/AAAAAAAA8D8AAAAAAADwPwAAAAAAAPA/",
          "dtype": "f8"
         }
        },
        {
         "hoverinfo": "name+x+y",
         "line": {
          "width": 2
         },
         "mode": "lines",
         "name": "laxative (AUC=0.78)",
         "opacity": 0.7,
         "type": "scatter",
         "x": {
          "bdata": "AAAAAAAAAAAUFBQUFBR0PxQUFBQUFHQ/FBQUFBQUhD8UFBQUFBSEPxkZGRkZGZk/Hh4eHh4enj8eHh4eHh6ePxQUFBQUFKQ/FBQUFBQUpD8ZGRkZGRm5PxkZGRkZGbk/MjIyMjIywj8yMjIyMjLCPxkZGRkZGck/+/r6+vr6yj8eHh4eHh7OP1BQUFBQUNA/oaCgoKCg0D/x8PDw8PDQP+Lh4eHh4dE/g4KCgoKC0j9zc3Nzc3PTPzc3Nzc3N9c/2NfX19fX1z/JyMjIyMjYP7q5ubm5udk/CgoKCgoK2j+rqqqqqqraPzw8PDw8PNw/3dzc3Nzc3D8tLS0tLS3dP319fX19fd0/v76+vr6+3j9fX19fX1/fPxkZGRkZGeE/aWlpaWlp4T+6ubm5ubnhPwoKCgoKCuI/MjIyMjIy4j+rqqqqqqriP9PS0tLS0uI/09LS0tLS4j8jIyMjIyPjP3Nzc3Nzc+M/7Ovr6+vr4z88PDw8PDzkP93c3Nzc3OQ/fX19fX195T9ubm5ubm7mP25ubm5ubuY/UFBQUFBQ6D+hoKCgoKDoP8nIyMjIyOg/GRkZGRkZ6T+6ubm5ubnpPwoKCgoKCuo/xMPDw8PD6z8UFBQUFBTsP1VVVVVVVe0/pqWlpaWl7T/29fX19fXtP0ZGRkZGRu4/bm5ubm5u7j+/vr6+vr7uPwAAAAAAAPA/",
          "dtype": "f8"
         },
         "y": {
          "bdata": "AAAAAAAAAAAAAAAAAAAAAFVVVVVVVbU/VVVVVVVVtT9VVVVVVVXFP1VVVVVVVcU/AAAAAAAA0D9VVVVVVVXVP1VVVVVVVdU/q6qqqqqq2j+rqqqqqqraPwAAAAAAAOA/AAAAAAAA4D+rqqqqqqriP6uqqqqqquI/q6qqqqqq4j+rqqqqqqriP6uqqqqqquI/VVVVVVVV5T9VVVVVVVXlPwAAAAAAAOg/AAAAAAAA6D8AAAAAAADoPwAAAAAAAOg/AAAAAAAA6D8AAAAAAADoPwAAAAAAAOg/AAAAAAAA6D8AAAAAAADoPwAAAAAAAOg/AAAAAAAA6D8AAAAAAADoP6uqqqqqquo/q6qqqqqq6j+rqqqqqqrqP6uqqqqqquo/q6qqqqqq6j+rqqqqqqrqP6uqqqqqquo/q6qqqqqq6j+rqqqqqqrqP6uqqqqqquo/VVVVVVVV7T9VVVVVVVXtP1VVVVVVVe0/VVVVVVVV7T9VVVVVVVXtP1VVVVVVVe0/VVVVVVVV7T9VVVVVVVXtPwAAAAAAAPA/AAAAAAAA8D8AAAAAAADwPwAAAAAAAPA/AAAAAAAA8D8AAAAAAADwPwAAAAAAAPA/AAAAAAAA8D8AAAAAAADwPwAAAAAAAPA/AAAAAAAA8D8AAAAAAADwPwAAAAAAAPA/AAAAAAAA8D8AAAAAAADwPwAAAAAAAPA/",
          "dtype": "f8"
         }
        },
        {
         "hoverinfo": "name+x+y",
         "line": {
          "width": 2
         },
         "mode": "lines",
         "name": "miscellany (AUC=0.88)",
         "opacity": 0.7,
         "type": "scatter",
         "x": {
          "bdata": "AAAAAAAAAAAAAAAAAAAAABQUFBQUFHQ/FBQUFBQUdD8UFBQUFBSEPx4eHh4eHo4/Hh4eHh4ejj8UFBQUFBSUPx4eHh4eHp4/GRkZGRkZqT8eHh4eHh6uP5KRkZGRkbE/09LS0tLSsj8UFBQUFBS0P1VVVVVVVbU/GRkZGRkZuT+SkZGRkZHBP9PS0tLS0sI/GRkZGRkZyT/7+vr6+vrKPzw8PDw8PMw/fX19fX19zT8eHh4eHh7OPx4eHh4eHs4/QUFBQUFB0T9BQUFBQUHRPzIyMjIyMtI/09LS0tLS0j8FBQUFBQXVPwUFBQUFBdU/Nzc3Nzc31z/Y19fX19fXP7q5ubm5udk/q6qqqqqq2j/7+vr6+vraP42MjIyMjNw/X19fX19f3z9QUFBQUFDgPxkZGRkZGeE/aWlpaWlp4T/s6+vr6+vjPzw8PDw8POQ/BQUFBQUF5T9VVVVVVVXlP319fX19feU/zs3Nzc3N5T9ubm5ubm7mP7++vr6+vuY/IyMjIyMj6z/Ew8PDw8PrP/b19fX19e0/RkZGRkZG7j8AAAAAAADwPw==",
          "dtype": "f8"
         },
         "y": {
          "bdata": "AAAAAAAAAABVVVVVVVW1P1VVVVVVVcU/VVVVVVVV1T9VVVVVVVXVP6uqqqqqqto/AAAAAAAA4D8AAAAAAADgPwAAAAAAAOA/AAAAAAAA4D+rqqqqqqriP6uqqqqqquI/q6qqqqqq4j9VVVVVVVXlP1VVVVVVVeU/VVVVVVVV5T9VVVVVVVXlP1VVVVVVVeU/VVVVVVVV5T9VVVVVVVXlP1VVVVVVVeU/VVVVVVVV5T9VVVVVVVXlPwAAAAAAAOg/AAAAAAAA6D+rqqqqqqrqP6uqqqqqquo/q6qqqqqq6j+rqqqqqqrqP1VVVVVVVe0/VVVVVVVV7T9VVVVVVVXtP1VVVVVVVe0/VVVVVVVV7T8AAAAAAADwPwAAAAAAAPA/AAAAAAAA8D8AAAAAAADwPwAAAAAAAPA/AAAAAAAA8D8AAAAAAADwPwAAAAAAAPA/AAAAAAAA8D8AAAAAAADwPwAAAAAAAPA/AAAAAAAA8D8AAAAAAADwPwAAAAAAAPA/AAAAAAAA8D8AAAAAAADwPwAAAAAAAPA/AAAAAAAA8D8AAAAAAADwPw==",
          "dtype": "f8"
         }
        },
        {
         "hoverinfo": "name+x+y",
         "line": {
          "width": 2
         },
         "mode": "lines",
         "name": "ophthalmic (AUC=0.75)",
         "opacity": 0.7,
         "type": "scatter",
         "x": {
          "bdata": "AAAAAAAAAAAUFBQUFBR0PxQUFBQUFHQ/FBQUFBQUhD8UFBQUFBSEPxQUFBQUFJQ/FBQUFBQUlD8eHh4eHh6eP5eWlpaWlqY/GRkZGRkZqT8eHh4eHh6uPx4eHh4eHq4/09LS0tLSsj/Y19fX19e3Px4eHh4eHr4/8fDw8PDwwD8yMjIyMjLCPzc3Nzc3N8c/Nzc3Nzc3xz94eHh4eHjIP/v6+vr6+so/3dzc3NzczD8AAAAAAADQP6GgoKCgoNA/g4KCgoKC0j/Ew8PDw8PTPxQUFBQUFNQ/tbS0tLS01D+XlpaWlpbWP4iHh4eHh9c/ycjIyMjI2D9paWlpaWnZP1paWlpaWto/WlpaWlpa2j+NjIyMjIzcP319fX19fd0/v76+vr6+3j8AAAAAAADgPwAAAAAAAOA/UFBQUFBQ4D9paWlpaWnhP7q5ubm5ueE/FBQUFBQU5D9kZGRkZGTkP6alpaWlpeU/pqWlpaWl5T/29fX19fXlPw8PDw8PD+c/X19fX19f5z9fX19fX1/nP7Cvr6+vr+c/AAAAAAAA6D9zc3Nzc3PrP8TDw8PDw+s/ZGRkZGRk7D+1tLS0tLTsP1VVVVVVVe0/pqWlpaWl7T9ubm5ubm7uP7++vr6+vu4/AAAAAAAA8D8=",
          "dtype": "f8"
         },
         "y": {
          "bdata": "AAAAAAAAAAAAAAAAAAAAAFVVVVVVVbU/VVVVVVVVtT9VVVVVVVXFP1VVVVVVVcU/VVVVVVVV1T9VVVVVVVXVP6uqqqqqqto/q6qqqqqq2j+rqqqqqqraPwAAAAAAAOA/AAAAAAAA4D8AAAAAAADgPwAAAAAAAOA/AAAAAAAA4D8AAAAAAADgPwAAAAAAAOA/q6qqqqqq4j+rqqqqqqriP6uqqqqqquI/q6qqqqqq4j+rqqqqqqriP6uqqqqqquI/q6qqqqqq4j9VVVVVVVXlP1VVVVVVVeU/VVVVVVVV5T9VVVVVVVXlP1VVVVVVVeU/VVVVVVVV5T9VVVVVVVXlP1VVVVVVVeU/AAAAAAAA6D8AAAAAAADoPwAAAAAAAOg/AAAAAAAA6D8AAAAAAADoP6uqqqqqquo/q6qqqqqq6j+rqqqqqqrqP6uqqqqqquo/q6qqqqqq6j+rqqqqqqrqP6uqqqqqquo/VVVVVVVV7T9VVVVVVVXtP1VVVVVVVe0/VVVVVVVV7T8AAAAAAADwPwAAAAAAAPA/AAAAAAAA8D8AAAAAAADwPwAAAAAAAPA/AAAAAAAA8D8AAAAAAADwPwAAAAAAAPA/AAAAAAAA8D8AAAAAAADwPwAAAAAAAPA/AAAAAAAA8D8=",
          "dtype": "f8"
         }
        },
        {
         "hoverinfo": "name+x+y",
         "line": {
          "width": 2
         },
         "mode": "lines",
         "name": "pectoral (AUC=0.84)",
         "opacity": 0.7,
         "type": "scatter",
         "x": {
          "bdata": "AAAAAAAAAAAAAAAAAAAAABQUFBQUFHQ/FBQUFBQUdD+SkZGRkZGhP5KRkZGRkaE/GRkZGRkZqT8ZGRkZGRmpP5ybm5ubm6s/UFBQUFBQsD/T0tLS0tKyP9jX19fX17c/WlpaWlpauj+cm5ubm5u7P5ybm5ubm7s/3dzc3NzcvD9fX19fX1+/P7W0tLS0tMQ/9vX19fX1xT+XlpaWlpbGP9jX19fX18c/urm5ubm5yT9aWlpaWlrKP93c3Nzc3Mw/X19fX19fzz+hoKCgoKDQP6GgoKCgoNA/4uHh4eHh0T+DgoKCgoLSP4iHh4eHh9c/iIeHh4eH1z94eHh4eHjYPxkZGRkZGdk/aWlpaWlp2T8KCgoKCgraPygoKCgoKOA/eHh4eHh44D/i4eHh4eHhP1paWlpaWuI/IyMjIyMj4z+cm5ubm5vjP+zr6+vr6+M/3dzc3Nzc5D99fX19fX3lP6alpaWlpeU/9vX19fX15T9ubm5ubm7mP7++vr6+vuY/Nzc3Nzc35z+wr6+vr6/nPygoKCgoKOg/eHh4eHh46D9paWlpaWnpP2lpaWlpaek/urm5ubm56T/T0tLS0tLqPyMjIyMjI+s/BQUFBQUF7T9VVVVVVVXtP87Nzc3Nze0/Hh4eHh4e7j8AAAAAAADwPw==",
          "dtype": "f8"
         },
         "y": {
          "bdata": "AAAAAAAAAABVVVVVVVW1P1VVVVVVVbU/AAAAAAAA0D8AAAAAAADQP1VVVVVVVdU/VVVVVVVV1T+rqqqqqqraPwAAAAAAAOA/AAAAAAAA4D8AAAAAAADgPwAAAAAAAOA/q6qqqqqq4j+rqqqqqqriP1VVVVVVVeU/VVVVVVVV5T9VVVVVVVXlP1VVVVVVVeU/VVVVVVVV5T9VVVVVVVXlP1VVVVVVVeU/VVVVVVVV5T8AAAAAAADoPwAAAAAAAOg/AAAAAAAA6D8AAAAAAADoP6uqqqqqquo/q6qqqqqq6j+rqqqqqqrqP6uqqqqqquo/VVVVVVVV7T9VVVVVVVXtP1VVVVVVVe0/VVVVVVVV7T9VVVVVVVXtP1VVVVVVVe0/VVVVVVVV7T9VVVVVVVXtP1VVVVVVVe0/VVVVVVVV7T9VVVVVVVXtP1VVVVVVVe0/VVVVVVVV7T9VVVVVVVXtP1VVVVVVVe0/VVVVVVVV7T9VVVVVVVXtP1VVVVVVVe0/VVVVVVVV7T9VVVVVVVXtP1VVVVVVVe0/VVVVVVVV7T9VVVVVVVXtPwAAAAAAAPA/AAAAAAAA8D8AAAAAAADwPwAAAAAAAPA/AAAAAAAA8D8AAAAAAADwPwAAAAAAAPA/AAAAAAAA8D8AAAAAAADwPw==",
          "dtype": "f8"
         }
        },
        {
         "hoverinfo": "name+x+y",
         "line": {
          "width": 2
         },
         "mode": "lines",
         "name": "poultice (AUC=0.81)",
         "opacity": 0.7,
         "type": "scatter",
         "x": {
          "bdata": "AAAAAAAAAAAUFBQUFBR0PxQUFBQUFIQ/Hh4eHh4ejj8eHh4eHh6OPxkZGRkZGZk/GRkZGRkZmT+SkZGRkZGhPxkZGRkZGak/GRkZGRkZqT+XlpaWlpa2P5eWlpaWlrY/Hh4eHh4evj9QUFBQUFDAPzIyMjIyMsI/09LS0tLSwj+1tLS0tLTEP9jX19fX18c/GRkZGRkZyT+6ubm5ubnJP/v6+vr6+so/v76+vr6+zj+/vr6+vr7OP/Hw8PDw8NA/kpGRkZGR0T9kZGRkZGTUPwUFBQUFBdU/pqWlpaWl1T+mpaWlpaXVP/b19fX19dU/5+bm5ubm1j+6ubm5ubnZP1paWlpaWto/q6qqqqqq2j/s6+vr6+vbPzw8PDw8PNw/3dzc3Nzc3D99fX19fX3dP319fX19fd0/zs3Nzc3N3T9ubm5ubm7eP6GgoKCgoOA/oaCgoKCg4D9BQUFBQUHhP0FBQUFBQeE/kpGRkZGR4T9aWlpaWlriP6uqqqqqquI/+/r6+vr64j9zc3Nzc3PjPxQUFBQUFOQ/ZGRkZGRk5D/Ozc3Nzc3lPx4eHh4eHuY/v76+vr6+5j8PDw8PDw/nPygoKCgoKOg/eHh4eHh46D8ZGRkZGRnpP2lpaWlpaek/4uHh4eHh6T8yMjIyMjLqP7++vr6+vu4/Dw8PDw8P7z8AAAAAAADwPw==",
          "dtype": "f8"
         },
         "y": {
          "bdata": "AAAAAAAAAAAAAAAAAAAAAAAAAAAAAAAAVVVVVVVVtT9VVVVVVVXVP1VVVVVVVdU/q6qqqqqq2j+rqqqqqqraP6uqqqqqqto/AAAAAAAA4D8AAAAAAADgP6uqqqqqquI/q6qqqqqq4j+rqqqqqqriP6uqqqqqquI/q6qqqqqq4j+rqqqqqqriP6uqqqqqquI/q6qqqqqq4j+rqqqqqqriP6uqqqqqquI/q6qqqqqq4j9VVVVVVVXlP1VVVVVVVeU/VVVVVVVV5T9VVVVVVVXlP1VVVVVVVeU/VVVVVVVV5T8AAAAAAADoPwAAAAAAAOg/AAAAAAAA6D8AAAAAAADoPwAAAAAAAOg/AAAAAAAA6D8AAAAAAADoPwAAAAAAAOg/AAAAAAAA6D8AAAAAAADoP6uqqqqqquo/q6qqqqqq6j+rqqqqqqrqP6uqqqqqquo/VVVVVVVV7T9VVVVVVVXtPwAAAAAAAPA/AAAAAAAA8D8AAAAAAADwPwAAAAAAAPA/AAAAAAAA8D8AAAAAAADwPwAAAAAAAPA/AAAAAAAA8D8AAAAAAADwPwAAAAAAAPA/AAAAAAAA8D8AAAAAAADwPwAAAAAAAPA/AAAAAAAA8D8AAAAAAADwPwAAAAAAAPA/AAAAAAAA8D8AAAAAAADwPwAAAAAAAPA/AAAAAAAA8D8AAAAAAADwPw==",
          "dtype": "f8"
         }
        },
        {
         "hoverinfo": "name+x+y",
         "line": {
          "width": 2
         },
         "mode": "lines",
         "name": "purgative (AUC=0.84)",
         "opacity": 0.7,
         "type": "scatter",
         "x": {
          "bdata": "AAAAAAAAAAAUFBQUFBR0PxQUFBQUFHQ/FBQUFBQUhD8UFBQUFBSEPx4eHh4eHo4/Hh4eHh4ejj8eHh4eHh6eP5eWlpaWlqY/l5aWlpaWpj8eHh4eHh6uPx4eHh4eHq4/nJubm5ubuz8eHh4eHh6+P19fX19fX78/X19fX19fvz9zc3Nzc3PDP3Nzc3Nzc8M/FBQUFBQUxD8UFBQUFBTEP/v6+vr6+so/fX19fX19zT8eHh4eHh7OPx4eHh4eHs4/MjIyMjIy0j/T0tLS0tLSP5eWlpaWltY/Nzc3Nzc31z+Ih4eHh4fXPygoKCgoKNg/GRkZGRkZ2T8KCgoKCgraP1paWlpaWto/+/r6+vr62j/s6+vr6+vbPzw8PDw8PNw/3dzc3Nzc3D8tLS0tLS3dP87Nzc3Nzd0/KCgoKCgo4D+hoKCgoKDgP8nIyMjIyOA/8fDw8PDw4D/x8PDw8PDgPwoKCgoKCuI/g4KCgoKC4j/T0tLS0tLiPyMjIyMjI+M/pqWlpaWl5T9ubm5ubm7mP5eWlpaWluY/5+bm5ubm5j8PDw8PDw/nP19fX19fX+c/eHh4eHh46D/JyMjIyMjoPzIyMjIyMuo/g4KCgoKC6j8jIyMjIyPrP3Nzc3Nzc+s/xMPDw8PD6z8UFBQUFBTsP42MjIyMjOw/3dzc3Nzc7D99fX19fX3tP87Nzc3Nze0/Hh4eHh4e7j9ubm5ubm7uPwAAAAAAAPA/",
          "dtype": "f8"
         },
         "y": {
          "bdata": "AAAAAAAAAAAAAAAAAAAAAFVVVVVVVbU/VVVVVVVVtT9VVVVVVVXFP1VVVVVVVcU/AAAAAAAA0D9VVVVVVVXVP1VVVVVVVdU/q6qqqqqq2j+rqqqqqqraPwAAAAAAAOA/AAAAAAAA4D8AAAAAAADgPwAAAAAAAOA/q6qqqqqq4j+rqqqqqqriP1VVVVVVVeU/VVVVVVVV5T8AAAAAAADoPwAAAAAAAOg/AAAAAAAA6D8AAAAAAADoP6uqqqqqquo/q6qqqqqq6j+rqqqqqqrqP6uqqqqqquo/q6qqqqqq6j+rqqqqqqrqP6uqqqqqquo/q6qqqqqq6j+rqqqqqqrqP6uqqqqqquo/q6qqqqqq6j+rqqqqqqrqP6uqqqqqquo/q6qqqqqq6j+rqqqqqqrqP6uqqqqqquo/q6qqqqqq6j+rqqqqqqrqP1VVVVVVVe0/VVVVVVVV7T8AAAAAAADwPwAAAAAAAPA/AAAAAAAA8D8AAAAAAADwPwAAAAAAAPA/AAAAAAAA8D8AAAAAAADwPwAAAAAAAPA/AAAAAAAA8D8AAAAAAADwPwAAAAAAAPA/AAAAAAAA8D8AAAAAAADwPwAAAAAAAPA/AAAAAAAA8D8AAAAAAADwPwAAAAAAAPA/AAAAAAAA8D8AAAAAAADwPwAAAAAAAPA/AAAAAAAA8D8AAAAAAADwPwAAAAAAAPA/AAAAAAAA8D8AAAAAAADwPwAAAAAAAPA/",
          "dtype": "f8"
         }
        },
        {
         "hoverinfo": "name+x+y",
         "line": {
          "width": 2
         },
         "mode": "lines",
         "name": "salve (AUC=0.85)",
         "opacity": 0.7,
         "type": "scatter",
         "x": {
          "bdata": "AAAAAAAAAAAAAAAAAAAAAAAAAAAAAAAAFBQUFBQUdD8UFBQUFBSUPxQUFBQUFJQ/Hh4eHh4enj+SkZGRkZGhP5eWlpaWlqY/l5aWlpaWpj8eHh4eHh6uP5KRkZGRkbE/nJubm5ubuz+cm5ubm5u7PxQUFBQUFMQ/FBQUFBQUxD83Nzc3NzfHP3h4eHh4eMg/WlpaWlpayj/d3Nzc3NzMP7++vr6+vs4/AAAAAAAA0D9QUFBQUFDQP6GgoKCgoNA/oaCgoKCg0D/i4eHh4eHRP4OCgoKCgtI/c3Nzc3Nz0z/Y19fX19fXP8nIyMjIyNg/aWlpaWlp2T+rqqqqqqraP0tLS0tLS9s/7Ovr6+vr2z99fX19fX3dP87Nzc3Nzd0/bm5ubm5u3j8PDw8PDw/fP3h4eHh4eOA/ycjIyMjI4D8ZGRkZGRnhP7q5ubm5ueE/g4KCgoKC4j/T0tLS0tLiP1VVVVVVVeU/pqWlpaWl5T83Nzc3NzfnP9jX19fX1+c/eHh4eHh46D/JyMjIyMjoP93c3Nzc3Ow/LS0tLS0t7T8AAAAAAADwPw==",
          "dtype": "f8"
         },
         "y": {
          "bdata": "AAAAAAAAAABVVVVVVVW1PwAAAAAAANA/AAAAAAAA0D8AAAAAAADQP1VVVVVVVdU/VVVVVVVV1T9VVVVVVVXVP1VVVVVVVdU/q6qqqqqq2j+rqqqqqqraP6uqqqqqqto/q6qqqqqq2j8AAAAAAADgPwAAAAAAAOA/q6qqqqqq4j+rqqqqqqriP1VVVVVVVeU/VVVVVVVV5T9VVVVVVVXlP1VVVVVVVeU/VVVVVVVV5T9VVVVVVVXlPwAAAAAAAOg/q6qqqqqq6j+rqqqqqqrqP6uqqqqqquo/VVVVVVVV7T9VVVVVVVXtP1VVVVVVVe0/VVVVVVVV7T9VVVVVVVXtP1VVVVVVVe0/VVVVVVVV7T9VVVVVVVXtP1VVVVVVVe0/AAAAAAAA8D8AAAAAAADwPwAAAAAAAPA/AAAAAAAA8D8AAAAAAADwPwAAAAAAAPA/AAAAAAAA8D8AAAAAAADwPwAAAAAAAPA/AAAAAAAA8D8AAAAAAADwPwAAAAAAAPA/AAAAAAAA8D8AAAAAAADwPwAAAAAAAPA/AAAAAAAA8D8AAAAAAADwPw==",
          "dtype": "f8"
         }
        },
        {
         "hoverinfo": "name+x+y",
         "line": {
          "width": 2
         },
         "mode": "lines",
         "name": "sedative (AUC=0.83)",
         "opacity": 0.7,
         "type": "scatter",
         "x": {
          "bdata": "AAAAAAAAAAAAAAAAAAAAABQUFBQUFHQ/Hh4eHh4ejj8eHh4eHh6OPxQUFBQUFJQ/FBQUFBQUlD8eHh4eHh6ePxkZGRkZGak/GRkZGRkZqT+cm5ubm5urP5ybm5ubm6s/kpGRkZGRsT+SkZGRkZGxPxQUFBQUFLQ/l5aWlpaWtj8ZGRkZGRm5P93c3Nzc3Lw/8fDw8PDwwD/T0tLS0tLCPxQUFBQUFMQ/VVVVVVVVxT83Nzc3NzfHP9jX19fX18c/3dzc3NzczD8eHh4eHh7OP/Hw8PDw8NA/8fDw8PDw0D+SkZGRkZHRPzIyMjIyMtI/xMPDw8PD0z8FBQUFBQXVP4iHh4eHh9c/KCgoKCgo2D94eHh4eHjYPxkZGRkZGdk/+/r6+vr62j/7+vr6+vraP+zr6+vr69s/7Ovr6+vr2z+NjIyMjIzcP7Cvr6+vr98/KCgoKCgo4D+hoKCgoKDgP6GgoKCgoOA/urm5ubm54T8KCgoKCgriP8TDw8PDw+M/PDw8PDw85D9VVVVVVVXlP6alpaWlpeU/zs3Nzc3N5T9ubm5ubm7mPwAAAAAAAOg/UFBQUFBQ6D94eHh4eHjoP/Hw8PDw8Og/+/r6+vr66j+cm5ubm5vrP7++vr6+vu4/X19fX19f7z8AAAAAAADwPw==",
          "dtype": "f8"
         },
         "y": {
          "bdata": "AAAAAAAAAABVVVVVVVW1P1VVVVVVVbU/VVVVVVVVtT9VVVVVVVXFP1VVVVVVVcU/VVVVVVVV1T9VVVVVVVXVP1VVVVVVVdU/q6qqqqqq2j+rqqqqqqraPwAAAAAAAOA/AAAAAAAA4D+rqqqqqqriP6uqqqqqquI/q6qqqqqq4j+rqqqqqqriP6uqqqqqquI/q6qqqqqq4j+rqqqqqqriP6uqqqqqquI/q6qqqqqq4j+rqqqqqqriP1VVVVVVVeU/VVVVVVVV5T9VVVVVVVXlP1VVVVVVVeU/AAAAAAAA6D8AAAAAAADoPwAAAAAAAOg/AAAAAAAA6D8AAAAAAADoPwAAAAAAAOg/AAAAAAAA6D8AAAAAAADoPwAAAAAAAOg/AAAAAAAA6D+rqqqqqqrqP6uqqqqqquo/VVVVVVVV7T9VVVVVVVXtP1VVVVVVVe0/VVVVVVVV7T9VVVVVVVXtPwAAAAAAAPA/AAAAAAAA8D8AAAAAAADwPwAAAAAAAPA/AAAAAAAA8D8AAAAAAADwPwAAAAAAAPA/AAAAAAAA8D8AAAAAAADwPwAAAAAAAPA/AAAAAAAA8D8AAAAAAADwPwAAAAAAAPA/AAAAAAAA8D8AAAAAAADwPwAAAAAAAPA/AAAAAAAA8D8AAAAAAADwPw==",
          "dtype": "f8"
         }
        },
        {
         "hoverinfo": "name+x+y",
         "line": {
          "width": 2
         },
         "mode": "lines",
         "name": "skin (AUC=0.89)",
         "opacity": 0.7,
         "type": "scatter",
         "x": {
          "bdata": "AAAAAAAAAAAAAAAAAAAAAAAAAAAAAAAAFBQUFBQUhD8UFBQUFBSEPxkZGRkZGZk/FBQUFBQUpD8UFBQUFBSkP5eWlpaWlqY/l5aWlpaWpj8ZGRkZGRmpPx4eHh4eHq4/WlpaWlpauj+cm5ubm5u7Px4eHh4eHr4/8fDw8PDwwD/x8PDw8PDAP5eWlpaWlsY/l5aWlpaWxj/7+vr6+vrKP319fX19fc0/UFBQUFBQ0D/x8PDw8PDQP+Lh4eHh4dE/g4KCgoKC0j8jIyMjIyPTPxQUFBQUFNQ/ZGRkZGRk1D9kZGRkZGTUPwUFBQUFBdU/WlpaWlpa2j/7+vr6+vraP0tLS0tLS9s/7Ovr6+vr2z99fX19fX3dP319fX19fd0/UFBQUFBQ4D/JyMjIyMjgPxkZGRkZGeE/IyMjIyMj4z/s6+vr6+vjP319fX19feU/zs3Nzc3N5T9BQUFBQUHpP5KRkZGRkek/4uHh4eHh6T+DgoKCgoLqP3Nzc3Nzc+s/FBQUFBQU7D88PDw8PDzsP42MjIyMjOw/BQUFBQUF7T9VVVVVVVXtP319fX19fe0/zs3Nzc3N7T9fX19fX1/vPwAAAAAAAPA/",
          "dtype": "f8"
         },
         "y": {
          "bdata": "AAAAAAAAAABVVVVVVVW1PwAAAAAAANA/AAAAAAAA0D+rqqqqqqraP6uqqqqqqto/q6qqqqqq2j8AAAAAAADgPwAAAAAAAOA/q6qqqqqq4j+rqqqqqqriP6uqqqqqquI/q6qqqqqq4j9VVVVVVVXlP1VVVVVVVeU/VVVVVVVV5T8AAAAAAADoPwAAAAAAAOg/q6qqqqqq6j+rqqqqqqrqP6uqqqqqquo/q6qqqqqq6j+rqqqqqqrqP6uqqqqqquo/q6qqqqqq6j+rqqqqqqrqP6uqqqqqquo/q6qqqqqq6j9VVVVVVVXtP1VVVVVVVe0/VVVVVVVV7T9VVVVVVVXtP1VVVVVVVe0/VVVVVVVV7T9VVVVVVVXtPwAAAAAAAPA/AAAAAAAA8D8AAAAAAADwPwAAAAAAAPA/AAAAAAAA8D8AAAAAAADwPwAAAAAAAPA/AAAAAAAA8D8AAAAAAADwPwAAAAAAAPA/AAAAAAAA8D8AAAAAAADwPwAAAAAAAPA/AAAAAAAA8D8AAAAAAADwPwAAAAAAAPA/AAAAAAAA8D8AAAAAAADwPwAAAAAAAPA/AAAAAAAA8D8AAAAAAADwPwAAAAAAAPA/",
          "dtype": "f8"
         }
        },
        {
         "hoverinfo": "name+x+y",
         "line": {
          "width": 2
         },
         "mode": "lines",
         "name": "stimulant (AUC=0.89)",
         "opacity": 0.7,
         "type": "scatter",
         "x": {
          "bdata": "AAAAAAAAAAAUFBQUFBR0PxQUFBQUFHQ/FBQUFBQUhD8UFBQUFBSUPxQUFBQUFJQ/kpGRkZGRoT+SkZGRkZGhP5eWlpaWlqY/GRkZGRkZqT+cm5ubm5urPx4eHh4eHq4/kpGRkZGRsT/T0tLS0tKyPxQUFBQUFLQ/GRkZGRkZuT9aWlpaWlq6P1paWlpaWro/UFBQUFBQwD+SkZGRkZHBP9PS0tLS0sI/FBQUFBQUxD/29fX19fXFP/b19fX19cU/Nzc3Nzc3xz8ZGRkZGRnJP6GgoKCgoNA/QUFBQUFB0T/n5ubm5ubWP4iHh4eHh9c/KCgoKCgo2D8ZGRkZGRnZP2lpaWlpadk/WlpaWlpa2j+cm5ubm5vbP42MjIyMjNw/zs3Nzc3N3T9ubm5ubm7ePw8PDw8PD98/KCgoKCgo4D88PDw8PDzkP42MjIyMjOQ/RkZGRkZG5j+XlpaWlpbmP7++vr6+vuY/v76+vr6+5j8PDw8PDw/nPzc3Nzc3N+c/iIeHh4eH5z+DgoKCgoLqP9PS0tLS0uo/VVVVVVVV7T+mpaWlpaXtPwAAAAAAAPA/",
          "dtype": "f8"
         },
         "y": {
          "bdata": "AAAAAAAAAAAAAAAAAAAAAFVVVVVVVcU/AAAAAAAA0D8AAAAAAADQP1VVVVVVVdU/VVVVVVVV1T+rqqqqqqraP6uqqqqqqto/AAAAAAAA4D8AAAAAAADgP6uqqqqqquI/q6qqqqqq4j+rqqqqqqriP1VVVVVVVeU/AAAAAAAA6D8AAAAAAADoP6uqqqqqquo/q6qqqqqq6j+rqqqqqqrqP6uqqqqqquo/q6qqqqqq6j+rqqqqqqrqP1VVVVVVVe0/VVVVVVVV7T9VVVVVVVXtP1VVVVVVVe0/VVVVVVVV7T9VVVVVVVXtP1VVVVVVVe0/VVVVVVVV7T9VVVVVVVXtP1VVVVVVVe0/VVVVVVVV7T9VVVVVVVXtP1VVVVVVVe0/VVVVVVVV7T9VVVVVVVXtP1VVVVVVVe0/VVVVVVVV7T9VVVVVVVXtP1VVVVVVVe0/VVVVVVVV7T9VVVVVVVXtP1VVVVVVVe0/AAAAAAAA8D8AAAAAAADwPwAAAAAAAPA/AAAAAAAA8D8AAAAAAADwPwAAAAAAAPA/AAAAAAAA8D8AAAAAAADwPwAAAAAAAPA/",
          "dtype": "f8"
         }
        },
        {
         "hoverinfo": "name+x+y",
         "line": {
          "width": 2
         },
         "mode": "lines",
         "name": "stomachic (AUC=0.76)",
         "opacity": 0.7,
         "type": "scatter",
         "x": {
          "bdata": "AAAAAAAAAAAUFBQUFBR0PxQUFBQUFHQ/FBQUFBQUlD8UFBQUFBSUPxQUFBQUFKQ/FBQUFBQUpD+SkZGRkZGxP5KRkZGRkbE/VVVVVVVVtT/Y19fX19e3P1paWlpaWro/Hh4eHh4evj8yMjIyMjLCP3Nzc3Nzc8M/VVVVVVVVxT/29fX19fXFP9jX19fX18c/GRkZGRkZyT9aWlpaWlrKP5ybm5ubm8s/PDw8PDw8zD99fX19fX3NP7++vr6+vs4/AAAAAAAA0D/x8PDw8PDQP5KRkZGRkdE/09LS0tLS0j9zc3Nzc3PTP8TDw8PDw9M/VVVVVVVV1T/Y19fX19fXP3h4eHh4eNg/fX19fX193T9ubm5ubm7eP7Cvr6+vr98/KCgoKCgo4D/x8PDw8PDgPxkZGRkZGeE/GRkZGRkZ4T9paWlpaWnhP7q5ubm5ueE/c3Nzc3Nz4z9zc3Nzc3PjPxQUFBQUFOQ/jYyMjIyM5D/d3Nzc3NzkP1VVVVVVVeU/zs3Nzc3N5T8eHh4eHh7mP4iHh4eHh+c/2NfX19fX5z9paWlpaWnpPwoKCgoKCuo/xMPDw8PD6z/Ew8PDw8PrPwAAAAAAAPA/",
          "dtype": "f8"
         },
         "y": {
          "bdata": "AAAAAAAAAABVVVVVVVW1PwAAAAAAANA/AAAAAAAA0D+rqqqqqqraP6uqqqqqqto/AAAAAAAA4D8AAAAAAADgP6uqqqqqquI/q6qqqqqq4j+rqqqqqqriP6uqqqqqquI/q6qqqqqq4j+rqqqqqqriP6uqqqqqquI/q6qqqqqq4j9VVVVVVVXlP1VVVVVVVeU/VVVVVVVV5T9VVVVVVVXlP1VVVVVVVeU/VVVVVVVV5T9VVVVVVVXlP1VVVVVVVeU/VVVVVVVV5T9VVVVVVVXlP1VVVVVVVeU/VVVVVVVV5T9VVVVVVVXlP1VVVVVVVeU/VVVVVVVV5T9VVVVVVVXlP1VVVVVVVeU/VVVVVVVV5T9VVVVVVVXlP1VVVVVVVeU/VVVVVVVV5T9VVVVVVVXlPwAAAAAAAOg/q6qqqqqq6j+rqqqqqqrqP6uqqqqqquo/q6qqqqqq6j9VVVVVVVXtP1VVVVVVVe0/VVVVVVVV7T9VVVVVVVXtP1VVVVVVVe0/VVVVVVVV7T9VVVVVVVXtP1VVVVVVVe0/VVVVVVVV7T9VVVVVVVXtP1VVVVVVVe0/VVVVVVVV7T8AAAAAAADwPwAAAAAAAPA/",
          "dtype": "f8"
         }
        },
        {
         "hoverinfo": "name+x+y",
         "line": {
          "width": 2
         },
         "mode": "lines",
         "name": "styptic (AUC=0.77)",
         "opacity": 0.7,
         "type": "scatter",
         "x": {
          "bdata": "AAAAAAAAAAAUFBQUFBR0PxQUFBQUFHQ/Hh4eHh4ejj8eHh4eHh6OPxQUFBQUFJQ/l5aWlpaWpj8ZGRkZGRmpP1BQUFBQULA/09LS0tLSsj/T0tLS0tKyP9jX19fX17c/2NfX19fXtz9aWlpaWlq6P5ybm5ubm7s/MjIyMjIywj9zc3Nzc3PDPxQUFBQUFMQ/VVVVVVVVxT9VVVVVVVXFP/b19fX19cU/Nzc3Nzc3xz8ZGRkZGRnJP319fX19fc0/fX19fX19zT+DgoKCgoLSPyMjIyMjI9M/ZGRkZGRk1D8FBQUFBQXVP+fm5ubm5tY/iIeHh4eH1z9paWlpaWnZPwoKCgoKCto/q6qqqqqq2j9LS0tLS0vbP0tLS0tLS9s/LS0tLS0t3T99fX19fX3dP19fX19fX98/AAAAAAAA4D8ZGRkZGRnhP2lpaWlpaeE/CgoKCgoK4j9aWlpaWlriP6uqqqqqquI/09LS0tLS4j9LS0tLS0vjP7++vr6+vuY/X19fX19f5z/Y19fX19fnPygoKCgoKOg/g4KCgoKC6j/T0tLS0tLqPyMjIyMjI+s/xMPDw8PD6z88PDw8PDzsP42MjIyMjOw/AAAAAAAA8D8=",
          "dtype": "f8"
         },
         "y": {
          "bdata": "AAAAAAAAAAAAAAAAAAAAAFVVVVVVVbU/VVVVVVVVtT9VVVVVVVXFP1VVVVVVVcU/VVVVVVVVxT9VVVVVVVXFP1VVVVVVVcU/VVVVVVVVxT8AAAAAAADQPwAAAAAAANA/VVVVVVVV1T9VVVVVVVXVP6uqqqqqqto/q6qqqqqq2j+rqqqqqqraP6uqqqqqqto/q6qqqqqq2j8AAAAAAADgPwAAAAAAAOA/AAAAAAAA4D+rqqqqqqriP6uqqqqqquI/VVVVVVVV5T9VVVVVVVXlP1VVVVVVVeU/VVVVVVVV5T9VVVVVVVXlP1VVVVVVVeU/VVVVVVVV5T9VVVVVVVXlPwAAAAAAAOg/AAAAAAAA6D8AAAAAAADoP6uqqqqqquo/q6qqqqqq6j9VVVVVVVXtP1VVVVVVVe0/VVVVVVVV7T9VVVVVVVXtPwAAAAAAAPA/AAAAAAAA8D8AAAAAAADwPwAAAAAAAPA/AAAAAAAA8D8AAAAAAADwPwAAAAAAAPA/AAAAAAAA8D8AAAAAAADwPwAAAAAAAPA/AAAAAAAA8D8AAAAAAADwPwAAAAAAAPA/AAAAAAAA8D8AAAAAAADwPwAAAAAAAPA/AAAAAAAA8D8=",
          "dtype": "f8"
         }
        },
        {
         "hoverinfo": "name+x+y",
         "line": {
          "width": 2
         },
         "mode": "lines",
         "name": "tonic (AUC=0.75)",
         "opacity": 0.7,
         "type": "scatter",
         "x": {
          "bdata": "AAAAAAAAAAAAAAAAAAAAAAAAAAAAAAAAFBQUFBQUdD8UFBQUFBR0Px4eHh4eHo4/Hh4eHh4ejj8UFBQUFBS0P5eWlpaWlrY/WlpaWlpauj/d3Nzc3Ny8P/Hw8PDw8MA/MjIyMjIywj8ZGRkZGRnJP1paWlpaWso/+/r6+vr6yj/d3Nzc3NzMP7++vr6+vs4/oaCgoKCg0D/i4eHh4eHRP+Lh4eHh4dE/aWlpaWlp2T8KCgoKCgraP1paWlpaWto/+/r6+vr62j+cm5ubm5vbP42MjIyMjNw/fX19fX193T8eHh4eHh7ePw8PDw8PD98/KCgoKCgo4D+hoKCgoKDgP/Hw8PDw8OA/WlpaWlpa4j9LS0tLS0vjP3Nzc3Nzc+M/7Ovr6+vr4z+XlpaWlpbmP+fm5ubm5uY/KCgoKCgo6D8oKCgoKCjoP/Hw8PDw8Og/QUFBQUFB6T/i4eHh4eHpP+Lh4eHh4ek/WlpaWlpa6j+rqqqqqqrqP0tLS0tLS+s/7Ovr6+vr6z9VVVVVVVXtP87Nzc3Nze0/bm5ubm5u7j+/vr6+vr7uP7Cvr6+vr+8/AAAAAAAA8D8=",
          "dtype": "f8"
         },
         "y": {
          "bdata": "AAAAAAAAAABVVVVVVVW1P1VVVVVVVcU/VVVVVVVVxT9VVVVVVVXVP1VVVVVVVdU/AAAAAAAA4D8AAAAAAADgPwAAAAAAAOA/AAAAAAAA4D8AAAAAAADgPwAAAAAAAOA/AAAAAAAA4D8AAAAAAADgPwAAAAAAAOA/q6qqqqqq4j+rqqqqqqriP6uqqqqqquI/q6qqqqqq4j+rqqqqqqriP1VVVVVVVeU/VVVVVVVV5T9VVVVVVVXlPwAAAAAAAOg/AAAAAAAA6D8AAAAAAADoPwAAAAAAAOg/AAAAAAAA6D8AAAAAAADoPwAAAAAAAOg/q6qqqqqq6j+rqqqqqqrqP6uqqqqqquo/q6qqqqqq6j+rqqqqqqrqP6uqqqqqquo/q6qqqqqq6j+rqqqqqqrqP6uqqqqqquo/q6qqqqqq6j9VVVVVVVXtP1VVVVVVVe0/VVVVVVVV7T9VVVVVVVXtPwAAAAAAAPA/AAAAAAAA8D8AAAAAAADwPwAAAAAAAPA/AAAAAAAA8D8AAAAAAADwPwAAAAAAAPA/AAAAAAAA8D8AAAAAAADwPwAAAAAAAPA/AAAAAAAA8D8=",
          "dtype": "f8"
         }
        },
        {
         "hoverinfo": "name+x+y",
         "line": {
          "width": 2
         },
         "mode": "lines",
         "name": "vermifuge (AUC=0.83)",
         "opacity": 0.7,
         "type": "scatter",
         "x": {
          "bdata": "AAAAAAAAAAAAAAAAAAAAAAAAAAAAAAAAFBQUFBQUpD8UFBQUFBSkP5eWlpaWlqY/l5aWlpaWpj8ZGRkZGRmpP9PS0tLS0rI/VVVVVVVVtT+SkZGRkZHBP5KRkZGRkcE/09LS0tLSwj+1tLS0tLTEP7q5ubm5uck/+/r6+vr6yj+cm5ubm5vLP319fX19fc0/v76+vr6+zj9QUFBQUFDQP4OCgoKCgtI/IyMjIyMj0z8jIyMjIyPTPxQUFBQUFNQ/tbS0tLS01D9LS0tLS0vbP42MjIyMjNw/fX19fX193T8eHh4eHh7eP7++vr6+vt4/X19fX19f3z+wr6+vr6/fP7Cvr6+vr98/aWlpaWlp4T8yMjIyMjLiP4OCgoKCguI/q6qqqqqq4j9LS0tLS0vjP3Nzc3Nzc+M/7Ovr6+vr4z+1tLS0tLTkPwUFBQUFBeU/Nzc3Nzc35z/Y19fX19fnP0FBQUFBQek/kpGRkZGR6T8jIyMjIyPrP3Nzc3Nzc+s/3dzc3Nzc7D8tLS0tLS3tP/b19fX19e0/RkZGRkZG7j9ubm5ubm7uP7++vr6+vu4/5+bm5ubm7j83Nzc3NzfvPwAAAAAAAPA/",
          "dtype": "f8"
         },
         "y": {
          "bdata": "AAAAAAAAAABVVVVVVVW1PwAAAAAAANA/AAAAAAAA0D9VVVVVVVXVP1VVVVVVVdU/q6qqqqqq2j8AAAAAAADgPwAAAAAAAOA/AAAAAAAA4D8AAAAAAADgP6uqqqqqquI/q6qqqqqq4j9VVVVVVVXlP1VVVVVVVeU/AAAAAAAA6D8AAAAAAADoPwAAAAAAAOg/AAAAAAAA6D8AAAAAAADoPwAAAAAAAOg/AAAAAAAA6D+rqqqqqqrqP6uqqqqqquo/q6qqqqqq6j+rqqqqqqrqP6uqqqqqquo/q6qqqqqq6j+rqqqqqqrqP6uqqqqqquo/q6qqqqqq6j+rqqqqqqrqP1VVVVVVVe0/VVVVVVVV7T9VVVVVVVXtP1VVVVVVVe0/AAAAAAAA8D8AAAAAAADwPwAAAAAAAPA/AAAAAAAA8D8AAAAAAADwPwAAAAAAAPA/AAAAAAAA8D8AAAAAAADwPwAAAAAAAPA/AAAAAAAA8D8AAAAAAADwPwAAAAAAAPA/AAAAAAAA8D8AAAAAAADwPwAAAAAAAPA/AAAAAAAA8D8AAAAAAADwPwAAAAAAAPA/AAAAAAAA8D8AAAAAAADwPwAAAAAAAPA/",
          "dtype": "f8"
         }
        }
       ],
       "layout": {
        "clickmode": "none",
        "height": 600,
        "legend": {
         "itemclick": "toggleothers",
         "itemdoubleclick": "toggle",
         "orientation": "h",
         "title": {
          "text": "Click to isolate trace"
         },
         "x": 0,
         "y": -0.1
        },
        "margin": {
         "b": 100,
         "l": 50,
         "r": 50,
         "t": 50
        },
        "template": {
         "data": {
          "bar": [
           {
            "error_x": {
             "color": "#2a3f5f"
            },
            "error_y": {
             "color": "#2a3f5f"
            },
            "marker": {
             "line": {
              "color": "#E5ECF6",
              "width": 0.5
             },
             "pattern": {
              "fillmode": "overlay",
              "size": 10,
              "solidity": 0.2
             }
            },
            "type": "bar"
           }
          ],
          "barpolar": [
           {
            "marker": {
             "line": {
              "color": "#E5ECF6",
              "width": 0.5
             },
             "pattern": {
              "fillmode": "overlay",
              "size": 10,
              "solidity": 0.2
             }
            },
            "type": "barpolar"
           }
          ],
          "carpet": [
           {
            "aaxis": {
             "endlinecolor": "#2a3f5f",
             "gridcolor": "white",
             "linecolor": "white",
             "minorgridcolor": "white",
             "startlinecolor": "#2a3f5f"
            },
            "baxis": {
             "endlinecolor": "#2a3f5f",
             "gridcolor": "white",
             "linecolor": "white",
             "minorgridcolor": "white",
             "startlinecolor": "#2a3f5f"
            },
            "type": "carpet"
           }
          ],
          "choropleth": [
           {
            "colorbar": {
             "outlinewidth": 0,
             "ticks": ""
            },
            "type": "choropleth"
           }
          ],
          "contour": [
           {
            "colorbar": {
             "outlinewidth": 0,
             "ticks": ""
            },
            "colorscale": [
             [
              0,
              "#0d0887"
             ],
             [
              0.1111111111111111,
              "#46039f"
             ],
             [
              0.2222222222222222,
              "#7201a8"
             ],
             [
              0.3333333333333333,
              "#9c179e"
             ],
             [
              0.4444444444444444,
              "#bd3786"
             ],
             [
              0.5555555555555556,
              "#d8576b"
             ],
             [
              0.6666666666666666,
              "#ed7953"
             ],
             [
              0.7777777777777778,
              "#fb9f3a"
             ],
             [
              0.8888888888888888,
              "#fdca26"
             ],
             [
              1,
              "#f0f921"
             ]
            ],
            "type": "contour"
           }
          ],
          "contourcarpet": [
           {
            "colorbar": {
             "outlinewidth": 0,
             "ticks": ""
            },
            "type": "contourcarpet"
           }
          ],
          "heatmap": [
           {
            "colorbar": {
             "outlinewidth": 0,
             "ticks": ""
            },
            "colorscale": [
             [
              0,
              "#0d0887"
             ],
             [
              0.1111111111111111,
              "#46039f"
             ],
             [
              0.2222222222222222,
              "#7201a8"
             ],
             [
              0.3333333333333333,
              "#9c179e"
             ],
             [
              0.4444444444444444,
              "#bd3786"
             ],
             [
              0.5555555555555556,
              "#d8576b"
             ],
             [
              0.6666666666666666,
              "#ed7953"
             ],
             [
              0.7777777777777778,
              "#fb9f3a"
             ],
             [
              0.8888888888888888,
              "#fdca26"
             ],
             [
              1,
              "#f0f921"
             ]
            ],
            "type": "heatmap"
           }
          ],
          "histogram": [
           {
            "marker": {
             "pattern": {
              "fillmode": "overlay",
              "size": 10,
              "solidity": 0.2
             }
            },
            "type": "histogram"
           }
          ],
          "histogram2d": [
           {
            "colorbar": {
             "outlinewidth": 0,
             "ticks": ""
            },
            "colorscale": [
             [
              0,
              "#0d0887"
             ],
             [
              0.1111111111111111,
              "#46039f"
             ],
             [
              0.2222222222222222,
              "#7201a8"
             ],
             [
              0.3333333333333333,
              "#9c179e"
             ],
             [
              0.4444444444444444,
              "#bd3786"
             ],
             [
              0.5555555555555556,
              "#d8576b"
             ],
             [
              0.6666666666666666,
              "#ed7953"
             ],
             [
              0.7777777777777778,
              "#fb9f3a"
             ],
             [
              0.8888888888888888,
              "#fdca26"
             ],
             [
              1,
              "#f0f921"
             ]
            ],
            "type": "histogram2d"
           }
          ],
          "histogram2dcontour": [
           {
            "colorbar": {
             "outlinewidth": 0,
             "ticks": ""
            },
            "colorscale": [
             [
              0,
              "#0d0887"
             ],
             [
              0.1111111111111111,
              "#46039f"
             ],
             [
              0.2222222222222222,
              "#7201a8"
             ],
             [
              0.3333333333333333,
              "#9c179e"
             ],
             [
              0.4444444444444444,
              "#bd3786"
             ],
             [
              0.5555555555555556,
              "#d8576b"
             ],
             [
              0.6666666666666666,
              "#ed7953"
             ],
             [
              0.7777777777777778,
              "#fb9f3a"
             ],
             [
              0.8888888888888888,
              "#fdca26"
             ],
             [
              1,
              "#f0f921"
             ]
            ],
            "type": "histogram2dcontour"
           }
          ],
          "mesh3d": [
           {
            "colorbar": {
             "outlinewidth": 0,
             "ticks": ""
            },
            "type": "mesh3d"
           }
          ],
          "parcoords": [
           {
            "line": {
             "colorbar": {
              "outlinewidth": 0,
              "ticks": ""
             }
            },
            "type": "parcoords"
           }
          ],
          "pie": [
           {
            "automargin": true,
            "type": "pie"
           }
          ],
          "scatter": [
           {
            "fillpattern": {
             "fillmode": "overlay",
             "size": 10,
             "solidity": 0.2
            },
            "type": "scatter"
           }
          ],
          "scatter3d": [
           {
            "line": {
             "colorbar": {
              "outlinewidth": 0,
              "ticks": ""
             }
            },
            "marker": {
             "colorbar": {
              "outlinewidth": 0,
              "ticks": ""
             }
            },
            "type": "scatter3d"
           }
          ],
          "scattercarpet": [
           {
            "marker": {
             "colorbar": {
              "outlinewidth": 0,
              "ticks": ""
             }
            },
            "type": "scattercarpet"
           }
          ],
          "scattergeo": [
           {
            "marker": {
             "colorbar": {
              "outlinewidth": 0,
              "ticks": ""
             }
            },
            "type": "scattergeo"
           }
          ],
          "scattergl": [
           {
            "marker": {
             "colorbar": {
              "outlinewidth": 0,
              "ticks": ""
             }
            },
            "type": "scattergl"
           }
          ],
          "scattermap": [
           {
            "marker": {
             "colorbar": {
              "outlinewidth": 0,
              "ticks": ""
             }
            },
            "type": "scattermap"
           }
          ],
          "scattermapbox": [
           {
            "marker": {
             "colorbar": {
              "outlinewidth": 0,
              "ticks": ""
             }
            },
            "type": "scattermapbox"
           }
          ],
          "scatterpolar": [
           {
            "marker": {
             "colorbar": {
              "outlinewidth": 0,
              "ticks": ""
             }
            },
            "type": "scatterpolar"
           }
          ],
          "scatterpolargl": [
           {
            "marker": {
             "colorbar": {
              "outlinewidth": 0,
              "ticks": ""
             }
            },
            "type": "scatterpolargl"
           }
          ],
          "scatterternary": [
           {
            "marker": {
             "colorbar": {
              "outlinewidth": 0,
              "ticks": ""
             }
            },
            "type": "scatterternary"
           }
          ],
          "surface": [
           {
            "colorbar": {
             "outlinewidth": 0,
             "ticks": ""
            },
            "colorscale": [
             [
              0,
              "#0d0887"
             ],
             [
              0.1111111111111111,
              "#46039f"
             ],
             [
              0.2222222222222222,
              "#7201a8"
             ],
             [
              0.3333333333333333,
              "#9c179e"
             ],
             [
              0.4444444444444444,
              "#bd3786"
             ],
             [
              0.5555555555555556,
              "#d8576b"
             ],
             [
              0.6666666666666666,
              "#ed7953"
             ],
             [
              0.7777777777777778,
              "#fb9f3a"
             ],
             [
              0.8888888888888888,
              "#fdca26"
             ],
             [
              1,
              "#f0f921"
             ]
            ],
            "type": "surface"
           }
          ],
          "table": [
           {
            "cells": {
             "fill": {
              "color": "#EBF0F8"
             },
             "line": {
              "color": "white"
             }
            },
            "header": {
             "fill": {
              "color": "#C8D4E3"
             },
             "line": {
              "color": "white"
             }
            },
            "type": "table"
           }
          ]
         },
         "layout": {
          "annotationdefaults": {
           "arrowcolor": "#2a3f5f",
           "arrowhead": 0,
           "arrowwidth": 1
          },
          "autotypenumbers": "strict",
          "coloraxis": {
           "colorbar": {
            "outlinewidth": 0,
            "ticks": ""
           }
          },
          "colorscale": {
           "diverging": [
            [
             0,
             "#8e0152"
            ],
            [
             0.1,
             "#c51b7d"
            ],
            [
             0.2,
             "#de77ae"
            ],
            [
             0.3,
             "#f1b6da"
            ],
            [
             0.4,
             "#fde0ef"
            ],
            [
             0.5,
             "#f7f7f7"
            ],
            [
             0.6,
             "#e6f5d0"
            ],
            [
             0.7,
             "#b8e186"
            ],
            [
             0.8,
             "#7fbc41"
            ],
            [
             0.9,
             "#4d9221"
            ],
            [
             1,
             "#276419"
            ]
           ],
           "sequential": [
            [
             0,
             "#0d0887"
            ],
            [
             0.1111111111111111,
             "#46039f"
            ],
            [
             0.2222222222222222,
             "#7201a8"
            ],
            [
             0.3333333333333333,
             "#9c179e"
            ],
            [
             0.4444444444444444,
             "#bd3786"
            ],
            [
             0.5555555555555556,
             "#d8576b"
            ],
            [
             0.6666666666666666,
             "#ed7953"
            ],
            [
             0.7777777777777778,
             "#fb9f3a"
            ],
            [
             0.8888888888888888,
             "#fdca26"
            ],
            [
             1,
             "#f0f921"
            ]
           ],
           "sequentialminus": [
            [
             0,
             "#0d0887"
            ],
            [
             0.1111111111111111,
             "#46039f"
            ],
            [
             0.2222222222222222,
             "#7201a8"
            ],
            [
             0.3333333333333333,
             "#9c179e"
            ],
            [
             0.4444444444444444,
             "#bd3786"
            ],
            [
             0.5555555555555556,
             "#d8576b"
            ],
            [
             0.6666666666666666,
             "#ed7953"
            ],
            [
             0.7777777777777778,
             "#fb9f3a"
            ],
            [
             0.8888888888888888,
             "#fdca26"
            ],
            [
             1,
             "#f0f921"
            ]
           ]
          },
          "colorway": [
           "#636efa",
           "#EF553B",
           "#00cc96",
           "#ab63fa",
           "#FFA15A",
           "#19d3f3",
           "#FF6692",
           "#B6E880",
           "#FF97FF",
           "#FECB52"
          ],
          "font": {
           "color": "#2a3f5f"
          },
          "geo": {
           "bgcolor": "white",
           "lakecolor": "white",
           "landcolor": "#E5ECF6",
           "showlakes": true,
           "showland": true,
           "subunitcolor": "white"
          },
          "hoverlabel": {
           "align": "left"
          },
          "hovermode": "closest",
          "mapbox": {
           "style": "light"
          },
          "paper_bgcolor": "white",
          "plot_bgcolor": "#E5ECF6",
          "polar": {
           "angularaxis": {
            "gridcolor": "white",
            "linecolor": "white",
            "ticks": ""
           },
           "bgcolor": "#E5ECF6",
           "radialaxis": {
            "gridcolor": "white",
            "linecolor": "white",
            "ticks": ""
           }
          },
          "scene": {
           "xaxis": {
            "backgroundcolor": "#E5ECF6",
            "gridcolor": "white",
            "gridwidth": 2,
            "linecolor": "white",
            "showbackground": true,
            "ticks": "",
            "zerolinecolor": "white"
           },
           "yaxis": {
            "backgroundcolor": "#E5ECF6",
            "gridcolor": "white",
            "gridwidth": 2,
            "linecolor": "white",
            "showbackground": true,
            "ticks": "",
            "zerolinecolor": "white"
           },
           "zaxis": {
            "backgroundcolor": "#E5ECF6",
            "gridcolor": "white",
            "gridwidth": 2,
            "linecolor": "white",
            "showbackground": true,
            "ticks": "",
            "zerolinecolor": "white"
           }
          },
          "shapedefaults": {
           "line": {
            "color": "#2a3f5f"
           }
          },
          "ternary": {
           "aaxis": {
            "gridcolor": "white",
            "linecolor": "white",
            "ticks": ""
           },
           "baxis": {
            "gridcolor": "white",
            "linecolor": "white",
            "ticks": ""
           },
           "bgcolor": "#E5ECF6",
           "caxis": {
            "gridcolor": "white",
            "linecolor": "white",
            "ticks": ""
           }
          },
          "title": {
           "x": 0.05
          },
          "xaxis": {
           "automargin": true,
           "gridcolor": "white",
           "linecolor": "white",
           "ticks": "",
           "title": {
            "standoff": 15
           },
           "zerolinecolor": "white",
           "zerolinewidth": 2
          },
          "yaxis": {
           "automargin": true,
           "gridcolor": "white",
           "linecolor": "white",
           "ticks": "",
           "title": {
            "standoff": 15
           },
           "zerolinecolor": "white",
           "zerolinewidth": 2
          }
         }
        },
        "title": {
         "text": "ROC Curves (AUC > 0.70)"
        },
        "width": 800,
        "xaxis": {
         "title": {
          "text": "False Positive Rate"
         }
        },
        "yaxis": {
         "title": {
          "text": "True Positive Rate"
         }
        }
       }
      }
     },
     "metadata": {},
     "output_type": "display_data"
    }
   ],
   "source": [
    "#######################################\n",
    "# ROC CURVE VISUALIZATION\n",
    "#######################################\n",
    "# 1) Extract the trained XGB and your test set\n",
    "xgb_model = df_smote_results['XGBoost']['model']\n",
    "y_true    = y_test                            # integer‐encoded labels\n",
    "X_test    = X_test\n",
    "classes   = label_encoder.classes_            # array of string labels\n",
    "\n",
    "# 2) Get probability estimates\n",
    "y_proba = xgb_model.predict_proba(X_test)     # shape (n_samples, n_classes)\n",
    "\n",
    "# 3) Compute ROC + AUC for each class\n",
    "roc_data = {}\n",
    "for idx, name in enumerate(classes):\n",
    "    y_true_bin = (y_true == idx).astype(int)\n",
    "    y_score    = y_proba[:, idx]\n",
    "    fpr, tpr, _ = roc_curve(y_true_bin, y_score)\n",
    "    roc_data[name] = (fpr, tpr, auc(fpr, tpr))\n",
    "\n",
    "# 4) Filter to only those with AUC > 0.7\n",
    "auc_threshold    = 0.7\n",
    "filtered_roc_data = {\n",
    "    name: data \n",
    "    for name, data in roc_data.items() \n",
    "    if data[2] > auc_threshold\n",
    "}\n",
    "print(f\"Plotting {len(filtered_roc_data)} classes with AUC > {auc_threshold}:\")\n",
    "print(list(filtered_roc_data.keys()))\n",
    "\n",
    "# 5) Build interactive ROC widget over the filtered set\n",
    "import plotly.graph_objs as go\n",
    "from plotly.subplots import make_subplots\n",
    "\n",
    "# assume filtered_roc_data is already defined as before\n",
    "\n",
    "# 5) Plot with Plotly for click-to-toggle traces\n",
    "import plotly.graph_objs as go\n",
    "from plotly.subplots import make_subplots\n",
    "\n",
    "# assume filtered_roc_data and auc_threshold are already defined\n",
    "\n",
    "# 1) Create the figure\n",
    "fig = go.Figure()\n",
    "\n",
    "# add the diagonal\n",
    "fig.add_trace(go.Scatter(\n",
    "    x=[0,1], y=[0,1],\n",
    "    mode='lines',\n",
    "    line=dict(color='black', dash='dash'),\n",
    "    showlegend=False,\n",
    "    hoverinfo='none'\n",
    "))\n",
    "\n",
    "# add one ROC line per class\n",
    "for name, (fpr, tpr, score) in filtered_roc_data.items():\n",
    "    fig.add_trace(go.Scatter(\n",
    "        x=fpr, y=tpr,\n",
    "        mode='lines',\n",
    "        name=f\"{name} (AUC={score:.2f})\",\n",
    "        line=dict(width=2),\n",
    "        opacity=0.7,\n",
    "        hoverinfo='name+x+y'\n",
    "    ))\n",
    "\n",
    "# 2) Update layout with toggle-others behavior\n",
    "# … your existing code to build `fig` …\n",
    "\n",
    "fig.update_layout(\n",
    "    title=f\"ROC Curves (AUC > {auc_threshold:.2f})\",\n",
    "    xaxis_title=\"False Positive Rate\",\n",
    "    yaxis_title=\"True Positive Rate\",\n",
    "    legend=dict(\n",
    "        title=\"Click to isolate trace\",\n",
    "        orientation=\"h\",\n",
    "        x=0, y=-0.1,\n",
    "        itemclick='toggleothers',\n",
    "        itemdoubleclick='toggle',\n",
    "    ),\n",
    "    margin=dict(l=50, r=50, t=50, b=100),\n",
    "    width=800, height=600,\n",
    "    clickmode='none'\n",
    ")\n",
    "\n",
    "# ▶️ Save to HTML:\n",
    "roc_filename = f\"roc_curves_auc_above_{int(auc_threshold*100)}.html\"\n",
    "fig.write_html(roc_filename, include_plotlyjs='cdn')\n",
    "print(f\"▶️ Saved ROC curves to {roc_filename}\")\n",
    "\n",
    "fig.show()"
   ]
  },
  {
   "cell_type": "code",
   "execution_count": null,
   "id": "7ab37772",
   "metadata": {},
   "outputs": [],
   "source": []
  }
 ],
 "metadata": {
  "kernelspec": {
   "display_name": "Python 3",
   "language": "python",
   "name": "python3"
  },
  "language_info": {
   "codemirror_mode": {
    "name": "ipython",
    "version": 3
   },
   "file_extension": ".py",
   "mimetype": "text/x-python",
   "name": "python",
   "nbconvert_exporter": "python",
   "pygments_lexer": "ipython3",
   "version": "3.9.6"
  }
 },
 "nbformat": 4,
 "nbformat_minor": 5
}
